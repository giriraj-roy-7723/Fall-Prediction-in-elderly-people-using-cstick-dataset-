{
 "cells": [
  {
   "cell_type": "code",
   "execution_count": 173,
   "id": "34669acd-cb52-4c41-a705-0aecdb87ca25",
   "metadata": {},
   "outputs": [],
   "source": [
    "import matplotlib.pyplot as plt\n",
    "from tensorflow import keras\n",
    "from tensorflow.keras import Sequential\n",
    "from tensorflow.keras.layers import Dense\n",
    "import numpy as np \n",
    "import pandas as pd\n",
    "import pickle"
   ]
  },
  {
   "cell_type": "code",
   "execution_count": 174,
   "id": "c9b7505d-5ee5-408e-8ca3-f6ecd38ffba1",
   "metadata": {},
   "outputs": [],
   "source": [
    "df=pd.read_csv(r\"C:\\Users\\GIRIRAJ ROY\\Downloads\\cStick.csv\")"
   ]
  },
  {
   "cell_type": "code",
   "execution_count": 175,
   "id": "23a0ebd4-6d61-4ff6-b20c-8a320063f426",
   "metadata": {},
   "outputs": [
    {
     "data": {
      "text/html": [
       "<div>\n",
       "<style scoped>\n",
       "    .dataframe tbody tr th:only-of-type {\n",
       "        vertical-align: middle;\n",
       "    }\n",
       "\n",
       "    .dataframe tbody tr th {\n",
       "        vertical-align: top;\n",
       "    }\n",
       "\n",
       "    .dataframe thead th {\n",
       "        text-align: right;\n",
       "    }\n",
       "</style>\n",
       "<table border=\"1\" class=\"dataframe\">\n",
       "  <thead>\n",
       "    <tr style=\"text-align: right;\">\n",
       "      <th></th>\n",
       "      <th>Distance</th>\n",
       "      <th>Pressure</th>\n",
       "      <th>HRV</th>\n",
       "      <th>Sugar level</th>\n",
       "      <th>SpO2</th>\n",
       "      <th>Accelerometer</th>\n",
       "      <th>Decision</th>\n",
       "    </tr>\n",
       "  </thead>\n",
       "  <tbody>\n",
       "    <tr>\n",
       "      <th>0</th>\n",
       "      <td>25.540</td>\n",
       "      <td>1.0</td>\n",
       "      <td>101.396</td>\n",
       "      <td>61.080</td>\n",
       "      <td>87.770</td>\n",
       "      <td>1.0</td>\n",
       "      <td>1</td>\n",
       "    </tr>\n",
       "    <tr>\n",
       "      <th>1</th>\n",
       "      <td>2.595</td>\n",
       "      <td>2.0</td>\n",
       "      <td>110.190</td>\n",
       "      <td>20.207</td>\n",
       "      <td>65.190</td>\n",
       "      <td>1.0</td>\n",
       "      <td>2</td>\n",
       "    </tr>\n",
       "    <tr>\n",
       "      <th>2</th>\n",
       "      <td>68.067</td>\n",
       "      <td>0.0</td>\n",
       "      <td>87.412</td>\n",
       "      <td>79.345</td>\n",
       "      <td>99.345</td>\n",
       "      <td>0.0</td>\n",
       "      <td>0</td>\n",
       "    </tr>\n",
       "    <tr>\n",
       "      <th>3</th>\n",
       "      <td>13.090</td>\n",
       "      <td>1.0</td>\n",
       "      <td>92.266</td>\n",
       "      <td>36.180</td>\n",
       "      <td>81.545</td>\n",
       "      <td>1.0</td>\n",
       "      <td>1</td>\n",
       "    </tr>\n",
       "    <tr>\n",
       "      <th>4</th>\n",
       "      <td>69.430</td>\n",
       "      <td>0.0</td>\n",
       "      <td>89.480</td>\n",
       "      <td>80.000</td>\n",
       "      <td>99.990</td>\n",
       "      <td>0.0</td>\n",
       "      <td>0</td>\n",
       "    </tr>\n",
       "    <tr>\n",
       "      <th>5</th>\n",
       "      <td>27.160</td>\n",
       "      <td>1.0</td>\n",
       "      <td>102.584</td>\n",
       "      <td>64.320</td>\n",
       "      <td>88.580</td>\n",
       "      <td>1.0</td>\n",
       "      <td>1</td>\n",
       "    </tr>\n",
       "    <tr>\n",
       "      <th>6</th>\n",
       "      <td>57.134</td>\n",
       "      <td>0.0</td>\n",
       "      <td>70.824</td>\n",
       "      <td>73.690</td>\n",
       "      <td>93.690</td>\n",
       "      <td>0.0</td>\n",
       "      <td>0</td>\n",
       "    </tr>\n",
       "    <tr>\n",
       "      <th>7</th>\n",
       "      <td>66.356</td>\n",
       "      <td>0.0</td>\n",
       "      <td>84.816</td>\n",
       "      <td>78.460</td>\n",
       "      <td>98.460</td>\n",
       "      <td>0.0</td>\n",
       "      <td>0</td>\n",
       "    </tr>\n",
       "    <tr>\n",
       "      <th>8</th>\n",
       "      <td>60.382</td>\n",
       "      <td>0.0</td>\n",
       "      <td>75.752</td>\n",
       "      <td>75.370</td>\n",
       "      <td>95.370</td>\n",
       "      <td>0.0</td>\n",
       "      <td>0</td>\n",
       "    </tr>\n",
       "    <tr>\n",
       "      <th>9</th>\n",
       "      <td>23.170</td>\n",
       "      <td>1.0</td>\n",
       "      <td>99.658</td>\n",
       "      <td>56.340</td>\n",
       "      <td>86.585</td>\n",
       "      <td>1.0</td>\n",
       "      <td>1</td>\n",
       "    </tr>\n",
       "  </tbody>\n",
       "</table>\n",
       "</div>"
      ],
      "text/plain": [
       "   Distance  Pressure      HRV  Sugar level    SpO2  Accelerometer  Decision \n",
       "0    25.540       1.0  101.396       61.080  87.770            1.0          1\n",
       "1     2.595       2.0  110.190       20.207  65.190            1.0          2\n",
       "2    68.067       0.0   87.412       79.345  99.345            0.0          0\n",
       "3    13.090       1.0   92.266       36.180  81.545            1.0          1\n",
       "4    69.430       0.0   89.480       80.000  99.990            0.0          0\n",
       "5    27.160       1.0  102.584       64.320  88.580            1.0          1\n",
       "6    57.134       0.0   70.824       73.690  93.690            0.0          0\n",
       "7    66.356       0.0   84.816       78.460  98.460            0.0          0\n",
       "8    60.382       0.0   75.752       75.370  95.370            0.0          0\n",
       "9    23.170       1.0   99.658       56.340  86.585            1.0          1"
      ]
     },
     "execution_count": 175,
     "metadata": {},
     "output_type": "execute_result"
    }
   ],
   "source": [
    "df.head(10)"
   ]
  },
  {
   "cell_type": "code",
   "execution_count": 176,
   "id": "4b937cae-9121-4af4-a195-d05b0ea5325c",
   "metadata": {},
   "outputs": [
    {
     "data": {
      "text/plain": [
       "(2039, 7)"
      ]
     },
     "execution_count": 176,
     "metadata": {},
     "output_type": "execute_result"
    }
   ],
   "source": [
    "df.shape"
   ]
  },
  {
   "cell_type": "code",
   "execution_count": 177,
   "id": "b827e472-c3ba-4a87-b34e-8f5c1cf9921a",
   "metadata": {},
   "outputs": [
    {
     "name": "stdout",
     "output_type": "stream",
     "text": [
      "<class 'pandas.core.frame.DataFrame'>\n",
      "RangeIndex: 2039 entries, 0 to 2038\n",
      "Data columns (total 7 columns):\n",
      " #   Column         Non-Null Count  Dtype  \n",
      "---  ------         --------------  -----  \n",
      " 0   Distance       2039 non-null   float64\n",
      " 1   Pressure       2039 non-null   float64\n",
      " 2   HRV            2039 non-null   float64\n",
      " 3   Sugar level    2039 non-null   float64\n",
      " 4   SpO2           2039 non-null   float64\n",
      " 5   Accelerometer  2039 non-null   float64\n",
      " 6   Decision       2039 non-null   int64  \n",
      "dtypes: float64(6), int64(1)\n",
      "memory usage: 111.6 KB\n"
     ]
    }
   ],
   "source": [
    "df.info()"
   ]
  },
  {
   "cell_type": "code",
   "execution_count": 178,
   "id": "daf2a8ee-ee7c-44a0-8e0d-e9e0552b2a71",
   "metadata": {},
   "outputs": [
    {
     "data": {
      "text/plain": [
       "0"
      ]
     },
     "execution_count": 178,
     "metadata": {},
     "output_type": "execute_result"
    }
   ],
   "source": [
    "df.duplicated().sum()"
   ]
  },
  {
   "cell_type": "code",
   "execution_count": 179,
   "id": "9d115460-312c-4327-a589-ba35ce20a0e4",
   "metadata": {},
   "outputs": [],
   "source": [
    "df1=df.copy()"
   ]
  },
  {
   "cell_type": "code",
   "execution_count": 180,
   "id": "5faa0ed4-8983-4233-8f09-0c5bf821997c",
   "metadata": {},
   "outputs": [
    {
     "data": {
      "text/html": [
       "<div>\n",
       "<style scoped>\n",
       "    .dataframe tbody tr th:only-of-type {\n",
       "        vertical-align: middle;\n",
       "    }\n",
       "\n",
       "    .dataframe tbody tr th {\n",
       "        vertical-align: top;\n",
       "    }\n",
       "\n",
       "    .dataframe thead th {\n",
       "        text-align: right;\n",
       "    }\n",
       "</style>\n",
       "<table border=\"1\" class=\"dataframe\">\n",
       "  <thead>\n",
       "    <tr style=\"text-align: right;\">\n",
       "      <th></th>\n",
       "      <th>Distance</th>\n",
       "      <th>Pressure</th>\n",
       "      <th>HRV</th>\n",
       "      <th>Sugar level</th>\n",
       "      <th>SpO2</th>\n",
       "      <th>Accelerometer</th>\n",
       "      <th>Decision</th>\n",
       "    </tr>\n",
       "  </thead>\n",
       "  <tbody>\n",
       "    <tr>\n",
       "      <th>0</th>\n",
       "      <td>25.540</td>\n",
       "      <td>1.0</td>\n",
       "      <td>101.396</td>\n",
       "      <td>61.080</td>\n",
       "      <td>87.770</td>\n",
       "      <td>1.0</td>\n",
       "      <td>1</td>\n",
       "    </tr>\n",
       "    <tr>\n",
       "      <th>1</th>\n",
       "      <td>2.595</td>\n",
       "      <td>2.0</td>\n",
       "      <td>110.190</td>\n",
       "      <td>20.207</td>\n",
       "      <td>65.190</td>\n",
       "      <td>1.0</td>\n",
       "      <td>2</td>\n",
       "    </tr>\n",
       "    <tr>\n",
       "      <th>2</th>\n",
       "      <td>68.067</td>\n",
       "      <td>0.0</td>\n",
       "      <td>87.412</td>\n",
       "      <td>79.345</td>\n",
       "      <td>99.345</td>\n",
       "      <td>0.0</td>\n",
       "      <td>0</td>\n",
       "    </tr>\n",
       "    <tr>\n",
       "      <th>3</th>\n",
       "      <td>13.090</td>\n",
       "      <td>1.0</td>\n",
       "      <td>92.266</td>\n",
       "      <td>36.180</td>\n",
       "      <td>81.545</td>\n",
       "      <td>1.0</td>\n",
       "      <td>1</td>\n",
       "    </tr>\n",
       "    <tr>\n",
       "      <th>4</th>\n",
       "      <td>69.430</td>\n",
       "      <td>0.0</td>\n",
       "      <td>89.480</td>\n",
       "      <td>80.000</td>\n",
       "      <td>99.990</td>\n",
       "      <td>0.0</td>\n",
       "      <td>0</td>\n",
       "    </tr>\n",
       "  </tbody>\n",
       "</table>\n",
       "</div>"
      ],
      "text/plain": [
       "   Distance  Pressure      HRV  Sugar level    SpO2  Accelerometer  Decision \n",
       "0    25.540       1.0  101.396       61.080  87.770            1.0          1\n",
       "1     2.595       2.0  110.190       20.207  65.190            1.0          2\n",
       "2    68.067       0.0   87.412       79.345  99.345            0.0          0\n",
       "3    13.090       1.0   92.266       36.180  81.545            1.0          1\n",
       "4    69.430       0.0   89.480       80.000  99.990            0.0          0"
      ]
     },
     "execution_count": 180,
     "metadata": {},
     "output_type": "execute_result"
    }
   ],
   "source": [
    "df1.head()"
   ]
  },
  {
   "cell_type": "code",
   "execution_count": 181,
   "id": "e8968439-dd15-4203-9785-cdac5b76fe04",
   "metadata": {},
   "outputs": [
    {
     "data": {
      "text/plain": [
       "array([1., 0.])"
      ]
     },
     "execution_count": 181,
     "metadata": {},
     "output_type": "execute_result"
    }
   ],
   "source": [
    "df['Accelerometer'].unique()"
   ]
  },
  {
   "cell_type": "code",
   "execution_count": 182,
   "id": "21b467da-2a8c-48f7-b13a-c65c6c571469",
   "metadata": {},
   "outputs": [
    {
     "data": {
      "text/plain": [
       "array([1, 2, 0], dtype=int64)"
      ]
     },
     "execution_count": 182,
     "metadata": {},
     "output_type": "execute_result"
    }
   ],
   "source": [
    "df['Decision '].unique()"
   ]
  },
  {
   "cell_type": "code",
   "execution_count": 183,
   "id": "f5206dda-7d9b-46d1-bcf5-efc309f73c2f",
   "metadata": {},
   "outputs": [
    {
     "data": {
      "text/html": [
       "<div>\n",
       "<style scoped>\n",
       "    .dataframe tbody tr th:only-of-type {\n",
       "        vertical-align: middle;\n",
       "    }\n",
       "\n",
       "    .dataframe tbody tr th {\n",
       "        vertical-align: top;\n",
       "    }\n",
       "\n",
       "    .dataframe thead th {\n",
       "        text-align: right;\n",
       "    }\n",
       "</style>\n",
       "<table border=\"1\" class=\"dataframe\">\n",
       "  <thead>\n",
       "    <tr style=\"text-align: right;\">\n",
       "      <th></th>\n",
       "      <th>Distance</th>\n",
       "      <th>Pressure</th>\n",
       "      <th>HRV</th>\n",
       "      <th>Sugar level</th>\n",
       "      <th>SpO2</th>\n",
       "      <th>Accelerometer</th>\n",
       "      <th>Decision</th>\n",
       "    </tr>\n",
       "  </thead>\n",
       "  <tbody>\n",
       "    <tr>\n",
       "      <th>0</th>\n",
       "      <td>25.540</td>\n",
       "      <td>1.0</td>\n",
       "      <td>101.396</td>\n",
       "      <td>61.080</td>\n",
       "      <td>87.770</td>\n",
       "      <td>1.0</td>\n",
       "      <td>1</td>\n",
       "    </tr>\n",
       "    <tr>\n",
       "      <th>1</th>\n",
       "      <td>2.595</td>\n",
       "      <td>2.0</td>\n",
       "      <td>110.190</td>\n",
       "      <td>20.207</td>\n",
       "      <td>65.190</td>\n",
       "      <td>1.0</td>\n",
       "      <td>2</td>\n",
       "    </tr>\n",
       "    <tr>\n",
       "      <th>2</th>\n",
       "      <td>68.067</td>\n",
       "      <td>0.0</td>\n",
       "      <td>87.412</td>\n",
       "      <td>79.345</td>\n",
       "      <td>99.345</td>\n",
       "      <td>0.0</td>\n",
       "      <td>0</td>\n",
       "    </tr>\n",
       "    <tr>\n",
       "      <th>3</th>\n",
       "      <td>13.090</td>\n",
       "      <td>1.0</td>\n",
       "      <td>92.266</td>\n",
       "      <td>36.180</td>\n",
       "      <td>81.545</td>\n",
       "      <td>1.0</td>\n",
       "      <td>1</td>\n",
       "    </tr>\n",
       "    <tr>\n",
       "      <th>4</th>\n",
       "      <td>69.430</td>\n",
       "      <td>0.0</td>\n",
       "      <td>89.480</td>\n",
       "      <td>80.000</td>\n",
       "      <td>99.990</td>\n",
       "      <td>0.0</td>\n",
       "      <td>0</td>\n",
       "    </tr>\n",
       "    <tr>\n",
       "      <th>...</th>\n",
       "      <td>...</td>\n",
       "      <td>...</td>\n",
       "      <td>...</td>\n",
       "      <td>...</td>\n",
       "      <td>...</td>\n",
       "      <td>...</td>\n",
       "      <td>...</td>\n",
       "    </tr>\n",
       "    <tr>\n",
       "      <th>2034</th>\n",
       "      <td>5.655</td>\n",
       "      <td>2.0</td>\n",
       "      <td>116.310</td>\n",
       "      <td>162.242</td>\n",
       "      <td>71.310</td>\n",
       "      <td>1.0</td>\n",
       "      <td>2</td>\n",
       "    </tr>\n",
       "    <tr>\n",
       "      <th>2035</th>\n",
       "      <td>9.660</td>\n",
       "      <td>2.0</td>\n",
       "      <td>124.320</td>\n",
       "      <td>177.995</td>\n",
       "      <td>79.320</td>\n",
       "      <td>1.0</td>\n",
       "      <td>2</td>\n",
       "    </tr>\n",
       "    <tr>\n",
       "      <th>2036</th>\n",
       "      <td>15.220</td>\n",
       "      <td>1.0</td>\n",
       "      <td>93.828</td>\n",
       "      <td>40.440</td>\n",
       "      <td>82.610</td>\n",
       "      <td>1.0</td>\n",
       "      <td>1</td>\n",
       "    </tr>\n",
       "    <tr>\n",
       "      <th>2037</th>\n",
       "      <td>9.120</td>\n",
       "      <td>2.0</td>\n",
       "      <td>123.240</td>\n",
       "      <td>175.871</td>\n",
       "      <td>78.240</td>\n",
       "      <td>1.0</td>\n",
       "      <td>2</td>\n",
       "    </tr>\n",
       "    <tr>\n",
       "      <th>2038</th>\n",
       "      <td>62.441</td>\n",
       "      <td>0.0</td>\n",
       "      <td>78.876</td>\n",
       "      <td>76.435</td>\n",
       "      <td>96.435</td>\n",
       "      <td>0.0</td>\n",
       "      <td>0</td>\n",
       "    </tr>\n",
       "  </tbody>\n",
       "</table>\n",
       "<p>2039 rows × 7 columns</p>\n",
       "</div>"
      ],
      "text/plain": [
       "      Distance  Pressure      HRV  Sugar level    SpO2  Accelerometer  \\\n",
       "0       25.540       1.0  101.396       61.080  87.770            1.0   \n",
       "1        2.595       2.0  110.190       20.207  65.190            1.0   \n",
       "2       68.067       0.0   87.412       79.345  99.345            0.0   \n",
       "3       13.090       1.0   92.266       36.180  81.545            1.0   \n",
       "4       69.430       0.0   89.480       80.000  99.990            0.0   \n",
       "...        ...       ...      ...          ...     ...            ...   \n",
       "2034     5.655       2.0  116.310      162.242  71.310            1.0   \n",
       "2035     9.660       2.0  124.320      177.995  79.320            1.0   \n",
       "2036    15.220       1.0   93.828       40.440  82.610            1.0   \n",
       "2037     9.120       2.0  123.240      175.871  78.240            1.0   \n",
       "2038    62.441       0.0   78.876       76.435  96.435            0.0   \n",
       "\n",
       "      Decision   \n",
       "0             1  \n",
       "1             2  \n",
       "2             0  \n",
       "3             1  \n",
       "4             0  \n",
       "...         ...  \n",
       "2034          2  \n",
       "2035          2  \n",
       "2036          1  \n",
       "2037          2  \n",
       "2038          0  \n",
       "\n",
       "[2039 rows x 7 columns]"
      ]
     },
     "execution_count": 183,
     "metadata": {},
     "output_type": "execute_result"
    }
   ],
   "source": [
    "df1"
   ]
  },
  {
   "cell_type": "code",
   "execution_count": 184,
   "id": "6957efd4-5046-4fdf-8d62-14e65bf70f73",
   "metadata": {},
   "outputs": [],
   "source": [
    "df1.drop(columns=['Sugar level','Pressure','Distance'],inplace=True)"
   ]
  },
  {
   "cell_type": "code",
   "execution_count": 185,
   "id": "b1318413-4ce6-4ac0-bc02-9b21d28832a5",
   "metadata": {},
   "outputs": [
    {
     "data": {
      "text/html": [
       "<div>\n",
       "<style scoped>\n",
       "    .dataframe tbody tr th:only-of-type {\n",
       "        vertical-align: middle;\n",
       "    }\n",
       "\n",
       "    .dataframe tbody tr th {\n",
       "        vertical-align: top;\n",
       "    }\n",
       "\n",
       "    .dataframe thead th {\n",
       "        text-align: right;\n",
       "    }\n",
       "</style>\n",
       "<table border=\"1\" class=\"dataframe\">\n",
       "  <thead>\n",
       "    <tr style=\"text-align: right;\">\n",
       "      <th></th>\n",
       "      <th>HRV</th>\n",
       "      <th>SpO2</th>\n",
       "      <th>Accelerometer</th>\n",
       "      <th>Decision</th>\n",
       "    </tr>\n",
       "  </thead>\n",
       "  <tbody>\n",
       "    <tr>\n",
       "      <th>0</th>\n",
       "      <td>101.396</td>\n",
       "      <td>87.770</td>\n",
       "      <td>1.0</td>\n",
       "      <td>1</td>\n",
       "    </tr>\n",
       "    <tr>\n",
       "      <th>1</th>\n",
       "      <td>110.190</td>\n",
       "      <td>65.190</td>\n",
       "      <td>1.0</td>\n",
       "      <td>2</td>\n",
       "    </tr>\n",
       "    <tr>\n",
       "      <th>2</th>\n",
       "      <td>87.412</td>\n",
       "      <td>99.345</td>\n",
       "      <td>0.0</td>\n",
       "      <td>0</td>\n",
       "    </tr>\n",
       "    <tr>\n",
       "      <th>3</th>\n",
       "      <td>92.266</td>\n",
       "      <td>81.545</td>\n",
       "      <td>1.0</td>\n",
       "      <td>1</td>\n",
       "    </tr>\n",
       "    <tr>\n",
       "      <th>4</th>\n",
       "      <td>89.480</td>\n",
       "      <td>99.990</td>\n",
       "      <td>0.0</td>\n",
       "      <td>0</td>\n",
       "    </tr>\n",
       "    <tr>\n",
       "      <th>5</th>\n",
       "      <td>102.584</td>\n",
       "      <td>88.580</td>\n",
       "      <td>1.0</td>\n",
       "      <td>1</td>\n",
       "    </tr>\n",
       "    <tr>\n",
       "      <th>6</th>\n",
       "      <td>70.824</td>\n",
       "      <td>93.690</td>\n",
       "      <td>0.0</td>\n",
       "      <td>0</td>\n",
       "    </tr>\n",
       "    <tr>\n",
       "      <th>7</th>\n",
       "      <td>84.816</td>\n",
       "      <td>98.460</td>\n",
       "      <td>0.0</td>\n",
       "      <td>0</td>\n",
       "    </tr>\n",
       "    <tr>\n",
       "      <th>8</th>\n",
       "      <td>75.752</td>\n",
       "      <td>95.370</td>\n",
       "      <td>0.0</td>\n",
       "      <td>0</td>\n",
       "    </tr>\n",
       "    <tr>\n",
       "      <th>9</th>\n",
       "      <td>99.658</td>\n",
       "      <td>86.585</td>\n",
       "      <td>1.0</td>\n",
       "      <td>1</td>\n",
       "    </tr>\n",
       "    <tr>\n",
       "      <th>10</th>\n",
       "      <td>79.888</td>\n",
       "      <td>96.780</td>\n",
       "      <td>0.0</td>\n",
       "      <td>0</td>\n",
       "    </tr>\n",
       "    <tr>\n",
       "      <th>11</th>\n",
       "      <td>73.464</td>\n",
       "      <td>94.590</td>\n",
       "      <td>0.0</td>\n",
       "      <td>0</td>\n",
       "    </tr>\n",
       "    <tr>\n",
       "      <th>12</th>\n",
       "      <td>100.692</td>\n",
       "      <td>87.290</td>\n",
       "      <td>1.0</td>\n",
       "      <td>1</td>\n",
       "    </tr>\n",
       "    <tr>\n",
       "      <th>13</th>\n",
       "      <td>100.252</td>\n",
       "      <td>86.990</td>\n",
       "      <td>1.0</td>\n",
       "      <td>1</td>\n",
       "    </tr>\n",
       "    <tr>\n",
       "      <th>14</th>\n",
       "      <td>110.670</td>\n",
       "      <td>65.670</td>\n",
       "      <td>1.0</td>\n",
       "      <td>2</td>\n",
       "    </tr>\n",
       "    <tr>\n",
       "      <th>15</th>\n",
       "      <td>81.428</td>\n",
       "      <td>97.305</td>\n",
       "      <td>0.0</td>\n",
       "      <td>0</td>\n",
       "    </tr>\n",
       "    <tr>\n",
       "      <th>16</th>\n",
       "      <td>102.364</td>\n",
       "      <td>88.430</td>\n",
       "      <td>1.0</td>\n",
       "      <td>1</td>\n",
       "    </tr>\n",
       "    <tr>\n",
       "      <th>17</th>\n",
       "      <td>113.730</td>\n",
       "      <td>68.730</td>\n",
       "      <td>1.0</td>\n",
       "      <td>2</td>\n",
       "    </tr>\n",
       "    <tr>\n",
       "      <th>18</th>\n",
       "      <td>84.508</td>\n",
       "      <td>98.355</td>\n",
       "      <td>0.0</td>\n",
       "      <td>0</td>\n",
       "    </tr>\n",
       "    <tr>\n",
       "      <th>19</th>\n",
       "      <td>81.120</td>\n",
       "      <td>97.200</td>\n",
       "      <td>0.0</td>\n",
       "      <td>0</td>\n",
       "    </tr>\n",
       "  </tbody>\n",
       "</table>\n",
       "</div>"
      ],
      "text/plain": [
       "        HRV    SpO2  Accelerometer  Decision \n",
       "0   101.396  87.770            1.0          1\n",
       "1   110.190  65.190            1.0          2\n",
       "2    87.412  99.345            0.0          0\n",
       "3    92.266  81.545            1.0          1\n",
       "4    89.480  99.990            0.0          0\n",
       "5   102.584  88.580            1.0          1\n",
       "6    70.824  93.690            0.0          0\n",
       "7    84.816  98.460            0.0          0\n",
       "8    75.752  95.370            0.0          0\n",
       "9    99.658  86.585            1.0          1\n",
       "10   79.888  96.780            0.0          0\n",
       "11   73.464  94.590            0.0          0\n",
       "12  100.692  87.290            1.0          1\n",
       "13  100.252  86.990            1.0          1\n",
       "14  110.670  65.670            1.0          2\n",
       "15   81.428  97.305            0.0          0\n",
       "16  102.364  88.430            1.0          1\n",
       "17  113.730  68.730            1.0          2\n",
       "18   84.508  98.355            0.0          0\n",
       "19   81.120  97.200            0.0          0"
      ]
     },
     "execution_count": 185,
     "metadata": {},
     "output_type": "execute_result"
    }
   ],
   "source": [
    "df1.head(20)"
   ]
  },
  {
   "cell_type": "code",
   "execution_count": 186,
   "id": "c17d1e68-1a86-49eb-a2aa-43b464dff868",
   "metadata": {},
   "outputs": [],
   "source": [
    "x=df1.drop(columns=['Decision '])"
   ]
  },
  {
   "cell_type": "code",
   "execution_count": 187,
   "id": "1392c0ec-ccc6-44b0-b31a-391950c4fe32",
   "metadata": {},
   "outputs": [
    {
     "data": {
      "text/html": [
       "<div>\n",
       "<style scoped>\n",
       "    .dataframe tbody tr th:only-of-type {\n",
       "        vertical-align: middle;\n",
       "    }\n",
       "\n",
       "    .dataframe tbody tr th {\n",
       "        vertical-align: top;\n",
       "    }\n",
       "\n",
       "    .dataframe thead th {\n",
       "        text-align: right;\n",
       "    }\n",
       "</style>\n",
       "<table border=\"1\" class=\"dataframe\">\n",
       "  <thead>\n",
       "    <tr style=\"text-align: right;\">\n",
       "      <th></th>\n",
       "      <th>HRV</th>\n",
       "      <th>SpO2</th>\n",
       "      <th>Accelerometer</th>\n",
       "    </tr>\n",
       "  </thead>\n",
       "  <tbody>\n",
       "    <tr>\n",
       "      <th>0</th>\n",
       "      <td>101.396</td>\n",
       "      <td>87.770</td>\n",
       "      <td>1.0</td>\n",
       "    </tr>\n",
       "    <tr>\n",
       "      <th>1</th>\n",
       "      <td>110.190</td>\n",
       "      <td>65.190</td>\n",
       "      <td>1.0</td>\n",
       "    </tr>\n",
       "    <tr>\n",
       "      <th>2</th>\n",
       "      <td>87.412</td>\n",
       "      <td>99.345</td>\n",
       "      <td>0.0</td>\n",
       "    </tr>\n",
       "    <tr>\n",
       "      <th>3</th>\n",
       "      <td>92.266</td>\n",
       "      <td>81.545</td>\n",
       "      <td>1.0</td>\n",
       "    </tr>\n",
       "    <tr>\n",
       "      <th>4</th>\n",
       "      <td>89.480</td>\n",
       "      <td>99.990</td>\n",
       "      <td>0.0</td>\n",
       "    </tr>\n",
       "    <tr>\n",
       "      <th>...</th>\n",
       "      <td>...</td>\n",
       "      <td>...</td>\n",
       "      <td>...</td>\n",
       "    </tr>\n",
       "    <tr>\n",
       "      <th>2034</th>\n",
       "      <td>116.310</td>\n",
       "      <td>71.310</td>\n",
       "      <td>1.0</td>\n",
       "    </tr>\n",
       "    <tr>\n",
       "      <th>2035</th>\n",
       "      <td>124.320</td>\n",
       "      <td>79.320</td>\n",
       "      <td>1.0</td>\n",
       "    </tr>\n",
       "    <tr>\n",
       "      <th>2036</th>\n",
       "      <td>93.828</td>\n",
       "      <td>82.610</td>\n",
       "      <td>1.0</td>\n",
       "    </tr>\n",
       "    <tr>\n",
       "      <th>2037</th>\n",
       "      <td>123.240</td>\n",
       "      <td>78.240</td>\n",
       "      <td>1.0</td>\n",
       "    </tr>\n",
       "    <tr>\n",
       "      <th>2038</th>\n",
       "      <td>78.876</td>\n",
       "      <td>96.435</td>\n",
       "      <td>0.0</td>\n",
       "    </tr>\n",
       "  </tbody>\n",
       "</table>\n",
       "<p>2039 rows × 3 columns</p>\n",
       "</div>"
      ],
      "text/plain": [
       "          HRV    SpO2  Accelerometer\n",
       "0     101.396  87.770            1.0\n",
       "1     110.190  65.190            1.0\n",
       "2      87.412  99.345            0.0\n",
       "3      92.266  81.545            1.0\n",
       "4      89.480  99.990            0.0\n",
       "...       ...     ...            ...\n",
       "2034  116.310  71.310            1.0\n",
       "2035  124.320  79.320            1.0\n",
       "2036   93.828  82.610            1.0\n",
       "2037  123.240  78.240            1.0\n",
       "2038   78.876  96.435            0.0\n",
       "\n",
       "[2039 rows x 3 columns]"
      ]
     },
     "execution_count": 187,
     "metadata": {},
     "output_type": "execute_result"
    }
   ],
   "source": [
    "x"
   ]
  },
  {
   "cell_type": "code",
   "execution_count": 188,
   "id": "5915c450-ce65-4516-a589-d361dec1f566",
   "metadata": {},
   "outputs": [],
   "source": [
    "y=df1[['Decision ']]"
   ]
  },
  {
   "cell_type": "code",
   "execution_count": 189,
   "id": "95c7b177-7acb-446b-8118-f4982259a95d",
   "metadata": {},
   "outputs": [
    {
     "data": {
      "text/html": [
       "<div>\n",
       "<style scoped>\n",
       "    .dataframe tbody tr th:only-of-type {\n",
       "        vertical-align: middle;\n",
       "    }\n",
       "\n",
       "    .dataframe tbody tr th {\n",
       "        vertical-align: top;\n",
       "    }\n",
       "\n",
       "    .dataframe thead th {\n",
       "        text-align: right;\n",
       "    }\n",
       "</style>\n",
       "<table border=\"1\" class=\"dataframe\">\n",
       "  <thead>\n",
       "    <tr style=\"text-align: right;\">\n",
       "      <th></th>\n",
       "      <th>Decision</th>\n",
       "    </tr>\n",
       "  </thead>\n",
       "  <tbody>\n",
       "    <tr>\n",
       "      <th>0</th>\n",
       "      <td>1</td>\n",
       "    </tr>\n",
       "    <tr>\n",
       "      <th>1</th>\n",
       "      <td>2</td>\n",
       "    </tr>\n",
       "    <tr>\n",
       "      <th>2</th>\n",
       "      <td>0</td>\n",
       "    </tr>\n",
       "    <tr>\n",
       "      <th>3</th>\n",
       "      <td>1</td>\n",
       "    </tr>\n",
       "    <tr>\n",
       "      <th>4</th>\n",
       "      <td>0</td>\n",
       "    </tr>\n",
       "  </tbody>\n",
       "</table>\n",
       "</div>"
      ],
      "text/plain": [
       "   Decision \n",
       "0          1\n",
       "1          2\n",
       "2          0\n",
       "3          1\n",
       "4          0"
      ]
     },
     "execution_count": 189,
     "metadata": {},
     "output_type": "execute_result"
    }
   ],
   "source": [
    "y.head()"
   ]
  },
  {
   "cell_type": "code",
   "execution_count": 190,
   "id": "f7c1f58b-1930-4610-be51-1ced4a602ce7",
   "metadata": {},
   "outputs": [],
   "source": [
    "from sklearn.model_selection import train_test_split"
   ]
  },
  {
   "cell_type": "code",
   "execution_count": 191,
   "id": "0cd0a5bd-69db-4a3d-af76-7e93b5bfb147",
   "metadata": {},
   "outputs": [],
   "source": [
    "x_train,x_test,y_train,y_test=train_test_split(x,y,test_size=0.2)"
   ]
  },
  {
   "cell_type": "code",
   "execution_count": 192,
   "id": "5beb6d61-74e0-4fc6-9f7d-7977fd901e59",
   "metadata": {},
   "outputs": [
    {
     "data": {
      "text/html": [
       "<div>\n",
       "<style scoped>\n",
       "    .dataframe tbody tr th:only-of-type {\n",
       "        vertical-align: middle;\n",
       "    }\n",
       "\n",
       "    .dataframe tbody tr th {\n",
       "        vertical-align: top;\n",
       "    }\n",
       "\n",
       "    .dataframe thead th {\n",
       "        text-align: right;\n",
       "    }\n",
       "</style>\n",
       "<table border=\"1\" class=\"dataframe\">\n",
       "  <thead>\n",
       "    <tr style=\"text-align: right;\">\n",
       "      <th></th>\n",
       "      <th>HRV</th>\n",
       "      <th>SpO2</th>\n",
       "      <th>Accelerometer</th>\n",
       "    </tr>\n",
       "  </thead>\n",
       "  <tbody>\n",
       "    <tr>\n",
       "      <th>1064</th>\n",
       "      <td>66.248</td>\n",
       "      <td>92.130</td>\n",
       "      <td>0.0</td>\n",
       "    </tr>\n",
       "    <tr>\n",
       "      <th>160</th>\n",
       "      <td>95.830</td>\n",
       "      <td>83.975</td>\n",
       "      <td>1.0</td>\n",
       "    </tr>\n",
       "  </tbody>\n",
       "</table>\n",
       "</div>"
      ],
      "text/plain": [
       "         HRV    SpO2  Accelerometer\n",
       "1064  66.248  92.130            0.0\n",
       "160   95.830  83.975            1.0"
      ]
     },
     "execution_count": 192,
     "metadata": {},
     "output_type": "execute_result"
    }
   ],
   "source": [
    "x_train.head(2)"
   ]
  },
  {
   "cell_type": "code",
   "execution_count": 193,
   "id": "2dbf1137-625a-424b-b658-ee4dc4795a26",
   "metadata": {},
   "outputs": [
    {
     "data": {
      "text/html": [
       "<div>\n",
       "<style scoped>\n",
       "    .dataframe tbody tr th:only-of-type {\n",
       "        vertical-align: middle;\n",
       "    }\n",
       "\n",
       "    .dataframe tbody tr th {\n",
       "        vertical-align: top;\n",
       "    }\n",
       "\n",
       "    .dataframe thead th {\n",
       "        text-align: right;\n",
       "    }\n",
       "</style>\n",
       "<table border=\"1\" class=\"dataframe\">\n",
       "  <thead>\n",
       "    <tr style=\"text-align: right;\">\n",
       "      <th></th>\n",
       "      <th>HRV</th>\n",
       "      <th>SpO2</th>\n",
       "      <th>Accelerometer</th>\n",
       "    </tr>\n",
       "  </thead>\n",
       "  <tbody>\n",
       "    <tr>\n",
       "      <th>2011</th>\n",
       "      <td>70.296</td>\n",
       "      <td>93.51</td>\n",
       "      <td>0.0</td>\n",
       "    </tr>\n",
       "    <tr>\n",
       "      <th>178</th>\n",
       "      <td>82.088</td>\n",
       "      <td>97.53</td>\n",
       "      <td>0.0</td>\n",
       "    </tr>\n",
       "  </tbody>\n",
       "</table>\n",
       "</div>"
      ],
      "text/plain": [
       "         HRV   SpO2  Accelerometer\n",
       "2011  70.296  93.51            0.0\n",
       "178   82.088  97.53            0.0"
      ]
     },
     "execution_count": 193,
     "metadata": {},
     "output_type": "execute_result"
    }
   ],
   "source": [
    "x_test.head(2)"
   ]
  },
  {
   "cell_type": "code",
   "execution_count": 194,
   "id": "5460f5e9-081c-4e63-9f11-f972f0d3699a",
   "metadata": {},
   "outputs": [
    {
     "data": {
      "text/html": [
       "<div>\n",
       "<style scoped>\n",
       "    .dataframe tbody tr th:only-of-type {\n",
       "        vertical-align: middle;\n",
       "    }\n",
       "\n",
       "    .dataframe tbody tr th {\n",
       "        vertical-align: top;\n",
       "    }\n",
       "\n",
       "    .dataframe thead th {\n",
       "        text-align: right;\n",
       "    }\n",
       "</style>\n",
       "<table border=\"1\" class=\"dataframe\">\n",
       "  <thead>\n",
       "    <tr style=\"text-align: right;\">\n",
       "      <th></th>\n",
       "      <th>Decision</th>\n",
       "    </tr>\n",
       "  </thead>\n",
       "  <tbody>\n",
       "    <tr>\n",
       "      <th>1064</th>\n",
       "      <td>0</td>\n",
       "    </tr>\n",
       "    <tr>\n",
       "      <th>160</th>\n",
       "      <td>1</td>\n",
       "    </tr>\n",
       "  </tbody>\n",
       "</table>\n",
       "</div>"
      ],
      "text/plain": [
       "      Decision \n",
       "1064          0\n",
       "160           1"
      ]
     },
     "execution_count": 194,
     "metadata": {},
     "output_type": "execute_result"
    }
   ],
   "source": [
    "y_train.head(2)"
   ]
  },
  {
   "cell_type": "code",
   "execution_count": 195,
   "id": "7d0ae5d8-4a11-4e73-8e44-41c8371a44d2",
   "metadata": {},
   "outputs": [
    {
     "data": {
      "text/html": [
       "<div>\n",
       "<style scoped>\n",
       "    .dataframe tbody tr th:only-of-type {\n",
       "        vertical-align: middle;\n",
       "    }\n",
       "\n",
       "    .dataframe tbody tr th {\n",
       "        vertical-align: top;\n",
       "    }\n",
       "\n",
       "    .dataframe thead th {\n",
       "        text-align: right;\n",
       "    }\n",
       "</style>\n",
       "<table border=\"1\" class=\"dataframe\">\n",
       "  <thead>\n",
       "    <tr style=\"text-align: right;\">\n",
       "      <th></th>\n",
       "      <th>Decision</th>\n",
       "    </tr>\n",
       "  </thead>\n",
       "  <tbody>\n",
       "    <tr>\n",
       "      <th>2011</th>\n",
       "      <td>0</td>\n",
       "    </tr>\n",
       "    <tr>\n",
       "      <th>178</th>\n",
       "      <td>0</td>\n",
       "    </tr>\n",
       "  </tbody>\n",
       "</table>\n",
       "</div>"
      ],
      "text/plain": [
       "      Decision \n",
       "2011          0\n",
       "178           0"
      ]
     },
     "execution_count": 195,
     "metadata": {},
     "output_type": "execute_result"
    }
   ],
   "source": [
    "y_test.head(2)"
   ]
  },
  {
   "cell_type": "code",
   "execution_count": 196,
   "id": "552b35c9-65f1-4e2a-8831-c2f92569c6c5",
   "metadata": {},
   "outputs": [
    {
     "data": {
      "text/plain": [
       "(1631, 3)"
      ]
     },
     "execution_count": 196,
     "metadata": {},
     "output_type": "execute_result"
    }
   ],
   "source": [
    "x_train.shape"
   ]
  },
  {
   "cell_type": "code",
   "execution_count": 197,
   "id": "8888b4e6-7229-4adc-b2f7-65c9e408bb20",
   "metadata": {},
   "outputs": [],
   "source": [
    "from sklearn.preprocessing import MinMaxScaler\n",
    "\n",
    "scaler = MinMaxScaler()\n",
    "\n",
    "scaler.fit(x_train)\n",
    "with open('scaler_ver2.pkl', 'wb') as f:\n",
    "    pickle.dump(scaler, f)\n",
    "with open('scaler_ver2.pkl', 'rb') as f:\n",
    "    scaler = pickle.load(f)\n",
    "x_train_scaled = scaler.transform(x_train)\n",
    "\n",
    "\n",
    "x_test_scaled = scaler.transform(x_test)\n"
   ]
  },
  {
   "cell_type": "code",
   "execution_count": 198,
   "id": "473dd9f9-e673-4324-9eb6-b130774418e7",
   "metadata": {},
   "outputs": [
    {
     "data": {
      "text/plain": [
       "(1631, 1)"
      ]
     },
     "execution_count": 198,
     "metadata": {},
     "output_type": "execute_result"
    }
   ],
   "source": [
    "y_train.shape"
   ]
  },
  {
   "cell_type": "code",
   "execution_count": 199,
   "id": "0bc4d8b0-29e1-47ed-a1a9-dfa61315c824",
   "metadata": {},
   "outputs": [],
   "source": [
    "with open('scaler_ver2.pkl', 'rb') as f:\n",
    "        scaler = pickle.load(f)\n",
    "#y_train_scaled = scaler.transform(y_train)"
   ]
  },
  {
   "cell_type": "code",
   "execution_count": 200,
   "id": "6ea19884-1de1-4fc5-afb4-86013cad5194",
   "metadata": {},
   "outputs": [],
   "source": [
    "with open('scaler_ver2.pkl', 'rb') as f:\n",
    "        scaler = pickle.load(f)\n",
    "y_test_scaled = scaler.fit_transform(y_test)\n",
    "\n"
   ]
  },
  {
   "cell_type": "code",
   "execution_count": 201,
   "id": "97da2b85-38f3-4854-ac5c-efa8f59ff9e1",
   "metadata": {},
   "outputs": [
    {
     "data": {
      "text/plain": [
       "(1631, 3)"
      ]
     },
     "execution_count": 201,
     "metadata": {},
     "output_type": "execute_result"
    }
   ],
   "source": [
    "x_train_scaled.shape"
   ]
  },
  {
   "cell_type": "code",
   "execution_count": 202,
   "id": "622d6c01-6e6e-4d80-bc5b-1d3f1765cd20",
   "metadata": {},
   "outputs": [],
   "source": [
    "#y_train_scaled[:10]"
   ]
  },
  {
   "cell_type": "code",
   "execution_count": 203,
   "id": "9a950c0c-5ecd-4fbf-b7ac-47cf2840cbad",
   "metadata": {},
   "outputs": [
    {
     "data": {
      "text/plain": [
       "array([[0.09615266, 0.80345086, 0.        ],\n",
       "       [0.55140043, 0.59952488, 1.        ],\n",
       "       [0.08464143, 0.79707427, 0.        ],\n",
       "       ...,\n",
       "       [0.76269621, 0.11402851, 1.        ],\n",
       "       [0.3317944 , 0.9339835 , 0.        ],\n",
       "       [0.48808864, 0.52938235, 1.        ]])"
      ]
     },
     "execution_count": 203,
     "metadata": {},
     "output_type": "execute_result"
    }
   ],
   "source": [
    "x_train_scaled"
   ]
  },
  {
   "cell_type": "code",
   "execution_count": 204,
   "id": "239f821f-0498-4934-9ecb-cdff6a5c2339",
   "metadata": {},
   "outputs": [
    {
     "name": "stderr",
     "output_type": "stream",
     "text": [
      "C:\\Users\\GIRIRAJ ROY\\anaconda3\\Lib\\site-packages\\keras\\src\\layers\\core\\dense.py:87: UserWarning: Do not pass an `input_shape`/`input_dim` argument to a layer. When using Sequential models, prefer using an `Input(shape)` object as the first layer in the model instead.\n",
      "  super().__init__(activity_regularizer=activity_regularizer, **kwargs)\n"
     ]
    }
   ],
   "source": [
    "model=Sequential()\n",
    "\n",
    "model.add(Dense(64,input_dim=3,activation='relu'))\n",
    "model.add(Dense(32,activation='relu'))\n",
    "model.add(Dense(16,activation='relu'))\n",
    "model.add(Dense(3,activation='softmax'))"
   ]
  },
  {
   "cell_type": "code",
   "execution_count": 205,
   "id": "33979474-af5e-47eb-8c67-52d018a19ae8",
   "metadata": {},
   "outputs": [],
   "source": [
    "from tensorflow.keras.optimizers import Adam\n",
    "\n",
    "model.compile(optimizer=Adam(learning_rate=0.001),loss='sparse_categorical_crossentropy',metrics=['accuracy'])"
   ]
  },
  {
   "cell_type": "code",
   "execution_count": 206,
   "id": "bc811987-8358-44f5-ad0a-19ec201b7829",
   "metadata": {},
   "outputs": [
    {
     "data": {
      "text/html": [
       "<pre style=\"white-space:pre;overflow-x:auto;line-height:normal;font-family:Menlo,'DejaVu Sans Mono',consolas,'Courier New',monospace\"><span style=\"font-weight: bold\">Model: \"sequential_2\"</span>\n",
       "</pre>\n"
      ],
      "text/plain": [
       "\u001b[1mModel: \"sequential_2\"\u001b[0m\n"
      ]
     },
     "metadata": {},
     "output_type": "display_data"
    },
    {
     "data": {
      "text/html": [
       "<pre style=\"white-space:pre;overflow-x:auto;line-height:normal;font-family:Menlo,'DejaVu Sans Mono',consolas,'Courier New',monospace\">┏━━━━━━━━━━━━━━━━━━━━━━━━━━━━━━━━━━━━━━┳━━━━━━━━━━━━━━━━━━━━━━━━━━━━━┳━━━━━━━━━━━━━━━━━┓\n",
       "┃<span style=\"font-weight: bold\"> Layer (type)                         </span>┃<span style=\"font-weight: bold\"> Output Shape                </span>┃<span style=\"font-weight: bold\">         Param # </span>┃\n",
       "┡━━━━━━━━━━━━━━━━━━━━━━━━━━━━━━━━━━━━━━╇━━━━━━━━━━━━━━━━━━━━━━━━━━━━━╇━━━━━━━━━━━━━━━━━┩\n",
       "│ dense_8 (<span style=\"color: #0087ff; text-decoration-color: #0087ff\">Dense</span>)                      │ (<span style=\"color: #00d7ff; text-decoration-color: #00d7ff\">None</span>, <span style=\"color: #00af00; text-decoration-color: #00af00\">64</span>)                  │             <span style=\"color: #00af00; text-decoration-color: #00af00\">256</span> │\n",
       "├──────────────────────────────────────┼─────────────────────────────┼─────────────────┤\n",
       "│ dense_9 (<span style=\"color: #0087ff; text-decoration-color: #0087ff\">Dense</span>)                      │ (<span style=\"color: #00d7ff; text-decoration-color: #00d7ff\">None</span>, <span style=\"color: #00af00; text-decoration-color: #00af00\">32</span>)                  │           <span style=\"color: #00af00; text-decoration-color: #00af00\">2,080</span> │\n",
       "├──────────────────────────────────────┼─────────────────────────────┼─────────────────┤\n",
       "│ dense_10 (<span style=\"color: #0087ff; text-decoration-color: #0087ff\">Dense</span>)                     │ (<span style=\"color: #00d7ff; text-decoration-color: #00d7ff\">None</span>, <span style=\"color: #00af00; text-decoration-color: #00af00\">16</span>)                  │             <span style=\"color: #00af00; text-decoration-color: #00af00\">528</span> │\n",
       "├──────────────────────────────────────┼─────────────────────────────┼─────────────────┤\n",
       "│ dense_11 (<span style=\"color: #0087ff; text-decoration-color: #0087ff\">Dense</span>)                     │ (<span style=\"color: #00d7ff; text-decoration-color: #00d7ff\">None</span>, <span style=\"color: #00af00; text-decoration-color: #00af00\">3</span>)                   │              <span style=\"color: #00af00; text-decoration-color: #00af00\">51</span> │\n",
       "└──────────────────────────────────────┴─────────────────────────────┴─────────────────┘\n",
       "</pre>\n"
      ],
      "text/plain": [
       "┏━━━━━━━━━━━━━━━━━━━━━━━━━━━━━━━━━━━━━━┳━━━━━━━━━━━━━━━━━━━━━━━━━━━━━┳━━━━━━━━━━━━━━━━━┓\n",
       "┃\u001b[1m \u001b[0m\u001b[1mLayer (type)                        \u001b[0m\u001b[1m \u001b[0m┃\u001b[1m \u001b[0m\u001b[1mOutput Shape               \u001b[0m\u001b[1m \u001b[0m┃\u001b[1m \u001b[0m\u001b[1m        Param #\u001b[0m\u001b[1m \u001b[0m┃\n",
       "┡━━━━━━━━━━━━━━━━━━━━━━━━━━━━━━━━━━━━━━╇━━━━━━━━━━━━━━━━━━━━━━━━━━━━━╇━━━━━━━━━━━━━━━━━┩\n",
       "│ dense_8 (\u001b[38;5;33mDense\u001b[0m)                      │ (\u001b[38;5;45mNone\u001b[0m, \u001b[38;5;34m64\u001b[0m)                  │             \u001b[38;5;34m256\u001b[0m │\n",
       "├──────────────────────────────────────┼─────────────────────────────┼─────────────────┤\n",
       "│ dense_9 (\u001b[38;5;33mDense\u001b[0m)                      │ (\u001b[38;5;45mNone\u001b[0m, \u001b[38;5;34m32\u001b[0m)                  │           \u001b[38;5;34m2,080\u001b[0m │\n",
       "├──────────────────────────────────────┼─────────────────────────────┼─────────────────┤\n",
       "│ dense_10 (\u001b[38;5;33mDense\u001b[0m)                     │ (\u001b[38;5;45mNone\u001b[0m, \u001b[38;5;34m16\u001b[0m)                  │             \u001b[38;5;34m528\u001b[0m │\n",
       "├──────────────────────────────────────┼─────────────────────────────┼─────────────────┤\n",
       "│ dense_11 (\u001b[38;5;33mDense\u001b[0m)                     │ (\u001b[38;5;45mNone\u001b[0m, \u001b[38;5;34m3\u001b[0m)                   │              \u001b[38;5;34m51\u001b[0m │\n",
       "└──────────────────────────────────────┴─────────────────────────────┴─────────────────┘\n"
      ]
     },
     "metadata": {},
     "output_type": "display_data"
    },
    {
     "data": {
      "text/html": [
       "<pre style=\"white-space:pre;overflow-x:auto;line-height:normal;font-family:Menlo,'DejaVu Sans Mono',consolas,'Courier New',monospace\"><span style=\"font-weight: bold\"> Total params: </span><span style=\"color: #00af00; text-decoration-color: #00af00\">2,915</span> (11.39 KB)\n",
       "</pre>\n"
      ],
      "text/plain": [
       "\u001b[1m Total params: \u001b[0m\u001b[38;5;34m2,915\u001b[0m (11.39 KB)\n"
      ]
     },
     "metadata": {},
     "output_type": "display_data"
    },
    {
     "data": {
      "text/html": [
       "<pre style=\"white-space:pre;overflow-x:auto;line-height:normal;font-family:Menlo,'DejaVu Sans Mono',consolas,'Courier New',monospace\"><span style=\"font-weight: bold\"> Trainable params: </span><span style=\"color: #00af00; text-decoration-color: #00af00\">2,915</span> (11.39 KB)\n",
       "</pre>\n"
      ],
      "text/plain": [
       "\u001b[1m Trainable params: \u001b[0m\u001b[38;5;34m2,915\u001b[0m (11.39 KB)\n"
      ]
     },
     "metadata": {},
     "output_type": "display_data"
    },
    {
     "data": {
      "text/html": [
       "<pre style=\"white-space:pre;overflow-x:auto;line-height:normal;font-family:Menlo,'DejaVu Sans Mono',consolas,'Courier New',monospace\"><span style=\"font-weight: bold\"> Non-trainable params: </span><span style=\"color: #00af00; text-decoration-color: #00af00\">0</span> (0.00 B)\n",
       "</pre>\n"
      ],
      "text/plain": [
       "\u001b[1m Non-trainable params: \u001b[0m\u001b[38;5;34m0\u001b[0m (0.00 B)\n"
      ]
     },
     "metadata": {},
     "output_type": "display_data"
    }
   ],
   "source": [
    "model.summary()"
   ]
  },
  {
   "cell_type": "code",
   "execution_count": 207,
   "id": "51bbad4b-fb13-4b09-8df3-42ec3860b778",
   "metadata": {},
   "outputs": [
    {
     "name": "stdout",
     "output_type": "stream",
     "text": [
      "Epoch 1/70\n",
      "\u001b[1m51/51\u001b[0m \u001b[32m━━━━━━━━━━━━━━━━━━━━\u001b[0m\u001b[37m\u001b[0m \u001b[1m1s\u001b[0m 997us/step - accuracy: 0.5578 - loss: 1.0039 \n",
      "Epoch 2/70\n",
      "\u001b[1m51/51\u001b[0m \u001b[32m━━━━━━━━━━━━━━━━━━━━\u001b[0m\u001b[37m\u001b[0m \u001b[1m0s\u001b[0m 829us/step - accuracy: 0.9511 - loss: 0.5464\n",
      "Epoch 3/70\n",
      "\u001b[1m51/51\u001b[0m \u001b[32m━━━━━━━━━━━━━━━━━━━━\u001b[0m\u001b[37m\u001b[0m \u001b[1m0s\u001b[0m 662us/step - accuracy: 1.0000 - loss: 0.1829\n",
      "Epoch 4/70\n",
      "\u001b[1m51/51\u001b[0m \u001b[32m━━━━━━━━━━━━━━━━━━━━\u001b[0m\u001b[37m\u001b[0m \u001b[1m0s\u001b[0m 832us/step - accuracy: 1.0000 - loss: 0.0445\n",
      "Epoch 5/70\n",
      "\u001b[1m51/51\u001b[0m \u001b[32m━━━━━━━━━━━━━━━━━━━━\u001b[0m\u001b[37m\u001b[0m \u001b[1m0s\u001b[0m 995us/step - accuracy: 1.0000 - loss: 0.0156\n",
      "Epoch 6/70\n",
      "\u001b[1m51/51\u001b[0m \u001b[32m━━━━━━━━━━━━━━━━━━━━\u001b[0m\u001b[37m\u001b[0m \u001b[1m0s\u001b[0m 832us/step - accuracy: 1.0000 - loss: 0.0073\n",
      "Epoch 7/70\n",
      "\u001b[1m51/51\u001b[0m \u001b[32m━━━━━━━━━━━━━━━━━━━━\u001b[0m\u001b[37m\u001b[0m \u001b[1m0s\u001b[0m 834us/step - accuracy: 1.0000 - loss: 0.0041\n",
      "Epoch 8/70\n",
      "\u001b[1m51/51\u001b[0m \u001b[32m━━━━━━━━━━━━━━━━━━━━\u001b[0m\u001b[37m\u001b[0m \u001b[1m0s\u001b[0m 832us/step - accuracy: 1.0000 - loss: 0.0027\n",
      "Epoch 9/70\n",
      "\u001b[1m51/51\u001b[0m \u001b[32m━━━━━━━━━━━━━━━━━━━━\u001b[0m\u001b[37m\u001b[0m \u001b[1m0s\u001b[0m 662us/step - accuracy: 1.0000 - loss: 0.0019\n",
      "Epoch 10/70\n",
      "\u001b[1m51/51\u001b[0m \u001b[32m━━━━━━━━━━━━━━━━━━━━\u001b[0m\u001b[37m\u001b[0m \u001b[1m0s\u001b[0m 831us/step - accuracy: 1.0000 - loss: 0.0015\n",
      "Epoch 11/70\n",
      "\u001b[1m51/51\u001b[0m \u001b[32m━━━━━━━━━━━━━━━━━━━━\u001b[0m\u001b[37m\u001b[0m \u001b[1m0s\u001b[0m 666us/step - accuracy: 1.0000 - loss: 0.0011   \n",
      "Epoch 12/70\n",
      "\u001b[1m51/51\u001b[0m \u001b[32m━━━━━━━━━━━━━━━━━━━━\u001b[0m\u001b[37m\u001b[0m \u001b[1m0s\u001b[0m 661us/step - accuracy: 1.0000 - loss: 8.6268e-04\n",
      "Epoch 13/70\n",
      "\u001b[1m51/51\u001b[0m \u001b[32m━━━━━━━━━━━━━━━━━━━━\u001b[0m\u001b[37m\u001b[0m \u001b[1m0s\u001b[0m 661us/step - accuracy: 1.0000 - loss: 7.1478e-04\n",
      "Epoch 14/70\n",
      "\u001b[1m51/51\u001b[0m \u001b[32m━━━━━━━━━━━━━━━━━━━━\u001b[0m\u001b[37m\u001b[0m \u001b[1m0s\u001b[0m 829us/step - accuracy: 1.0000 - loss: 5.7497e-04\n",
      "Epoch 15/70\n",
      "\u001b[1m51/51\u001b[0m \u001b[32m━━━━━━━━━━━━━━━━━━━━\u001b[0m\u001b[37m\u001b[0m \u001b[1m0s\u001b[0m 665us/step - accuracy: 1.0000 - loss: 5.0396e-04\n",
      "Epoch 16/70\n",
      "\u001b[1m51/51\u001b[0m \u001b[32m━━━━━━━━━━━━━━━━━━━━\u001b[0m\u001b[37m\u001b[0m \u001b[1m0s\u001b[0m 828us/step - accuracy: 1.0000 - loss: 3.8528e-04\n",
      "Epoch 17/70\n",
      "\u001b[1m51/51\u001b[0m \u001b[32m━━━━━━━━━━━━━━━━━━━━\u001b[0m\u001b[37m\u001b[0m \u001b[1m0s\u001b[0m 665us/step - accuracy: 1.0000 - loss: 3.5947e-04\n",
      "Epoch 18/70\n",
      "\u001b[1m51/51\u001b[0m \u001b[32m━━━━━━━━━━━━━━━━━━━━\u001b[0m\u001b[37m\u001b[0m \u001b[1m0s\u001b[0m 664us/step - accuracy: 1.0000 - loss: 3.1752e-04\n",
      "Epoch 19/70\n",
      "\u001b[1m51/51\u001b[0m \u001b[32m━━━━━━━━━━━━━━━━━━━━\u001b[0m\u001b[37m\u001b[0m \u001b[1m0s\u001b[0m 663us/step - accuracy: 1.0000 - loss: 2.7819e-04\n",
      "Epoch 20/70\n",
      "\u001b[1m51/51\u001b[0m \u001b[32m━━━━━━━━━━━━━━━━━━━━\u001b[0m\u001b[37m\u001b[0m \u001b[1m0s\u001b[0m 830us/step - accuracy: 1.0000 - loss: 2.5955e-04\n",
      "Epoch 21/70\n",
      "\u001b[1m51/51\u001b[0m \u001b[32m━━━━━━━━━━━━━━━━━━━━\u001b[0m\u001b[37m\u001b[0m \u001b[1m0s\u001b[0m 664us/step - accuracy: 1.0000 - loss: 2.1249e-04\n",
      "Epoch 22/70\n",
      "\u001b[1m51/51\u001b[0m \u001b[32m━━━━━━━━━━━━━━━━━━━━\u001b[0m\u001b[37m\u001b[0m \u001b[1m0s\u001b[0m 665us/step - accuracy: 1.0000 - loss: 2.0882e-04\n",
      "Epoch 23/70\n",
      "\u001b[1m51/51\u001b[0m \u001b[32m━━━━━━━━━━━━━━━━━━━━\u001b[0m\u001b[37m\u001b[0m \u001b[1m0s\u001b[0m 664us/step - accuracy: 1.0000 - loss: 1.7413e-04\n",
      "Epoch 24/70\n",
      "\u001b[1m51/51\u001b[0m \u001b[32m━━━━━━━━━━━━━━━━━━━━\u001b[0m\u001b[37m\u001b[0m \u001b[1m0s\u001b[0m 660us/step - accuracy: 1.0000 - loss: 1.5644e-04\n",
      "Epoch 25/70\n",
      "\u001b[1m51/51\u001b[0m \u001b[32m━━━━━━━━━━━━━━━━━━━━\u001b[0m\u001b[37m\u001b[0m \u001b[1m0s\u001b[0m 663us/step - accuracy: 1.0000 - loss: 1.4611e-04\n",
      "Epoch 26/70\n",
      "\u001b[1m51/51\u001b[0m \u001b[32m━━━━━━━━━━━━━━━━━━━━\u001b[0m\u001b[37m\u001b[0m \u001b[1m0s\u001b[0m 663us/step - accuracy: 1.0000 - loss: 1.3462e-04\n",
      "Epoch 27/70\n",
      "\u001b[1m51/51\u001b[0m \u001b[32m━━━━━━━━━━━━━━━━━━━━\u001b[0m\u001b[37m\u001b[0m \u001b[1m0s\u001b[0m 829us/step - accuracy: 1.0000 - loss: 1.1962e-04\n",
      "Epoch 28/70\n",
      "\u001b[1m51/51\u001b[0m \u001b[32m━━━━━━━━━━━━━━━━━━━━\u001b[0m\u001b[37m\u001b[0m \u001b[1m0s\u001b[0m 831us/step - accuracy: 1.0000 - loss: 1.1360e-04\n",
      "Epoch 29/70\n",
      "\u001b[1m51/51\u001b[0m \u001b[32m━━━━━━━━━━━━━━━━━━━━\u001b[0m\u001b[37m\u001b[0m \u001b[1m0s\u001b[0m 830us/step - accuracy: 1.0000 - loss: 1.0235e-04\n",
      "Epoch 30/70\n",
      "\u001b[1m51/51\u001b[0m \u001b[32m━━━━━━━━━━━━━━━━━━━━\u001b[0m\u001b[37m\u001b[0m \u001b[1m0s\u001b[0m 829us/step - accuracy: 1.0000 - loss: 9.6748e-05\n",
      "Epoch 31/70\n",
      "\u001b[1m51/51\u001b[0m \u001b[32m━━━━━━━━━━━━━━━━━━━━\u001b[0m\u001b[37m\u001b[0m \u001b[1m0s\u001b[0m 665us/step - accuracy: 1.0000 - loss: 8.9050e-05\n",
      "Epoch 32/70\n",
      "\u001b[1m51/51\u001b[0m \u001b[32m━━━━━━━━━━━━━━━━━━━━\u001b[0m\u001b[37m\u001b[0m \u001b[1m0s\u001b[0m 664us/step - accuracy: 1.0000 - loss: 8.2645e-05\n",
      "Epoch 33/70\n",
      "\u001b[1m51/51\u001b[0m \u001b[32m━━━━━━━━━━━━━━━━━━━━\u001b[0m\u001b[37m\u001b[0m \u001b[1m0s\u001b[0m 664us/step - accuracy: 1.0000 - loss: 7.4195e-05\n",
      "Epoch 34/70\n",
      "\u001b[1m51/51\u001b[0m \u001b[32m━━━━━━━━━━━━━━━━━━━━\u001b[0m\u001b[37m\u001b[0m \u001b[1m0s\u001b[0m 827us/step - accuracy: 1.0000 - loss: 7.0937e-05\n",
      "Epoch 35/70\n",
      "\u001b[1m51/51\u001b[0m \u001b[32m━━━━━━━━━━━━━━━━━━━━\u001b[0m\u001b[37m\u001b[0m \u001b[1m0s\u001b[0m 664us/step - accuracy: 1.0000 - loss: 6.7606e-05\n",
      "Epoch 36/70\n",
      "\u001b[1m51/51\u001b[0m \u001b[32m━━━━━━━━━━━━━━━━━━━━\u001b[0m\u001b[37m\u001b[0m \u001b[1m0s\u001b[0m 662us/step - accuracy: 1.0000 - loss: 6.2360e-05\n",
      "Epoch 37/70\n",
      "\u001b[1m51/51\u001b[0m \u001b[32m━━━━━━━━━━━━━━━━━━━━\u001b[0m\u001b[37m\u001b[0m \u001b[1m0s\u001b[0m 662us/step - accuracy: 1.0000 - loss: 5.8249e-05\n",
      "Epoch 38/70\n",
      "\u001b[1m51/51\u001b[0m \u001b[32m━━━━━━━━━━━━━━━━━━━━\u001b[0m\u001b[37m\u001b[0m \u001b[1m0s\u001b[0m 832us/step - accuracy: 1.0000 - loss: 5.7895e-05\n",
      "Epoch 39/70\n",
      "\u001b[1m51/51\u001b[0m \u001b[32m━━━━━━━━━━━━━━━━━━━━\u001b[0m\u001b[37m\u001b[0m \u001b[1m0s\u001b[0m 662us/step - accuracy: 1.0000 - loss: 5.1987e-05\n",
      "Epoch 40/70\n",
      "\u001b[1m51/51\u001b[0m \u001b[32m━━━━━━━━━━━━━━━━━━━━\u001b[0m\u001b[37m\u001b[0m \u001b[1m0s\u001b[0m 829us/step - accuracy: 1.0000 - loss: 4.8346e-05\n",
      "Epoch 41/70\n",
      "\u001b[1m51/51\u001b[0m \u001b[32m━━━━━━━━━━━━━━━━━━━━\u001b[0m\u001b[37m\u001b[0m \u001b[1m0s\u001b[0m 830us/step - accuracy: 1.0000 - loss: 4.3436e-05\n",
      "Epoch 42/70\n",
      "\u001b[1m51/51\u001b[0m \u001b[32m━━━━━━━━━━━━━━━━━━━━\u001b[0m\u001b[37m\u001b[0m \u001b[1m0s\u001b[0m 644us/step - accuracy: 1.0000 - loss: 4.4368e-05\n",
      "Epoch 43/70\n",
      "\u001b[1m51/51\u001b[0m \u001b[32m━━━━━━━━━━━━━━━━━━━━\u001b[0m\u001b[37m\u001b[0m \u001b[1m0s\u001b[0m 829us/step - accuracy: 1.0000 - loss: 3.9001e-05\n",
      "Epoch 44/70\n",
      "\u001b[1m51/51\u001b[0m \u001b[32m━━━━━━━━━━━━━━━━━━━━\u001b[0m\u001b[37m\u001b[0m \u001b[1m0s\u001b[0m 829us/step - accuracy: 1.0000 - loss: 3.6445e-05\n",
      "Epoch 45/70\n",
      "\u001b[1m51/51\u001b[0m \u001b[32m━━━━━━━━━━━━━━━━━━━━\u001b[0m\u001b[37m\u001b[0m \u001b[1m0s\u001b[0m 663us/step - accuracy: 1.0000 - loss: 3.4746e-05\n",
      "Epoch 46/70\n",
      "\u001b[1m51/51\u001b[0m \u001b[32m━━━━━━━━━━━━━━━━━━━━\u001b[0m\u001b[37m\u001b[0m \u001b[1m0s\u001b[0m 662us/step - accuracy: 1.0000 - loss: 3.4281e-05\n",
      "Epoch 47/70\n",
      "\u001b[1m51/51\u001b[0m \u001b[32m━━━━━━━━━━━━━━━━━━━━\u001b[0m\u001b[37m\u001b[0m \u001b[1m0s\u001b[0m 829us/step - accuracy: 1.0000 - loss: 3.2015e-05\n",
      "Epoch 48/70\n",
      "\u001b[1m51/51\u001b[0m \u001b[32m━━━━━━━━━━━━━━━━━━━━\u001b[0m\u001b[37m\u001b[0m \u001b[1m0s\u001b[0m 664us/step - accuracy: 1.0000 - loss: 2.9966e-05\n",
      "Epoch 49/70\n",
      "\u001b[1m51/51\u001b[0m \u001b[32m━━━━━━━━━━━━━━━━━━━━\u001b[0m\u001b[37m\u001b[0m \u001b[1m0s\u001b[0m 621us/step - accuracy: 1.0000 - loss: 2.8721e-05\n",
      "Epoch 50/70\n",
      "\u001b[1m51/51\u001b[0m \u001b[32m━━━━━━━━━━━━━━━━━━━━\u001b[0m\u001b[37m\u001b[0m \u001b[1m0s\u001b[0m 664us/step - accuracy: 1.0000 - loss: 2.6943e-05\n",
      "Epoch 51/70\n",
      "\u001b[1m51/51\u001b[0m \u001b[32m━━━━━━━━━━━━━━━━━━━━\u001b[0m\u001b[37m\u001b[0m \u001b[1m0s\u001b[0m 664us/step - accuracy: 1.0000 - loss: 2.5709e-05\n",
      "Epoch 52/70\n",
      "\u001b[1m51/51\u001b[0m \u001b[32m━━━━━━━━━━━━━━━━━━━━\u001b[0m\u001b[37m\u001b[0m \u001b[1m0s\u001b[0m 663us/step - accuracy: 1.0000 - loss: 2.5262e-05\n",
      "Epoch 53/70\n",
      "\u001b[1m51/51\u001b[0m \u001b[32m━━━━━━━━━━━━━━━━━━━━\u001b[0m\u001b[37m\u001b[0m \u001b[1m0s\u001b[0m 828us/step - accuracy: 1.0000 - loss: 2.4623e-05\n",
      "Epoch 54/70\n",
      "\u001b[1m51/51\u001b[0m \u001b[32m━━━━━━━━━━━━━━━━━━━━\u001b[0m\u001b[37m\u001b[0m \u001b[1m0s\u001b[0m 662us/step - accuracy: 1.0000 - loss: 2.2715e-05\n",
      "Epoch 55/70\n",
      "\u001b[1m51/51\u001b[0m \u001b[32m━━━━━━━━━━━━━━━━━━━━\u001b[0m\u001b[37m\u001b[0m \u001b[1m0s\u001b[0m 664us/step - accuracy: 1.0000 - loss: 2.1498e-05\n",
      "Epoch 56/70\n",
      "\u001b[1m51/51\u001b[0m \u001b[32m━━━━━━━━━━━━━━━━━━━━\u001b[0m\u001b[37m\u001b[0m \u001b[1m0s\u001b[0m 664us/step - accuracy: 1.0000 - loss: 2.1173e-05\n",
      "Epoch 57/70\n",
      "\u001b[1m51/51\u001b[0m \u001b[32m━━━━━━━━━━━━━━━━━━━━\u001b[0m\u001b[37m\u001b[0m \u001b[1m0s\u001b[0m 664us/step - accuracy: 1.0000 - loss: 1.9144e-05\n",
      "Epoch 58/70\n",
      "\u001b[1m51/51\u001b[0m \u001b[32m━━━━━━━━━━━━━━━━━━━━\u001b[0m\u001b[37m\u001b[0m \u001b[1m0s\u001b[0m 661us/step - accuracy: 1.0000 - loss: 1.8494e-05\n",
      "Epoch 59/70\n",
      "\u001b[1m51/51\u001b[0m \u001b[32m━━━━━━━━━━━━━━━━━━━━\u001b[0m\u001b[37m\u001b[0m \u001b[1m0s\u001b[0m 662us/step - accuracy: 1.0000 - loss: 1.7480e-05\n",
      "Epoch 60/70\n",
      "\u001b[1m51/51\u001b[0m \u001b[32m━━━━━━━━━━━━━━━━━━━━\u001b[0m\u001b[37m\u001b[0m \u001b[1m0s\u001b[0m 664us/step - accuracy: 1.0000 - loss: 1.6320e-05\n",
      "Epoch 61/70\n",
      "\u001b[1m51/51\u001b[0m \u001b[32m━━━━━━━━━━━━━━━━━━━━\u001b[0m\u001b[37m\u001b[0m \u001b[1m0s\u001b[0m 662us/step - accuracy: 1.0000 - loss: 1.6842e-05\n",
      "Epoch 62/70\n",
      "\u001b[1m51/51\u001b[0m \u001b[32m━━━━━━━━━━━━━━━━━━━━\u001b[0m\u001b[37m\u001b[0m \u001b[1m0s\u001b[0m 663us/step - accuracy: 1.0000 - loss: 1.5471e-05\n",
      "Epoch 63/70\n",
      "\u001b[1m51/51\u001b[0m \u001b[32m━━━━━━━━━━━━━━━━━━━━\u001b[0m\u001b[37m\u001b[0m \u001b[1m0s\u001b[0m 643us/step - accuracy: 1.0000 - loss: 1.3902e-05\n",
      "Epoch 64/70\n",
      "\u001b[1m51/51\u001b[0m \u001b[32m━━━━━━━━━━━━━━━━━━━━\u001b[0m\u001b[37m\u001b[0m \u001b[1m0s\u001b[0m 664us/step - accuracy: 1.0000 - loss: 1.4509e-05\n",
      "Epoch 65/70\n",
      "\u001b[1m51/51\u001b[0m \u001b[32m━━━━━━━━━━━━━━━━━━━━\u001b[0m\u001b[37m\u001b[0m \u001b[1m0s\u001b[0m 664us/step - accuracy: 1.0000 - loss: 1.3244e-05\n",
      "Epoch 66/70\n",
      "\u001b[1m51/51\u001b[0m \u001b[32m━━━━━━━━━━━━━━━━━━━━\u001b[0m\u001b[37m\u001b[0m \u001b[1m0s\u001b[0m 664us/step - accuracy: 1.0000 - loss: 1.3281e-05\n",
      "Epoch 67/70\n",
      "\u001b[1m51/51\u001b[0m \u001b[32m━━━━━━━━━━━━━━━━━━━━\u001b[0m\u001b[37m\u001b[0m \u001b[1m0s\u001b[0m 662us/step - accuracy: 1.0000 - loss: 1.2268e-05\n",
      "Epoch 68/70\n",
      "\u001b[1m51/51\u001b[0m \u001b[32m━━━━━━━━━━━━━━━━━━━━\u001b[0m\u001b[37m\u001b[0m \u001b[1m0s\u001b[0m 662us/step - accuracy: 1.0000 - loss: 1.1734e-05\n",
      "Epoch 69/70\n",
      "\u001b[1m51/51\u001b[0m \u001b[32m━━━━━━━━━━━━━━━━━━━━\u001b[0m\u001b[37m\u001b[0m \u001b[1m0s\u001b[0m 830us/step - accuracy: 1.0000 - loss: 1.1346e-05\n",
      "Epoch 70/70\n",
      "\u001b[1m51/51\u001b[0m \u001b[32m━━━━━━━━━━━━━━━━━━━━\u001b[0m\u001b[37m\u001b[0m \u001b[1m0s\u001b[0m 664us/step - accuracy: 1.0000 - loss: 1.0988e-05\n"
     ]
    }
   ],
   "source": [
    "\n",
    "history = model.fit(x_train_scaled, y_train, epochs=70)"
   ]
  },
  {
   "cell_type": "code",
   "execution_count": 208,
   "id": "c61c8a9c-0df3-4255-84ef-d6a02f071c20",
   "metadata": {},
   "outputs": [
    {
     "name": "stdout",
     "output_type": "stream",
     "text": [
      "\u001b[1m13/13\u001b[0m \u001b[32m━━━━━━━━━━━━━━━━━━━━\u001b[0m\u001b[37m\u001b[0m \u001b[1m0s\u001b[0m 663us/step - accuracy: 1.0000 - loss: 1.0199e-05\n",
      "Test Accuracy: 1.0\n"
     ]
    }
   ],
   "source": [
    "test_loss, test_accuracy = model.evaluate(x_test_scaled, y_test)\n",
    "print(f'Test Accuracy: {test_accuracy}')\n"
   ]
  },
  {
   "cell_type": "code",
   "execution_count": 210,
   "id": "2f1c06fa-9c66-4748-9efd-6cda6f921306",
   "metadata": {},
   "outputs": [],
   "source": [
    "import pickle\n",
    "\n",
    "# Specify the filename\n",
    "filename = 'mlp_model_ver2.pkl'\n",
    "\n",
    "# Save the model to disk\n",
    "with open(filename, 'wb') as file:\n",
    "    pickle.dump(model, file)\n",
    "\n"
   ]
  },
  {
   "cell_type": "code",
   "execution_count": 211,
   "id": "11321d34-a838-4abb-8d43-53f87edfd43f",
   "metadata": {},
   "outputs": [
    {
     "name": "stdout",
     "output_type": "stream",
     "text": [
      "\u001b[1m13/13\u001b[0m \u001b[32m━━━━━━━━━━━━━━━━━━━━\u001b[0m\u001b[37m\u001b[0m \u001b[1m0s\u001b[0m 3ms/step \n"
     ]
    }
   ],
   "source": [
    "# Load the model from disk\n",
    "with open('mlp_model_ver2.pkl', 'rb') as file:\n",
    "    loaded_mlp_model = pickle.load(file)\n",
    "\n",
    "# Use the loaded model to make predictions\n",
    "predictions = loaded_mlp_model.predict(x_test_scaled)\n"
   ]
  },
  {
   "cell_type": "code",
   "execution_count": 212,
   "id": "9812dc86-7232-4f28-aaa1-c4f133c5d73a",
   "metadata": {},
   "outputs": [
    {
     "data": {
      "text/plain": [
       "array([[9.9999690e-01, 2.9393643e-06, 1.7543103e-07],\n",
       "       [9.9999881e-01, 1.1154619e-06, 6.9212042e-08],\n",
       "       [7.8996698e-07, 4.4382961e-07, 9.9999869e-01],\n",
       "       ...,\n",
       "       [6.0218053e-06, 9.9996662e-01, 2.7380771e-05],\n",
       "       [3.5760511e-06, 9.9998355e-01, 1.2867664e-05],\n",
       "       [9.6016174e-07, 1.0707649e-06, 9.9999797e-01]], dtype=float32)"
      ]
     },
     "execution_count": 212,
     "metadata": {},
     "output_type": "execute_result"
    }
   ],
   "source": [
    "predictions"
   ]
  },
  {
   "cell_type": "code",
   "execution_count": 213,
   "id": "3e0bc7b0-6b82-4538-aadb-e3d053c04865",
   "metadata": {},
   "outputs": [
    {
     "data": {
      "text/plain": [
       "[<matplotlib.lines.Line2D at 0x21c255f98d0>]"
      ]
     },
     "execution_count": 213,
     "metadata": {},
     "output_type": "execute_result"
    },
    {
     "data": {
      "image/png": "[encoded data removed]",
      "text/plain": [
       "<Figure size 640x480 with 1 Axes>"
      ]
     },
     "metadata": {},
     "output_type": "display_data"
    }
   ],
   "source": [
    "import matplotlib.pyplot as plt \n",
    "plt.plot(history.history['loss'])"
   ]
  },
  {
   "cell_type": "code",
   "execution_count": 214,
   "id": "af6029d5-94fd-4a0b-928e-68947003ec97",
   "metadata": {},
   "outputs": [
    {
     "data": {
      "image/png": "[encoded data removed]",
      "text/plain": [
       "<Figure size 640x480 with 1 Axes>"
      ]
     },
     "metadata": {},
     "output_type": "display_data"
    }
   ],
   "source": [
    "plt.plot(history.history['accuracy'])\n",
    "plt.title('Model accuracy')\n",
    "plt.ylabel('Accuracy')\n",
    "plt.xlabel('Epoch')\n",
    "plt.legend(['Accuracy'], loc='lower right')\n",
    "plt.show()"
   ]
  },
  {
   "cell_type": "code",
   "execution_count": 215,
   "id": "77a3f169-78df-4909-8657-51219e7ff4b3",
   "metadata": {},
   "outputs": [
    {
     "name": "stdout",
     "output_type": "stream",
     "text": [
      "\u001b[1m13/13\u001b[0m \u001b[32m━━━━━━━━━━━━━━━━━━━━\u001b[0m\u001b[37m\u001b[0m \u001b[1m0s\u001b[0m 3ms/step \n"
     ]
    }
   ],
   "source": [
    "y_pred=model.predict(x_test_scaled)"
   ]
  },
  {
   "cell_type": "code",
   "execution_count": 216,
   "id": "36d2eeaa-b755-4215-9542-aa6fffabc8f4",
   "metadata": {},
   "outputs": [
    {
     "data": {
      "text/html": [
       "<div>\n",
       "<style scoped>\n",
       "    .dataframe tbody tr th:only-of-type {\n",
       "        vertical-align: middle;\n",
       "    }\n",
       "\n",
       "    .dataframe tbody tr th {\n",
       "        vertical-align: top;\n",
       "    }\n",
       "\n",
       "    .dataframe thead th {\n",
       "        text-align: right;\n",
       "    }\n",
       "</style>\n",
       "<table border=\"1\" class=\"dataframe\">\n",
       "  <thead>\n",
       "    <tr style=\"text-align: right;\">\n",
       "      <th></th>\n",
       "      <th>Decision</th>\n",
       "    </tr>\n",
       "  </thead>\n",
       "  <tbody>\n",
       "    <tr>\n",
       "      <th>1064</th>\n",
       "      <td>0</td>\n",
       "    </tr>\n",
       "    <tr>\n",
       "      <th>160</th>\n",
       "      <td>1</td>\n",
       "    </tr>\n",
       "    <tr>\n",
       "      <th>119</th>\n",
       "      <td>0</td>\n",
       "    </tr>\n",
       "    <tr>\n",
       "      <th>591</th>\n",
       "      <td>0</td>\n",
       "    </tr>\n",
       "    <tr>\n",
       "      <th>61</th>\n",
       "      <td>2</td>\n",
       "    </tr>\n",
       "  </tbody>\n",
       "</table>\n",
       "</div>"
      ],
      "text/plain": [
       "      Decision \n",
       "1064          0\n",
       "160           1\n",
       "119           0\n",
       "591           0\n",
       "61            2"
      ]
     },
     "execution_count": 216,
     "metadata": {},
     "output_type": "execute_result"
    }
   ],
   "source": [
    "y_train.head()"
   ]
  },
  {
   "cell_type": "code",
   "execution_count": 217,
   "id": "79f8b942-6666-4e24-8b67-d9125cf2ea48",
   "metadata": {},
   "outputs": [
    {
     "data": {
      "text/plain": [
       "array([[9.99996901e-01, 2.93936432e-06, 1.75431026e-07],\n",
       "       [9.99998808e-01, 1.11546194e-06, 6.92120423e-08],\n",
       "       [7.89966975e-07, 4.43829606e-07, 9.99998689e-01],\n",
       "       [5.41209101e-06, 9.99971390e-01, 2.32512593e-05],\n",
       "       [6.62486855e-06, 9.99961615e-01, 3.17606355e-05],\n",
       "       [9.99999166e-01, 8.93057859e-07, 5.79900039e-08],\n",
       "       [1.10585609e-06, 2.01416447e-06, 9.99996901e-01],\n",
       "       [1.75315529e-06, 9.84766120e-06, 9.99988317e-01],\n",
       "       [9.99997973e-01, 1.89486298e-06, 1.13133034e-07],\n",
       "       [7.70057625e-07, 3.90496012e-07, 9.99998927e-01],\n",
       "       [7.25644554e-07, 2.08737205e-07, 9.99999046e-01],\n",
       "       [9.99999166e-01, 8.75075727e-07, 5.71009728e-08],\n",
       "       [9.99993205e-01, 6.43243720e-06, 3.68567640e-07],\n",
       "       [7.27400959e-07, 2.36082471e-07, 9.99999046e-01],\n",
       "       [4.01478928e-06, 9.99980807e-01, 1.51451977e-05],\n",
       "       [9.99999285e-01, 7.47987599e-07, 5.06858235e-08],\n",
       "       [9.99997854e-01, 2.02553520e-06, 1.20982946e-07],\n",
       "       [9.99998450e-01, 1.37716188e-06, 8.28253661e-08],\n",
       "       [9.99995470e-01, 4.24632753e-06, 2.50818402e-07],\n",
       "       [2.46117861e-06, 2.71022964e-05, 9.99970436e-01]], dtype=float32)"
      ]
     },
     "execution_count": 217,
     "metadata": {},
     "output_type": "execute_result"
    }
   ],
   "source": [
    "y_pred[:20]"
   ]
  },
  {
   "cell_type": "code",
   "execution_count": 218,
   "id": "029bfa39-aceb-4f73-8334-690ed49ab01c",
   "metadata": {},
   "outputs": [
    {
     "data": {
      "text/html": [
       "<div>\n",
       "<style scoped>\n",
       "    .dataframe tbody tr th:only-of-type {\n",
       "        vertical-align: middle;\n",
       "    }\n",
       "\n",
       "    .dataframe tbody tr th {\n",
       "        vertical-align: top;\n",
       "    }\n",
       "\n",
       "    .dataframe thead th {\n",
       "        text-align: right;\n",
       "    }\n",
       "</style>\n",
       "<table border=\"1\" class=\"dataframe\">\n",
       "  <thead>\n",
       "    <tr style=\"text-align: right;\">\n",
       "      <th></th>\n",
       "      <th>Decision</th>\n",
       "    </tr>\n",
       "  </thead>\n",
       "  <tbody>\n",
       "    <tr>\n",
       "      <th>2011</th>\n",
       "      <td>0</td>\n",
       "    </tr>\n",
       "    <tr>\n",
       "      <th>178</th>\n",
       "      <td>0</td>\n",
       "    </tr>\n",
       "    <tr>\n",
       "      <th>454</th>\n",
       "      <td>2</td>\n",
       "    </tr>\n",
       "    <tr>\n",
       "      <th>410</th>\n",
       "      <td>1</td>\n",
       "    </tr>\n",
       "    <tr>\n",
       "      <th>511</th>\n",
       "      <td>1</td>\n",
       "    </tr>\n",
       "    <tr>\n",
       "      <th>1943</th>\n",
       "      <td>0</td>\n",
       "    </tr>\n",
       "    <tr>\n",
       "      <th>1543</th>\n",
       "      <td>2</td>\n",
       "    </tr>\n",
       "    <tr>\n",
       "      <th>487</th>\n",
       "      <td>2</td>\n",
       "    </tr>\n",
       "    <tr>\n",
       "      <th>8</th>\n",
       "      <td>0</td>\n",
       "    </tr>\n",
       "    <tr>\n",
       "      <th>403</th>\n",
       "      <td>2</td>\n",
       "    </tr>\n",
       "    <tr>\n",
       "      <th>460</th>\n",
       "      <td>2</td>\n",
       "    </tr>\n",
       "    <tr>\n",
       "      <th>98</th>\n",
       "      <td>0</td>\n",
       "    </tr>\n",
       "    <tr>\n",
       "      <th>1909</th>\n",
       "      <td>0</td>\n",
       "    </tr>\n",
       "    <tr>\n",
       "      <th>608</th>\n",
       "      <td>2</td>\n",
       "    </tr>\n",
       "    <tr>\n",
       "      <th>595</th>\n",
       "      <td>1</td>\n",
       "    </tr>\n",
       "    <tr>\n",
       "      <th>1804</th>\n",
       "      <td>0</td>\n",
       "    </tr>\n",
       "    <tr>\n",
       "      <th>1734</th>\n",
       "      <td>0</td>\n",
       "    </tr>\n",
       "    <tr>\n",
       "      <th>1135</th>\n",
       "      <td>0</td>\n",
       "    </tr>\n",
       "    <tr>\n",
       "      <th>1380</th>\n",
       "      <td>0</td>\n",
       "    </tr>\n",
       "    <tr>\n",
       "      <th>1577</th>\n",
       "      <td>2</td>\n",
       "    </tr>\n",
       "  </tbody>\n",
       "</table>\n",
       "</div>"
      ],
      "text/plain": [
       "      Decision \n",
       "2011          0\n",
       "178           0\n",
       "454           2\n",
       "410           1\n",
       "511           1\n",
       "1943          0\n",
       "1543          2\n",
       "487           2\n",
       "8             0\n",
       "403           2\n",
       "460           2\n",
       "98            0\n",
       "1909          0\n",
       "608           2\n",
       "595           1\n",
       "1804          0\n",
       "1734          0\n",
       "1135          0\n",
       "1380          0\n",
       "1577          2"
      ]
     },
     "execution_count": 218,
     "metadata": {},
     "output_type": "execute_result"
    }
   ],
   "source": [
    "y_test.head(20)"
   ]
  },
  {
   "cell_type": "code",
   "execution_count": 219,
   "id": "09420777-2872-4727-a052-d06e67eb4536",
   "metadata": {},
   "outputs": [
    {
     "data": {
      "text/plain": [
       "array([[0.09615266, 0.80345086, 0.        ],\n",
       "       [0.55140043, 0.59952488, 1.        ],\n",
       "       [0.08464143, 0.79707427, 0.        ],\n",
       "       [0.12120653, 0.81732933, 0.        ],\n",
       "       [0.7156048 , 0.03750938, 1.        ],\n",
       "       [0.17266851, 0.84583646, 0.        ],\n",
       "       [0.7820868 , 0.14553638, 1.        ],\n",
       "       [0.64484457, 0.70305076, 1.        ],\n",
       "       [0.57510003, 0.62578145, 1.        ],\n",
       "       [0.51889812, 0.56351588, 1.        ]])"
      ]
     },
     "execution_count": 219,
     "metadata": {},
     "output_type": "execute_result"
    }
   ],
   "source": [
    "x_train_scaled[:10]"
   ]
  },
  {
   "cell_type": "code",
   "execution_count": 220,
   "id": "64baf4fb-1230-4d3c-95e1-41443e00bb47",
   "metadata": {},
   "outputs": [
    {
     "data": {
      "text/html": [
       "<div>\n",
       "<style scoped>\n",
       "    .dataframe tbody tr th:only-of-type {\n",
       "        vertical-align: middle;\n",
       "    }\n",
       "\n",
       "    .dataframe tbody tr th {\n",
       "        vertical-align: top;\n",
       "    }\n",
       "\n",
       "    .dataframe thead th {\n",
       "        text-align: right;\n",
       "    }\n",
       "</style>\n",
       "<table border=\"1\" class=\"dataframe\">\n",
       "  <thead>\n",
       "    <tr style=\"text-align: right;\">\n",
       "      <th></th>\n",
       "      <th>HRV</th>\n",
       "      <th>SpO2</th>\n",
       "      <th>Accelerometer</th>\n",
       "    </tr>\n",
       "  </thead>\n",
       "  <tbody>\n",
       "    <tr>\n",
       "      <th>1064</th>\n",
       "      <td>66.248</td>\n",
       "      <td>92.130</td>\n",
       "      <td>0.0</td>\n",
       "    </tr>\n",
       "    <tr>\n",
       "      <th>160</th>\n",
       "      <td>95.830</td>\n",
       "      <td>83.975</td>\n",
       "      <td>1.0</td>\n",
       "    </tr>\n",
       "    <tr>\n",
       "      <th>119</th>\n",
       "      <td>65.500</td>\n",
       "      <td>91.875</td>\n",
       "      <td>0.0</td>\n",
       "    </tr>\n",
       "    <tr>\n",
       "      <th>591</th>\n",
       "      <td>67.876</td>\n",
       "      <td>92.685</td>\n",
       "      <td>0.0</td>\n",
       "    </tr>\n",
       "    <tr>\n",
       "      <th>61</th>\n",
       "      <td>106.500</td>\n",
       "      <td>61.500</td>\n",
       "      <td>1.0</td>\n",
       "    </tr>\n",
       "    <tr>\n",
       "      <th>1301</th>\n",
       "      <td>71.220</td>\n",
       "      <td>93.825</td>\n",
       "      <td>0.0</td>\n",
       "    </tr>\n",
       "    <tr>\n",
       "      <th>1077</th>\n",
       "      <td>110.820</td>\n",
       "      <td>65.820</td>\n",
       "      <td>1.0</td>\n",
       "    </tr>\n",
       "    <tr>\n",
       "      <th>562</th>\n",
       "      <td>101.902</td>\n",
       "      <td>88.115</td>\n",
       "      <td>1.0</td>\n",
       "    </tr>\n",
       "    <tr>\n",
       "      <th>1825</th>\n",
       "      <td>97.370</td>\n",
       "      <td>85.025</td>\n",
       "      <td>1.0</td>\n",
       "    </tr>\n",
       "    <tr>\n",
       "      <th>1426</th>\n",
       "      <td>93.718</td>\n",
       "      <td>82.535</td>\n",
       "      <td>1.0</td>\n",
       "    </tr>\n",
       "  </tbody>\n",
       "</table>\n",
       "</div>"
      ],
      "text/plain": [
       "          HRV    SpO2  Accelerometer\n",
       "1064   66.248  92.130            0.0\n",
       "160    95.830  83.975            1.0\n",
       "119    65.500  91.875            0.0\n",
       "591    67.876  92.685            0.0\n",
       "61    106.500  61.500            1.0\n",
       "1301   71.220  93.825            0.0\n",
       "1077  110.820  65.820            1.0\n",
       "562   101.902  88.115            1.0\n",
       "1825   97.370  85.025            1.0\n",
       "1426   93.718  82.535            1.0"
      ]
     },
     "execution_count": 220,
     "metadata": {},
     "output_type": "execute_result"
    }
   ],
   "source": [
    "x_train[:10]"
   ]
  },
  {
   "cell_type": "code",
   "execution_count": 221,
   "id": "a3b875cb-c3bc-409c-a763-4f1be008fa8d",
   "metadata": {},
   "outputs": [],
   "source": [
    "import numpy as np\n",
    "\n",
    "def convert_to_class(y_pred):\n",
    "  max_indices = np.argmax(y_pred, axis=1)\n",
    "  return max_indices\n"
   ]
  },
  {
   "cell_type": "code",
   "execution_count": 222,
   "id": "00d1222c-46dd-4e86-a92d-8749e930af80",
   "metadata": {},
   "outputs": [
    {
     "name": "stdout",
     "output_type": "stream",
     "text": [
      "[0 0 2 1 1 0 2 2 0 2 2 0 0 2 1 0 0 0 0 2 1 2 1 0 2 2 1 1 0 1 1 0 2 2 2 2 1\n",
      " 2 2 2 0 0 0 2 1 2 2 2 2 0 2 2 0 2 2 0 2 1 2 2 2 0 1 0 2 0 0 1 1 1 2 0 2 1\n",
      " 1 2 0 1 2 0 2 0 0 1 0 2 2 1 0 2 2 2 2 0 0 2 0 0 2 1 2 2 0 1 0 2 1 2 1 1 1\n",
      " 1 1 2 2 2 0 2 2 0 0 2 0 0 0 2 0 1 2 0 0 0 1 2 2 2 2 0 1 0 2 1 1 1 0 0 0 2\n",
      " 1 2 0 0 2 1 2 2 2 1 1 1 1 1 2 1 1 0 2 2 1 2 2 2 1 0 1 0 1 0 1 0 2 0 0 2 0\n",
      " 0 0 0 2 2 1 2 2 1 0 2 0 0 0 1 0 0 1 2 2 1 0 2 2 0 0 1 2 0 0 0 2 0 2 1 1 2\n",
      " 1 0 2 0 0 0 1 1 2 2 0 1 0 0 2 2 1 2 2 2 0 2 0 0 2 2 2 2 2 1 1 1 0 2 0 1 0\n",
      " 2 2 2 0 0 1 0 0 1 1 0 0 0 1 1 0 1 0 0 0 1 1 1 0 1 1 0 0 1 2 1 2 0 1 2 0 0\n",
      " 1 0 0 2 2 1 1 1 0 0 2 1 0 1 0 0 2 1 2 1 1 1 1 1 1 1 2 1 1 1 0 1 2 0 0 1 2\n",
      " 1 1 2 2 2 2 1 1 1 0 2 0 1 1 1 2 0 2 0 1 0 2 2 1 1 0 2 1 1 2 0 0 1 2 2 1 1\n",
      " 0 2 1 1 2 0 1 2 1 0 0 2 0 1 0 0 0 1 1 2 2 0 2 1 2 2 1 1 2 0 1 2 1 1 0 1 1\n",
      " 2]\n"
     ]
    }
   ],
   "source": [
    "y_true = convert_to_class(y_pred)\n",
    "print(y_true)"
   ]
  },
  {
   "cell_type": "code",
   "execution_count": 223,
   "id": "998c2c83-c755-4b17-a8fd-14a4bfa86b1b",
   "metadata": {},
   "outputs": [
    {
     "data": {
      "text/html": [
       "<div>\n",
       "<style scoped>\n",
       "    .dataframe tbody tr th:only-of-type {\n",
       "        vertical-align: middle;\n",
       "    }\n",
       "\n",
       "    .dataframe tbody tr th {\n",
       "        vertical-align: top;\n",
       "    }\n",
       "\n",
       "    .dataframe thead th {\n",
       "        text-align: right;\n",
       "    }\n",
       "</style>\n",
       "<table border=\"1\" class=\"dataframe\">\n",
       "  <thead>\n",
       "    <tr style=\"text-align: right;\">\n",
       "      <th></th>\n",
       "      <th>Decision</th>\n",
       "    </tr>\n",
       "  </thead>\n",
       "  <tbody>\n",
       "    <tr>\n",
       "      <th>2011</th>\n",
       "      <td>0</td>\n",
       "    </tr>\n",
       "    <tr>\n",
       "      <th>178</th>\n",
       "      <td>0</td>\n",
       "    </tr>\n",
       "    <tr>\n",
       "      <th>454</th>\n",
       "      <td>2</td>\n",
       "    </tr>\n",
       "    <tr>\n",
       "      <th>410</th>\n",
       "      <td>1</td>\n",
       "    </tr>\n",
       "    <tr>\n",
       "      <th>511</th>\n",
       "      <td>1</td>\n",
       "    </tr>\n",
       "    <tr>\n",
       "      <th>1943</th>\n",
       "      <td>0</td>\n",
       "    </tr>\n",
       "    <tr>\n",
       "      <th>1543</th>\n",
       "      <td>2</td>\n",
       "    </tr>\n",
       "    <tr>\n",
       "      <th>487</th>\n",
       "      <td>2</td>\n",
       "    </tr>\n",
       "    <tr>\n",
       "      <th>8</th>\n",
       "      <td>0</td>\n",
       "    </tr>\n",
       "    <tr>\n",
       "      <th>403</th>\n",
       "      <td>2</td>\n",
       "    </tr>\n",
       "  </tbody>\n",
       "</table>\n",
       "</div>"
      ],
      "text/plain": [
       "      Decision \n",
       "2011          0\n",
       "178           0\n",
       "454           2\n",
       "410           1\n",
       "511           1\n",
       "1943          0\n",
       "1543          2\n",
       "487           2\n",
       "8             0\n",
       "403           2"
      ]
     },
     "execution_count": 223,
     "metadata": {},
     "output_type": "execute_result"
    }
   ],
   "source": [
    "y_test[:10]"
   ]
  },
  {
   "cell_type": "code",
   "execution_count": 224,
   "id": "aeb64380-9f97-4ae5-8459-ec549bfb0588",
   "metadata": {},
   "outputs": [
    {
     "data": {
      "text/plain": [
       "1.0"
      ]
     },
     "execution_count": 224,
     "metadata": {},
     "output_type": "execute_result"
    }
   ],
   "source": [
    "from sklearn.metrics import accuracy_score\n",
    "accuracy_score(y_test,y_true)"
   ]
  },
  {
   "cell_type": "code",
   "execution_count": 225,
   "id": "d55f6287-782d-460d-a6b8-98b0191837aa",
   "metadata": {},
   "outputs": [
    {
     "name": "stdout",
     "output_type": "stream",
     "text": [
      "\u001b[1m1/1\u001b[0m \u001b[32m━━━━━━━━━━━━━━━━━━━━\u001b[0m\u001b[37m\u001b[0m \u001b[1m0s\u001b[0m 16ms/step\n"
     ]
    },
    {
     "data": {
      "text/plain": [
       "array([[9.9999559e-01, 4.1206226e-06, 2.4367279e-07]], dtype=float32)"
      ]
     },
     "execution_count": 225,
     "metadata": {},
     "output_type": "execute_result"
    }
   ],
   "source": [
    "model.predict(x_train_scaled[[0]])"
   ]
  },
  {
   "cell_type": "code",
   "execution_count": 226,
   "id": "88c278a3-7f62-4e86-a480-71cf492e85bf",
   "metadata": {},
   "outputs": [
    {
     "name": "stdout",
     "output_type": "stream",
     "text": [
      "\u001b[1m51/51\u001b[0m \u001b[32m━━━━━━━━━━━━━━━━━━━━\u001b[0m\u001b[37m\u001b[0m \u001b[1m0s\u001b[0m 830us/step\n"
     ]
    },
    {
     "data": {
      "text/plain": [
       "array([[9.9999559e-01, 4.1206226e-06, 2.4367279e-07],\n",
       "       [4.1164903e-06, 9.9998021e-01, 1.5688842e-05],\n",
       "       [9.9999535e-01, 4.3974028e-06, 2.5926093e-07],\n",
       "       ...,\n",
       "       [7.7115112e-07, 3.9328367e-07, 9.9999893e-01],\n",
       "       [9.9999869e-01, 1.1633666e-06, 7.1714673e-08],\n",
       "       [5.8690207e-06, 9.9996781e-01, 2.6324100e-05]], dtype=float32)"
      ]
     },
     "execution_count": 226,
     "metadata": {},
     "output_type": "execute_result"
    }
   ],
   "source": [
    "model.predict(x_train_scaled)"
   ]
  },
  {
   "cell_type": "code",
   "execution_count": 228,
   "id": "780c5d2d-3eef-454f-acf1-1fc4fe927f7e",
   "metadata": {},
   "outputs": [
    {
     "name": "stdout",
     "output_type": "stream",
     "text": [
      "\u001b[1m13/13\u001b[0m \u001b[32m━━━━━━━━━━━━━━━━━━━━\u001b[0m\u001b[37m\u001b[0m \u001b[1m0s\u001b[0m 3ms/step \n"
     ]
    }
   ],
   "source": [
    "import numpy as np\n",
    "with open('mlp_model_ver2.pkl', 'rb') as file:\n",
    "    loaded_mlp_model = pickle.load(file)\n",
    "predictions = loaded_mlp_model.predict(x_test_scaled)\n",
    "\n",
    "def predict_fall(loaded_mlp_model, input_array):\n",
    "    with open('scaler_ver2.pkl', 'rb') as f:\n",
    "        scaler = pickle.load(f)\n",
    "    input_reshaped = np.array(input_array)\n",
    "    scaled_input=scaler.transform([input_reshaped]).flatten()\n",
    "    input_2d=np.array([scaled_input])\n",
    "    print(scaled_input)\n",
    "    output=loaded_mlp_model.predict(input_2d)\n",
    "\n",
    "    return np.argmax(output, axis=1)[0]\n",
    "    #return output"
   ]
  },
  {
   "cell_type": "code",
   "execution_count": 233,
   "id": "56f9e6c8-2b95-411b-9bef-a3125cf33316",
   "metadata": {},
   "outputs": [
    {
     "name": "stdout",
     "output_type": "stream",
     "text": [
      "[0.15844875 0.83795949 0.        ]\n",
      "\u001b[1m1/1\u001b[0m \u001b[32m━━━━━━━━━━━━━━━━━━━━\u001b[0m\u001b[37m\u001b[0m \u001b[1m0s\u001b[0m 17ms/step\n"
     ]
    },
    {
     "name": "stderr",
     "output_type": "stream",
     "text": [
      "C:\\Users\\GIRIRAJ ROY\\anaconda3\\Lib\\site-packages\\sklearn\\base.py:493: UserWarning: X does not have valid feature names, but MinMaxScaler was fitted with feature names\n",
      "  warnings.warn(\n"
     ]
    },
    {
     "data": {
      "text/plain": [
       "0"
      ]
     },
     "execution_count": 233,
     "metadata": {},
     "output_type": "execute_result"
    }
   ],
   "source": [
    "predict_fall(loaded_mlp_model,[70.296,\t93.510,\t0.0])"
   ]
  },
  {
   "cell_type": "code",
   "execution_count": 234,
   "id": "7255e84f-f818-4348-8749-092af05c6b8a",
   "metadata": {},
   "outputs": [],
   "source": [
    "#x_test_scaled"
   ]
  },
  {
   "cell_type": "code",
   "execution_count": 235,
   "id": "202a35af-d89a-47c3-84f8-bacda67ea0ab",
   "metadata": {},
   "outputs": [
    {
     "data": {
      "text/html": [
       "<div>\n",
       "<style scoped>\n",
       "    .dataframe tbody tr th:only-of-type {\n",
       "        vertical-align: middle;\n",
       "    }\n",
       "\n",
       "    .dataframe tbody tr th {\n",
       "        vertical-align: top;\n",
       "    }\n",
       "\n",
       "    .dataframe thead th {\n",
       "        text-align: right;\n",
       "    }\n",
       "</style>\n",
       "<table border=\"1\" class=\"dataframe\">\n",
       "  <thead>\n",
       "    <tr style=\"text-align: right;\">\n",
       "      <th></th>\n",
       "      <th>HRV</th>\n",
       "      <th>SpO2</th>\n",
       "      <th>Accelerometer</th>\n",
       "    </tr>\n",
       "  </thead>\n",
       "  <tbody>\n",
       "    <tr>\n",
       "      <th>2011</th>\n",
       "      <td>70.296</td>\n",
       "      <td>93.510</td>\n",
       "      <td>0.0</td>\n",
       "    </tr>\n",
       "    <tr>\n",
       "      <th>178</th>\n",
       "      <td>82.088</td>\n",
       "      <td>97.530</td>\n",
       "      <td>0.0</td>\n",
       "    </tr>\n",
       "    <tr>\n",
       "      <th>454</th>\n",
       "      <td>110.070</td>\n",
       "      <td>65.070</td>\n",
       "      <td>1.0</td>\n",
       "    </tr>\n",
       "    <tr>\n",
       "      <th>410</th>\n",
       "      <td>92.618</td>\n",
       "      <td>81.785</td>\n",
       "      <td>1.0</td>\n",
       "    </tr>\n",
       "    <tr>\n",
       "      <th>511</th>\n",
       "      <td>90.396</td>\n",
       "      <td>80.270</td>\n",
       "      <td>1.0</td>\n",
       "    </tr>\n",
       "    <tr>\n",
       "      <th>1943</th>\n",
       "      <td>85.212</td>\n",
       "      <td>98.595</td>\n",
       "      <td>0.0</td>\n",
       "    </tr>\n",
       "    <tr>\n",
       "      <th>1543</th>\n",
       "      <td>115.710</td>\n",
       "      <td>70.710</td>\n",
       "      <td>1.0</td>\n",
       "    </tr>\n",
       "    <tr>\n",
       "      <th>487</th>\n",
       "      <td>120.300</td>\n",
       "      <td>75.300</td>\n",
       "      <td>1.0</td>\n",
       "    </tr>\n",
       "    <tr>\n",
       "      <th>8</th>\n",
       "      <td>75.752</td>\n",
       "      <td>95.370</td>\n",
       "      <td>0.0</td>\n",
       "    </tr>\n",
       "    <tr>\n",
       "      <th>403</th>\n",
       "      <td>109.530</td>\n",
       "      <td>64.530</td>\n",
       "      <td>1.0</td>\n",
       "    </tr>\n",
       "    <tr>\n",
       "      <th>460</th>\n",
       "      <td>106.170</td>\n",
       "      <td>61.170</td>\n",
       "      <td>1.0</td>\n",
       "    </tr>\n",
       "    <tr>\n",
       "      <th>98</th>\n",
       "      <td>85.520</td>\n",
       "      <td>98.700</td>\n",
       "      <td>0.0</td>\n",
       "    </tr>\n",
       "    <tr>\n",
       "      <th>1909</th>\n",
       "      <td>61.364</td>\n",
       "      <td>90.465</td>\n",
       "      <td>0.0</td>\n",
       "    </tr>\n",
       "    <tr>\n",
       "      <th>608</th>\n",
       "      <td>106.950</td>\n",
       "      <td>61.950</td>\n",
       "      <td>1.0</td>\n",
       "    </tr>\n",
       "    <tr>\n",
       "      <th>595</th>\n",
       "      <td>96.138</td>\n",
       "      <td>84.185</td>\n",
       "      <td>1.0</td>\n",
       "    </tr>\n",
       "  </tbody>\n",
       "</table>\n",
       "</div>"
      ],
      "text/plain": [
       "          HRV    SpO2  Accelerometer\n",
       "2011   70.296  93.510            0.0\n",
       "178    82.088  97.530            0.0\n",
       "454   110.070  65.070            1.0\n",
       "410    92.618  81.785            1.0\n",
       "511    90.396  80.270            1.0\n",
       "1943   85.212  98.595            0.0\n",
       "1543  115.710  70.710            1.0\n",
       "487   120.300  75.300            1.0\n",
       "8      75.752  95.370            0.0\n",
       "403   109.530  64.530            1.0\n",
       "460   106.170  61.170            1.0\n",
       "98     85.520  98.700            0.0\n",
       "1909   61.364  90.465            0.0\n",
       "608   106.950  61.950            1.0\n",
       "595    96.138  84.185            1.0"
      ]
     },
     "execution_count": 235,
     "metadata": {},
     "output_type": "execute_result"
    }
   ],
   "source": [
    "x_test.head(15)"
   ]
  },
  {
   "cell_type": "code",
   "execution_count": 236,
   "id": "841ed695-358c-4326-9500-3867ad9aeb9f",
   "metadata": {},
   "outputs": [
    {
     "data": {
      "text/html": [
       "<div>\n",
       "<style scoped>\n",
       "    .dataframe tbody tr th:only-of-type {\n",
       "        vertical-align: middle;\n",
       "    }\n",
       "\n",
       "    .dataframe tbody tr th {\n",
       "        vertical-align: top;\n",
       "    }\n",
       "\n",
       "    .dataframe thead th {\n",
       "        text-align: right;\n",
       "    }\n",
       "</style>\n",
       "<table border=\"1\" class=\"dataframe\">\n",
       "  <thead>\n",
       "    <tr style=\"text-align: right;\">\n",
       "      <th></th>\n",
       "      <th>Decision</th>\n",
       "    </tr>\n",
       "  </thead>\n",
       "  <tbody>\n",
       "    <tr>\n",
       "      <th>2011</th>\n",
       "      <td>0</td>\n",
       "    </tr>\n",
       "    <tr>\n",
       "      <th>178</th>\n",
       "      <td>0</td>\n",
       "    </tr>\n",
       "    <tr>\n",
       "      <th>454</th>\n",
       "      <td>2</td>\n",
       "    </tr>\n",
       "  </tbody>\n",
       "</table>\n",
       "</div>"
      ],
      "text/plain": [
       "      Decision \n",
       "2011          0\n",
       "178           0\n",
       "454           2"
      ]
     },
     "execution_count": 236,
     "metadata": {},
     "output_type": "execute_result"
    }
   ],
   "source": [
    "y_test.head(3)"
   ]
  },
  {
   "cell_type": "code",
   "execution_count": null,
   "id": "7be35bcb-77e2-4d30-bdaa-fa0fdbf905ec",
   "metadata": {},
   "outputs": [],
   "source": []
  },
  {
   "cell_type": "code",
   "execution_count": null,
   "id": "5b203e3f-c8a7-4c8d-90b6-0ed76c91d249",
   "metadata": {},
   "outputs": [],
   "source": []
  },
  {
   "cell_type": "code",
   "execution_count": null,
   "id": "e2b07a17-1733-49be-95f9-d49eb1e2f005",
   "metadata": {},
   "outputs": [],
   "source": []
  },
  {
   "cell_type": "code",
   "execution_count": null,
   "id": "47895f8e-bad7-425a-97be-86c2416e520a",
   "metadata": {},
   "outputs": [],
   "source": []
  },
  {
   "cell_type": "code",
   "execution_count": null,
   "id": "b0853bcd-a2c3-4e2e-a4b5-2d8936634be0",
   "metadata": {},
   "outputs": [],
   "source": []
  }
 ],
 "metadata": {
  "kernelspec": {
   "display_name": "Python 3 (ipykernel)",
   "language": "python",
   "name": "python3"
  },
  "language_info": {
   "codemirror_mode": {
    "name": "ipython",
    "version": 3
   },
   "file_extension": ".py",
   "mimetype": "text/x-python",
   "name": "python",
   "nbconvert_exporter": "python",
   "pygments_lexer": "ipython3",
   "version": "3.11.5"
  }
 },
 "nbformat": 4,
 "nbformat_minor": 5
}
