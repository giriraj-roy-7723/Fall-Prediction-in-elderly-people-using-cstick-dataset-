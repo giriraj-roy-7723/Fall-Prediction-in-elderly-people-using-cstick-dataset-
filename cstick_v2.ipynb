{
 "cells": [
  {
   "cell_type": "code",
   "execution_count": 186,
   "id": "34669acd-cb52-4c41-a705-0aecdb87ca25",
   "metadata": {},
   "outputs": [],
   "source": [
    "import matplotlib.pyplot as plt\n",
    "from tensorflow import keras\n",
    "from tensorflow.keras import Sequential\n",
    "from tensorflow.keras.layers import Dense\n",
    "import numpy as np \n",
    "import pandas as pd"
   ]
  },
  {
   "cell_type": "code",
   "execution_count": 187,
   "id": "c9b7505d-5ee5-408e-8ca3-f6ecd38ffba1",
   "metadata": {},
   "outputs": [],
   "source": [
    "df=pd.read_csv(r\"C:\\Users\\GIRIRAJ ROY\\Downloads\\cStick.csv\")"
   ]
  },
  {
   "cell_type": "code",
   "execution_count": 188,
   "id": "23a0ebd4-6d61-4ff6-b20c-8a320063f426",
   "metadata": {},
   "outputs": [
    {
     "data": {
      "text/html": [
       "<div>\n",
       "<style scoped>\n",
       "    .dataframe tbody tr th:only-of-type {\n",
       "        vertical-align: middle;\n",
       "    }\n",
       "\n",
       "    .dataframe tbody tr th {\n",
       "        vertical-align: top;\n",
       "    }\n",
       "\n",
       "    .dataframe thead th {\n",
       "        text-align: right;\n",
       "    }\n",
       "</style>\n",
       "<table border=\"1\" class=\"dataframe\">\n",
       "  <thead>\n",
       "    <tr style=\"text-align: right;\">\n",
       "      <th></th>\n",
       "      <th>Distance</th>\n",
       "      <th>Pressure</th>\n",
       "      <th>HRV</th>\n",
       "      <th>Sugar level</th>\n",
       "      <th>SpO2</th>\n",
       "      <th>Accelerometer</th>\n",
       "      <th>Decision</th>\n",
       "    </tr>\n",
       "  </thead>\n",
       "  <tbody>\n",
       "    <tr>\n",
       "      <th>0</th>\n",
       "      <td>25.540</td>\n",
       "      <td>1.0</td>\n",
       "      <td>101.396</td>\n",
       "      <td>61.080</td>\n",
       "      <td>87.770</td>\n",
       "      <td>1.0</td>\n",
       "      <td>1</td>\n",
       "    </tr>\n",
       "    <tr>\n",
       "      <th>1</th>\n",
       "      <td>2.595</td>\n",
       "      <td>2.0</td>\n",
       "      <td>110.190</td>\n",
       "      <td>20.207</td>\n",
       "      <td>65.190</td>\n",
       "      <td>1.0</td>\n",
       "      <td>2</td>\n",
       "    </tr>\n",
       "    <tr>\n",
       "      <th>2</th>\n",
       "      <td>68.067</td>\n",
       "      <td>0.0</td>\n",
       "      <td>87.412</td>\n",
       "      <td>79.345</td>\n",
       "      <td>99.345</td>\n",
       "      <td>0.0</td>\n",
       "      <td>0</td>\n",
       "    </tr>\n",
       "    <tr>\n",
       "      <th>3</th>\n",
       "      <td>13.090</td>\n",
       "      <td>1.0</td>\n",
       "      <td>92.266</td>\n",
       "      <td>36.180</td>\n",
       "      <td>81.545</td>\n",
       "      <td>1.0</td>\n",
       "      <td>1</td>\n",
       "    </tr>\n",
       "    <tr>\n",
       "      <th>4</th>\n",
       "      <td>69.430</td>\n",
       "      <td>0.0</td>\n",
       "      <td>89.480</td>\n",
       "      <td>80.000</td>\n",
       "      <td>99.990</td>\n",
       "      <td>0.0</td>\n",
       "      <td>0</td>\n",
       "    </tr>\n",
       "  </tbody>\n",
       "</table>\n",
       "</div>"
      ],
      "text/plain": [
       "   Distance  Pressure      HRV  Sugar level    SpO2  Accelerometer  Decision \n",
       "0    25.540       1.0  101.396       61.080  87.770            1.0          1\n",
       "1     2.595       2.0  110.190       20.207  65.190            1.0          2\n",
       "2    68.067       0.0   87.412       79.345  99.345            0.0          0\n",
       "3    13.090       1.0   92.266       36.180  81.545            1.0          1\n",
       "4    69.430       0.0   89.480       80.000  99.990            0.0          0"
      ]
     },
     "execution_count": 188,
     "metadata": {},
     "output_type": "execute_result"
    }
   ],
   "source": [
    "df.head()"
   ]
  },
  {
   "cell_type": "code",
   "execution_count": 189,
   "id": "4b937cae-9121-4af4-a195-d05b0ea5325c",
   "metadata": {},
   "outputs": [
    {
     "data": {
      "text/plain": [
       "(2039, 7)"
      ]
     },
     "execution_count": 189,
     "metadata": {},
     "output_type": "execute_result"
    }
   ],
   "source": [
    "df.shape"
   ]
  },
  {
   "cell_type": "code",
   "execution_count": 190,
   "id": "b827e472-c3ba-4a87-b34e-8f5c1cf9921a",
   "metadata": {},
   "outputs": [
    {
     "name": "stdout",
     "output_type": "stream",
     "text": [
      "<class 'pandas.core.frame.DataFrame'>\n",
      "RangeIndex: 2039 entries, 0 to 2038\n",
      "Data columns (total 7 columns):\n",
      " #   Column         Non-Null Count  Dtype  \n",
      "---  ------         --------------  -----  \n",
      " 0   Distance       2039 non-null   float64\n",
      " 1   Pressure       2039 non-null   float64\n",
      " 2   HRV            2039 non-null   float64\n",
      " 3   Sugar level    2039 non-null   float64\n",
      " 4   SpO2           2039 non-null   float64\n",
      " 5   Accelerometer  2039 non-null   float64\n",
      " 6   Decision       2039 non-null   int64  \n",
      "dtypes: float64(6), int64(1)\n",
      "memory usage: 111.6 KB\n"
     ]
    }
   ],
   "source": [
    "df.info()"
   ]
  },
  {
   "cell_type": "code",
   "execution_count": 191,
   "id": "daf2a8ee-ee7c-44a0-8e0d-e9e0552b2a71",
   "metadata": {},
   "outputs": [
    {
     "data": {
      "text/plain": [
       "0"
      ]
     },
     "execution_count": 191,
     "metadata": {},
     "output_type": "execute_result"
    }
   ],
   "source": [
    "df.duplicated().sum()"
   ]
  },
  {
   "cell_type": "code",
   "execution_count": 192,
   "id": "9d115460-312c-4327-a589-ba35ce20a0e4",
   "metadata": {},
   "outputs": [],
   "source": [
    "df1=df.copy()"
   ]
  },
  {
   "cell_type": "code",
   "execution_count": 193,
   "id": "5faa0ed4-8983-4233-8f09-0c5bf821997c",
   "metadata": {},
   "outputs": [
    {
     "data": {
      "text/html": [
       "<div>\n",
       "<style scoped>\n",
       "    .dataframe tbody tr th:only-of-type {\n",
       "        vertical-align: middle;\n",
       "    }\n",
       "\n",
       "    .dataframe tbody tr th {\n",
       "        vertical-align: top;\n",
       "    }\n",
       "\n",
       "    .dataframe thead th {\n",
       "        text-align: right;\n",
       "    }\n",
       "</style>\n",
       "<table border=\"1\" class=\"dataframe\">\n",
       "  <thead>\n",
       "    <tr style=\"text-align: right;\">\n",
       "      <th></th>\n",
       "      <th>Distance</th>\n",
       "      <th>Pressure</th>\n",
       "      <th>HRV</th>\n",
       "      <th>Sugar level</th>\n",
       "      <th>SpO2</th>\n",
       "      <th>Accelerometer</th>\n",
       "      <th>Decision</th>\n",
       "    </tr>\n",
       "  </thead>\n",
       "  <tbody>\n",
       "    <tr>\n",
       "      <th>0</th>\n",
       "      <td>25.540</td>\n",
       "      <td>1.0</td>\n",
       "      <td>101.396</td>\n",
       "      <td>61.080</td>\n",
       "      <td>87.770</td>\n",
       "      <td>1.0</td>\n",
       "      <td>1</td>\n",
       "    </tr>\n",
       "    <tr>\n",
       "      <th>1</th>\n",
       "      <td>2.595</td>\n",
       "      <td>2.0</td>\n",
       "      <td>110.190</td>\n",
       "      <td>20.207</td>\n",
       "      <td>65.190</td>\n",
       "      <td>1.0</td>\n",
       "      <td>2</td>\n",
       "    </tr>\n",
       "    <tr>\n",
       "      <th>2</th>\n",
       "      <td>68.067</td>\n",
       "      <td>0.0</td>\n",
       "      <td>87.412</td>\n",
       "      <td>79.345</td>\n",
       "      <td>99.345</td>\n",
       "      <td>0.0</td>\n",
       "      <td>0</td>\n",
       "    </tr>\n",
       "    <tr>\n",
       "      <th>3</th>\n",
       "      <td>13.090</td>\n",
       "      <td>1.0</td>\n",
       "      <td>92.266</td>\n",
       "      <td>36.180</td>\n",
       "      <td>81.545</td>\n",
       "      <td>1.0</td>\n",
       "      <td>1</td>\n",
       "    </tr>\n",
       "    <tr>\n",
       "      <th>4</th>\n",
       "      <td>69.430</td>\n",
       "      <td>0.0</td>\n",
       "      <td>89.480</td>\n",
       "      <td>80.000</td>\n",
       "      <td>99.990</td>\n",
       "      <td>0.0</td>\n",
       "      <td>0</td>\n",
       "    </tr>\n",
       "  </tbody>\n",
       "</table>\n",
       "</div>"
      ],
      "text/plain": [
       "   Distance  Pressure      HRV  Sugar level    SpO2  Accelerometer  Decision \n",
       "0    25.540       1.0  101.396       61.080  87.770            1.0          1\n",
       "1     2.595       2.0  110.190       20.207  65.190            1.0          2\n",
       "2    68.067       0.0   87.412       79.345  99.345            0.0          0\n",
       "3    13.090       1.0   92.266       36.180  81.545            1.0          1\n",
       "4    69.430       0.0   89.480       80.000  99.990            0.0          0"
      ]
     },
     "execution_count": 193,
     "metadata": {},
     "output_type": "execute_result"
    }
   ],
   "source": [
    "df1.head()"
   ]
  },
  {
   "cell_type": "code",
   "execution_count": 194,
   "id": "e8968439-dd15-4203-9785-cdac5b76fe04",
   "metadata": {},
   "outputs": [
    {
     "data": {
      "text/plain": [
       "array([1., 0.])"
      ]
     },
     "execution_count": 194,
     "metadata": {},
     "output_type": "execute_result"
    }
   ],
   "source": [
    "df['Accelerometer'].unique()"
   ]
  },
  {
   "cell_type": "code",
   "execution_count": 195,
   "id": "21b467da-2a8c-48f7-b13a-c65c6c571469",
   "metadata": {},
   "outputs": [
    {
     "data": {
      "text/plain": [
       "array([1, 2, 0], dtype=int64)"
      ]
     },
     "execution_count": 195,
     "metadata": {},
     "output_type": "execute_result"
    }
   ],
   "source": [
    "df['Decision '].unique()"
   ]
  },
  {
   "cell_type": "code",
   "execution_count": 196,
   "id": "6957efd4-5046-4fdf-8d62-14e65bf70f73",
   "metadata": {},
   "outputs": [],
   "source": [
    "df1.drop(columns=['Sugar level'],inplace=True)"
   ]
  },
  {
   "cell_type": "code",
   "execution_count": 197,
   "id": "b1318413-4ce6-4ac0-bc02-9b21d28832a5",
   "metadata": {},
   "outputs": [
    {
     "data": {
      "text/html": [
       "<div>\n",
       "<style scoped>\n",
       "    .dataframe tbody tr th:only-of-type {\n",
       "        vertical-align: middle;\n",
       "    }\n",
       "\n",
       "    .dataframe tbody tr th {\n",
       "        vertical-align: top;\n",
       "    }\n",
       "\n",
       "    .dataframe thead th {\n",
       "        text-align: right;\n",
       "    }\n",
       "</style>\n",
       "<table border=\"1\" class=\"dataframe\">\n",
       "  <thead>\n",
       "    <tr style=\"text-align: right;\">\n",
       "      <th></th>\n",
       "      <th>Distance</th>\n",
       "      <th>Pressure</th>\n",
       "      <th>HRV</th>\n",
       "      <th>SpO2</th>\n",
       "      <th>Accelerometer</th>\n",
       "      <th>Decision</th>\n",
       "    </tr>\n",
       "  </thead>\n",
       "  <tbody>\n",
       "    <tr>\n",
       "      <th>0</th>\n",
       "      <td>25.540</td>\n",
       "      <td>1.0</td>\n",
       "      <td>101.396</td>\n",
       "      <td>87.770</td>\n",
       "      <td>1.0</td>\n",
       "      <td>1</td>\n",
       "    </tr>\n",
       "    <tr>\n",
       "      <th>1</th>\n",
       "      <td>2.595</td>\n",
       "      <td>2.0</td>\n",
       "      <td>110.190</td>\n",
       "      <td>65.190</td>\n",
       "      <td>1.0</td>\n",
       "      <td>2</td>\n",
       "    </tr>\n",
       "    <tr>\n",
       "      <th>2</th>\n",
       "      <td>68.067</td>\n",
       "      <td>0.0</td>\n",
       "      <td>87.412</td>\n",
       "      <td>99.345</td>\n",
       "      <td>0.0</td>\n",
       "      <td>0</td>\n",
       "    </tr>\n",
       "    <tr>\n",
       "      <th>3</th>\n",
       "      <td>13.090</td>\n",
       "      <td>1.0</td>\n",
       "      <td>92.266</td>\n",
       "      <td>81.545</td>\n",
       "      <td>1.0</td>\n",
       "      <td>1</td>\n",
       "    </tr>\n",
       "    <tr>\n",
       "      <th>4</th>\n",
       "      <td>69.430</td>\n",
       "      <td>0.0</td>\n",
       "      <td>89.480</td>\n",
       "      <td>99.990</td>\n",
       "      <td>0.0</td>\n",
       "      <td>0</td>\n",
       "    </tr>\n",
       "  </tbody>\n",
       "</table>\n",
       "</div>"
      ],
      "text/plain": [
       "   Distance  Pressure      HRV    SpO2  Accelerometer  Decision \n",
       "0    25.540       1.0  101.396  87.770            1.0          1\n",
       "1     2.595       2.0  110.190  65.190            1.0          2\n",
       "2    68.067       0.0   87.412  99.345            0.0          0\n",
       "3    13.090       1.0   92.266  81.545            1.0          1\n",
       "4    69.430       0.0   89.480  99.990            0.0          0"
      ]
     },
     "execution_count": 197,
     "metadata": {},
     "output_type": "execute_result"
    }
   ],
   "source": [
    "df1.head()"
   ]
  },
  {
   "cell_type": "code",
   "execution_count": 198,
   "id": "c17d1e68-1a86-49eb-a2aa-43b464dff868",
   "metadata": {},
   "outputs": [],
   "source": [
    "x=df1.drop(columns=['Decision '])"
   ]
  },
  {
   "cell_type": "code",
   "execution_count": 199,
   "id": "1392c0ec-ccc6-44b0-b31a-391950c4fe32",
   "metadata": {},
   "outputs": [
    {
     "data": {
      "text/html": [
       "<div>\n",
       "<style scoped>\n",
       "    .dataframe tbody tr th:only-of-type {\n",
       "        vertical-align: middle;\n",
       "    }\n",
       "\n",
       "    .dataframe tbody tr th {\n",
       "        vertical-align: top;\n",
       "    }\n",
       "\n",
       "    .dataframe thead th {\n",
       "        text-align: right;\n",
       "    }\n",
       "</style>\n",
       "<table border=\"1\" class=\"dataframe\">\n",
       "  <thead>\n",
       "    <tr style=\"text-align: right;\">\n",
       "      <th></th>\n",
       "      <th>Distance</th>\n",
       "      <th>Pressure</th>\n",
       "      <th>HRV</th>\n",
       "      <th>SpO2</th>\n",
       "      <th>Accelerometer</th>\n",
       "    </tr>\n",
       "  </thead>\n",
       "  <tbody>\n",
       "    <tr>\n",
       "      <th>0</th>\n",
       "      <td>25.540</td>\n",
       "      <td>1.0</td>\n",
       "      <td>101.396</td>\n",
       "      <td>87.770</td>\n",
       "      <td>1.0</td>\n",
       "    </tr>\n",
       "    <tr>\n",
       "      <th>1</th>\n",
       "      <td>2.595</td>\n",
       "      <td>2.0</td>\n",
       "      <td>110.190</td>\n",
       "      <td>65.190</td>\n",
       "      <td>1.0</td>\n",
       "    </tr>\n",
       "    <tr>\n",
       "      <th>2</th>\n",
       "      <td>68.067</td>\n",
       "      <td>0.0</td>\n",
       "      <td>87.412</td>\n",
       "      <td>99.345</td>\n",
       "      <td>0.0</td>\n",
       "    </tr>\n",
       "    <tr>\n",
       "      <th>3</th>\n",
       "      <td>13.090</td>\n",
       "      <td>1.0</td>\n",
       "      <td>92.266</td>\n",
       "      <td>81.545</td>\n",
       "      <td>1.0</td>\n",
       "    </tr>\n",
       "    <tr>\n",
       "      <th>4</th>\n",
       "      <td>69.430</td>\n",
       "      <td>0.0</td>\n",
       "      <td>89.480</td>\n",
       "      <td>99.990</td>\n",
       "      <td>0.0</td>\n",
       "    </tr>\n",
       "    <tr>\n",
       "      <th>...</th>\n",
       "      <td>...</td>\n",
       "      <td>...</td>\n",
       "      <td>...</td>\n",
       "      <td>...</td>\n",
       "      <td>...</td>\n",
       "    </tr>\n",
       "    <tr>\n",
       "      <th>2034</th>\n",
       "      <td>5.655</td>\n",
       "      <td>2.0</td>\n",
       "      <td>116.310</td>\n",
       "      <td>71.310</td>\n",
       "      <td>1.0</td>\n",
       "    </tr>\n",
       "    <tr>\n",
       "      <th>2035</th>\n",
       "      <td>9.660</td>\n",
       "      <td>2.0</td>\n",
       "      <td>124.320</td>\n",
       "      <td>79.320</td>\n",
       "      <td>1.0</td>\n",
       "    </tr>\n",
       "    <tr>\n",
       "      <th>2036</th>\n",
       "      <td>15.220</td>\n",
       "      <td>1.0</td>\n",
       "      <td>93.828</td>\n",
       "      <td>82.610</td>\n",
       "      <td>1.0</td>\n",
       "    </tr>\n",
       "    <tr>\n",
       "      <th>2037</th>\n",
       "      <td>9.120</td>\n",
       "      <td>2.0</td>\n",
       "      <td>123.240</td>\n",
       "      <td>78.240</td>\n",
       "      <td>1.0</td>\n",
       "    </tr>\n",
       "    <tr>\n",
       "      <th>2038</th>\n",
       "      <td>62.441</td>\n",
       "      <td>0.0</td>\n",
       "      <td>78.876</td>\n",
       "      <td>96.435</td>\n",
       "      <td>0.0</td>\n",
       "    </tr>\n",
       "  </tbody>\n",
       "</table>\n",
       "<p>2039 rows × 5 columns</p>\n",
       "</div>"
      ],
      "text/plain": [
       "      Distance  Pressure      HRV    SpO2  Accelerometer\n",
       "0       25.540       1.0  101.396  87.770            1.0\n",
       "1        2.595       2.0  110.190  65.190            1.0\n",
       "2       68.067       0.0   87.412  99.345            0.0\n",
       "3       13.090       1.0   92.266  81.545            1.0\n",
       "4       69.430       0.0   89.480  99.990            0.0\n",
       "...        ...       ...      ...     ...            ...\n",
       "2034     5.655       2.0  116.310  71.310            1.0\n",
       "2035     9.660       2.0  124.320  79.320            1.0\n",
       "2036    15.220       1.0   93.828  82.610            1.0\n",
       "2037     9.120       2.0  123.240  78.240            1.0\n",
       "2038    62.441       0.0   78.876  96.435            0.0\n",
       "\n",
       "[2039 rows x 5 columns]"
      ]
     },
     "execution_count": 199,
     "metadata": {},
     "output_type": "execute_result"
    }
   ],
   "source": [
    "x"
   ]
  },
  {
   "cell_type": "code",
   "execution_count": 200,
   "id": "5915c450-ce65-4516-a589-d361dec1f566",
   "metadata": {},
   "outputs": [],
   "source": [
    "y=df1[['Decision ']]"
   ]
  },
  {
   "cell_type": "code",
   "execution_count": 201,
   "id": "95c7b177-7acb-446b-8118-f4982259a95d",
   "metadata": {},
   "outputs": [
    {
     "data": {
      "text/html": [
       "<div>\n",
       "<style scoped>\n",
       "    .dataframe tbody tr th:only-of-type {\n",
       "        vertical-align: middle;\n",
       "    }\n",
       "\n",
       "    .dataframe tbody tr th {\n",
       "        vertical-align: top;\n",
       "    }\n",
       "\n",
       "    .dataframe thead th {\n",
       "        text-align: right;\n",
       "    }\n",
       "</style>\n",
       "<table border=\"1\" class=\"dataframe\">\n",
       "  <thead>\n",
       "    <tr style=\"text-align: right;\">\n",
       "      <th></th>\n",
       "      <th>Decision</th>\n",
       "    </tr>\n",
       "  </thead>\n",
       "  <tbody>\n",
       "    <tr>\n",
       "      <th>0</th>\n",
       "      <td>1</td>\n",
       "    </tr>\n",
       "    <tr>\n",
       "      <th>1</th>\n",
       "      <td>2</td>\n",
       "    </tr>\n",
       "    <tr>\n",
       "      <th>2</th>\n",
       "      <td>0</td>\n",
       "    </tr>\n",
       "    <tr>\n",
       "      <th>3</th>\n",
       "      <td>1</td>\n",
       "    </tr>\n",
       "    <tr>\n",
       "      <th>4</th>\n",
       "      <td>0</td>\n",
       "    </tr>\n",
       "  </tbody>\n",
       "</table>\n",
       "</div>"
      ],
      "text/plain": [
       "   Decision \n",
       "0          1\n",
       "1          2\n",
       "2          0\n",
       "3          1\n",
       "4          0"
      ]
     },
     "execution_count": 201,
     "metadata": {},
     "output_type": "execute_result"
    }
   ],
   "source": [
    "y.head()"
   ]
  },
  {
   "cell_type": "code",
   "execution_count": 202,
   "id": "f7c1f58b-1930-4610-be51-1ced4a602ce7",
   "metadata": {},
   "outputs": [],
   "source": [
    "from sklearn.model_selection import train_test_split"
   ]
  },
  {
   "cell_type": "code",
   "execution_count": 203,
   "id": "0cd0a5bd-69db-4a3d-af76-7e93b5bfb147",
   "metadata": {},
   "outputs": [],
   "source": [
    "x_train,x_test,y_train,y_test=train_test_split(x,y,test_size=0.2)"
   ]
  },
  {
   "cell_type": "code",
   "execution_count": 258,
   "id": "5beb6d61-74e0-4fc6-9f7d-7977fd901e59",
   "metadata": {},
   "outputs": [
    {
     "data": {
      "text/html": [
       "<div>\n",
       "<style scoped>\n",
       "    .dataframe tbody tr th:only-of-type {\n",
       "        vertical-align: middle;\n",
       "    }\n",
       "\n",
       "    .dataframe tbody tr th {\n",
       "        vertical-align: top;\n",
       "    }\n",
       "\n",
       "    .dataframe thead th {\n",
       "        text-align: right;\n",
       "    }\n",
       "</style>\n",
       "<table border=\"1\" class=\"dataframe\">\n",
       "  <thead>\n",
       "    <tr style=\"text-align: right;\">\n",
       "      <th></th>\n",
       "      <th>Distance</th>\n",
       "      <th>Pressure</th>\n",
       "      <th>HRV</th>\n",
       "      <th>SpO2</th>\n",
       "      <th>Accelerometer</th>\n",
       "    </tr>\n",
       "  </thead>\n",
       "  <tbody>\n",
       "    <tr>\n",
       "      <th>1289</th>\n",
       "      <td>15.49</td>\n",
       "      <td>1.0</td>\n",
       "      <td>94.026</td>\n",
       "      <td>82.745</td>\n",
       "      <td>1.0</td>\n",
       "    </tr>\n",
       "    <tr>\n",
       "      <th>1573</th>\n",
       "      <td>25.24</td>\n",
       "      <td>1.0</td>\n",
       "      <td>101.176</td>\n",
       "      <td>87.620</td>\n",
       "      <td>1.0</td>\n",
       "    </tr>\n",
       "  </tbody>\n",
       "</table>\n",
       "</div>"
      ],
      "text/plain": [
       "      Distance  Pressure      HRV    SpO2  Accelerometer\n",
       "1289     15.49       1.0   94.026  82.745            1.0\n",
       "1573     25.24       1.0  101.176  87.620            1.0"
      ]
     },
     "execution_count": 258,
     "metadata": {},
     "output_type": "execute_result"
    }
   ],
   "source": [
    "x_train.head(2)"
   ]
  },
  {
   "cell_type": "code",
   "execution_count": 259,
   "id": "2dbf1137-625a-424b-b658-ee4dc4795a26",
   "metadata": {},
   "outputs": [
    {
     "data": {
      "text/html": [
       "<div>\n",
       "<style scoped>\n",
       "    .dataframe tbody tr th:only-of-type {\n",
       "        vertical-align: middle;\n",
       "    }\n",
       "\n",
       "    .dataframe tbody tr th {\n",
       "        vertical-align: top;\n",
       "    }\n",
       "\n",
       "    .dataframe thead th {\n",
       "        text-align: right;\n",
       "    }\n",
       "</style>\n",
       "<table border=\"1\" class=\"dataframe\">\n",
       "  <thead>\n",
       "    <tr style=\"text-align: right;\">\n",
       "      <th></th>\n",
       "      <th>Distance</th>\n",
       "      <th>Pressure</th>\n",
       "      <th>HRV</th>\n",
       "      <th>SpO2</th>\n",
       "      <th>Accelerometer</th>\n",
       "    </tr>\n",
       "  </thead>\n",
       "  <tbody>\n",
       "    <tr>\n",
       "      <th>1043</th>\n",
       "      <td>1.815</td>\n",
       "      <td>2.0</td>\n",
       "      <td>108.63</td>\n",
       "      <td>63.63</td>\n",
       "      <td>1.0</td>\n",
       "    </tr>\n",
       "    <tr>\n",
       "      <th>1004</th>\n",
       "      <td>2.970</td>\n",
       "      <td>2.0</td>\n",
       "      <td>110.94</td>\n",
       "      <td>65.94</td>\n",
       "      <td>1.0</td>\n",
       "    </tr>\n",
       "  </tbody>\n",
       "</table>\n",
       "</div>"
      ],
      "text/plain": [
       "      Distance  Pressure     HRV   SpO2  Accelerometer\n",
       "1043     1.815       2.0  108.63  63.63            1.0\n",
       "1004     2.970       2.0  110.94  65.94            1.0"
      ]
     },
     "execution_count": 259,
     "metadata": {},
     "output_type": "execute_result"
    }
   ],
   "source": [
    "x_test.head(2)"
   ]
  },
  {
   "cell_type": "code",
   "execution_count": 260,
   "id": "5460f5e9-081c-4e63-9f11-f972f0d3699a",
   "metadata": {},
   "outputs": [
    {
     "data": {
      "text/html": [
       "<div>\n",
       "<style scoped>\n",
       "    .dataframe tbody tr th:only-of-type {\n",
       "        vertical-align: middle;\n",
       "    }\n",
       "\n",
       "    .dataframe tbody tr th {\n",
       "        vertical-align: top;\n",
       "    }\n",
       "\n",
       "    .dataframe thead th {\n",
       "        text-align: right;\n",
       "    }\n",
       "</style>\n",
       "<table border=\"1\" class=\"dataframe\">\n",
       "  <thead>\n",
       "    <tr style=\"text-align: right;\">\n",
       "      <th></th>\n",
       "      <th>Decision</th>\n",
       "    </tr>\n",
       "  </thead>\n",
       "  <tbody>\n",
       "    <tr>\n",
       "      <th>1289</th>\n",
       "      <td>1</td>\n",
       "    </tr>\n",
       "    <tr>\n",
       "      <th>1573</th>\n",
       "      <td>1</td>\n",
       "    </tr>\n",
       "  </tbody>\n",
       "</table>\n",
       "</div>"
      ],
      "text/plain": [
       "      Decision \n",
       "1289          1\n",
       "1573          1"
      ]
     },
     "execution_count": 260,
     "metadata": {},
     "output_type": "execute_result"
    }
   ],
   "source": [
    "y_train.head(2)"
   ]
  },
  {
   "cell_type": "code",
   "execution_count": 261,
   "id": "7d0ae5d8-4a11-4e73-8e44-41c8371a44d2",
   "metadata": {},
   "outputs": [
    {
     "data": {
      "text/html": [
       "<div>\n",
       "<style scoped>\n",
       "    .dataframe tbody tr th:only-of-type {\n",
       "        vertical-align: middle;\n",
       "    }\n",
       "\n",
       "    .dataframe tbody tr th {\n",
       "        vertical-align: top;\n",
       "    }\n",
       "\n",
       "    .dataframe thead th {\n",
       "        text-align: right;\n",
       "    }\n",
       "</style>\n",
       "<table border=\"1\" class=\"dataframe\">\n",
       "  <thead>\n",
       "    <tr style=\"text-align: right;\">\n",
       "      <th></th>\n",
       "      <th>Decision</th>\n",
       "    </tr>\n",
       "  </thead>\n",
       "  <tbody>\n",
       "    <tr>\n",
       "      <th>1043</th>\n",
       "      <td>2</td>\n",
       "    </tr>\n",
       "    <tr>\n",
       "      <th>1004</th>\n",
       "      <td>2</td>\n",
       "    </tr>\n",
       "  </tbody>\n",
       "</table>\n",
       "</div>"
      ],
      "text/plain": [
       "      Decision \n",
       "1043          2\n",
       "1004          2"
      ]
     },
     "execution_count": 261,
     "metadata": {},
     "output_type": "execute_result"
    }
   ],
   "source": [
    "y_test.head(2)"
   ]
  },
  {
   "cell_type": "code",
   "execution_count": 262,
   "id": "552b35c9-65f1-4e2a-8831-c2f92569c6c5",
   "metadata": {},
   "outputs": [
    {
     "data": {
      "text/plain": [
       "(1631, 5)"
      ]
     },
     "execution_count": 262,
     "metadata": {},
     "output_type": "execute_result"
    }
   ],
   "source": [
    "x_train.shape"
   ]
  },
  {
   "cell_type": "code",
   "execution_count": 278,
   "id": "8888b4e6-7229-4adc-b2f7-65c9e408bb20",
   "metadata": {},
   "outputs": [],
   "source": [
    "from sklearn.preprocessing import MinMaxScaler\n",
    "\n",
    "scaler = MinMaxScaler()\n",
    "\n",
    "scaler.fit(x_train)\n",
    "with open('scaler.pkl', 'wb') as f:\n",
    "    pickle.dump(scaler, f)\n",
    "with open('scaler.pkl', 'rb') as f:\n",
    "    scaler = pickle.load(f)\n",
    "x_train_scaled = scaler.transform(x_train)\n",
    "\n",
    "\n",
    "x_test_scaled = scaler.transform(x_test)\n"
   ]
  },
  {
   "cell_type": "code",
   "execution_count": 279,
   "id": "473dd9f9-e673-4324-9eb6-b130774418e7",
   "metadata": {},
   "outputs": [
    {
     "data": {
      "text/plain": [
       "(1631, 1)"
      ]
     },
     "execution_count": 279,
     "metadata": {},
     "output_type": "execute_result"
    }
   ],
   "source": [
    "y_train.shape"
   ]
  },
  {
   "cell_type": "code",
   "execution_count": 280,
   "id": "0bc4d8b0-29e1-47ed-a1a9-dfa61315c824",
   "metadata": {},
   "outputs": [],
   "source": [
    "with open('scaler.pkl', 'rb') as f:\n",
    "        scaler = pickle.load(f)\n",
    "#y_train_scaled = scaler.transform(y_train)"
   ]
  },
  {
   "cell_type": "code",
   "execution_count": 217,
   "id": "6ea19884-1de1-4fc5-afb4-86013cad5194",
   "metadata": {},
   "outputs": [],
   "source": [
    "with open('scaler.pkl', 'rb') as f:\n",
    "        scaler = pickle.load(f)\n",
    "y_test_scaled = scaler.fit_transform(y_test)\n",
    "\n"
   ]
  },
  {
   "cell_type": "code",
   "execution_count": 218,
   "id": "97da2b85-38f3-4854-ac5c-efa8f59ff9e1",
   "metadata": {},
   "outputs": [
    {
     "data": {
      "text/plain": [
       "(1631, 5)"
      ]
     },
     "execution_count": 218,
     "metadata": {},
     "output_type": "execute_result"
    }
   ],
   "source": [
    "x_train_scaled.shape"
   ]
  },
  {
   "cell_type": "code",
   "execution_count": 219,
   "id": "622d6c01-6e6e-4d80-bc5b-1d3f1765cd20",
   "metadata": {},
   "outputs": [
    {
     "data": {
      "text/plain": [
       "array([[0.5],\n",
       "       [0.5],\n",
       "       [1. ],\n",
       "       [0. ],\n",
       "       [0.5],\n",
       "       [0. ],\n",
       "       [0. ],\n",
       "       [1. ],\n",
       "       [0.5],\n",
       "       [0.5]])"
      ]
     },
     "execution_count": 219,
     "metadata": {},
     "output_type": "execute_result"
    }
   ],
   "source": [
    "y_train_scaled[:10]"
   ]
  },
  {
   "cell_type": "code",
   "execution_count": 281,
   "id": "9a950c0c-5ecd-4fbf-b7ac-47cf2840cbad",
   "metadata": {},
   "outputs": [
    {
     "data": {
      "text/plain": [
       "array([[0.22134579, 0.5       , 0.52387991, 0.56876719, 1.        ],\n",
       "       [0.36066932, 0.5       , 0.63396459, 0.69067267, 1.        ],\n",
       "       [0.09709778, 1.        , 0.90207852, 0.33983496, 1.        ],\n",
       "       ...,\n",
       "       [0.0332233 , 1.        , 0.76443418, 0.11627907, 1.        ],\n",
       "       [0.78202655, 0.        , 0.1104234 , 0.81132783, 0.        ],\n",
       "       [0.10631457, 1.        , 0.92193995, 0.37209302, 1.        ]])"
      ]
     },
     "execution_count": 281,
     "metadata": {},
     "output_type": "execute_result"
    }
   ],
   "source": [
    "x_train_scaled"
   ]
  },
  {
   "cell_type": "code",
   "execution_count": 282,
   "id": "239f821f-0498-4934-9ecb-cdff6a5c2339",
   "metadata": {},
   "outputs": [
    {
     "name": "stderr",
     "output_type": "stream",
     "text": [
      "C:\\Users\\GIRIRAJ ROY\\anaconda3\\Lib\\site-packages\\keras\\src\\layers\\core\\dense.py:87: UserWarning: Do not pass an `input_shape`/`input_dim` argument to a layer. When using Sequential models, prefer using an `Input(shape)` object as the first layer in the model instead.\n",
      "  super().__init__(activity_regularizer=activity_regularizer, **kwargs)\n"
     ]
    }
   ],
   "source": [
    "model=Sequential()\n",
    "\n",
    "model.add(Dense(64,input_dim=5,activation='relu'))\n",
    "model.add(Dense(32,activation='relu'))\n",
    "model.add(Dense(16,activation='relu'))\n",
    "model.add(Dense(3,activation='softmax'))"
   ]
  },
  {
   "cell_type": "code",
   "execution_count": 283,
   "id": "33979474-af5e-47eb-8c67-52d018a19ae8",
   "metadata": {},
   "outputs": [],
   "source": [
    "from tensorflow.keras.optimizers import Adam\n",
    "\n",
    "model.compile(optimizer=Adam(learning_rate=0.001),loss='sparse_categorical_crossentropy',metrics=['accuracy'])"
   ]
  },
  {
   "cell_type": "code",
   "execution_count": 284,
   "id": "bc811987-8358-44f5-ad0a-19ec201b7829",
   "metadata": {},
   "outputs": [
    {
     "data": {
      "text/html": [
       "<pre style=\"white-space:pre;overflow-x:auto;line-height:normal;font-family:Menlo,'DejaVu Sans Mono',consolas,'Courier New',monospace\"><span style=\"font-weight: bold\">Model: \"sequential_3\"</span>\n",
       "</pre>\n"
      ],
      "text/plain": [
       "\u001b[1mModel: \"sequential_3\"\u001b[0m\n"
      ]
     },
     "metadata": {},
     "output_type": "display_data"
    },
    {
     "data": {
      "text/html": [
       "<pre style=\"white-space:pre;overflow-x:auto;line-height:normal;font-family:Menlo,'DejaVu Sans Mono',consolas,'Courier New',monospace\">┏━━━━━━━━━━━━━━━━━━━━━━━━━━━━━━━━━━━━━━┳━━━━━━━━━━━━━━━━━━━━━━━━━━━━━┳━━━━━━━━━━━━━━━━━┓\n",
       "┃<span style=\"font-weight: bold\"> Layer (type)                         </span>┃<span style=\"font-weight: bold\"> Output Shape                </span>┃<span style=\"font-weight: bold\">         Param # </span>┃\n",
       "┡━━━━━━━━━━━━━━━━━━━━━━━━━━━━━━━━━━━━━━╇━━━━━━━━━━━━━━━━━━━━━━━━━━━━━╇━━━━━━━━━━━━━━━━━┩\n",
       "│ dense_12 (<span style=\"color: #0087ff; text-decoration-color: #0087ff\">Dense</span>)                     │ (<span style=\"color: #00d7ff; text-decoration-color: #00d7ff\">None</span>, <span style=\"color: #00af00; text-decoration-color: #00af00\">64</span>)                  │             <span style=\"color: #00af00; text-decoration-color: #00af00\">384</span> │\n",
       "├──────────────────────────────────────┼─────────────────────────────┼─────────────────┤\n",
       "│ dense_13 (<span style=\"color: #0087ff; text-decoration-color: #0087ff\">Dense</span>)                     │ (<span style=\"color: #00d7ff; text-decoration-color: #00d7ff\">None</span>, <span style=\"color: #00af00; text-decoration-color: #00af00\">32</span>)                  │           <span style=\"color: #00af00; text-decoration-color: #00af00\">2,080</span> │\n",
       "├──────────────────────────────────────┼─────────────────────────────┼─────────────────┤\n",
       "│ dense_14 (<span style=\"color: #0087ff; text-decoration-color: #0087ff\">Dense</span>)                     │ (<span style=\"color: #00d7ff; text-decoration-color: #00d7ff\">None</span>, <span style=\"color: #00af00; text-decoration-color: #00af00\">16</span>)                  │             <span style=\"color: #00af00; text-decoration-color: #00af00\">528</span> │\n",
       "├──────────────────────────────────────┼─────────────────────────────┼─────────────────┤\n",
       "│ dense_15 (<span style=\"color: #0087ff; text-decoration-color: #0087ff\">Dense</span>)                     │ (<span style=\"color: #00d7ff; text-decoration-color: #00d7ff\">None</span>, <span style=\"color: #00af00; text-decoration-color: #00af00\">3</span>)                   │              <span style=\"color: #00af00; text-decoration-color: #00af00\">51</span> │\n",
       "└──────────────────────────────────────┴─────────────────────────────┴─────────────────┘\n",
       "</pre>\n"
      ],
      "text/plain": [
       "┏━━━━━━━━━━━━━━━━━━━━━━━━━━━━━━━━━━━━━━┳━━━━━━━━━━━━━━━━━━━━━━━━━━━━━┳━━━━━━━━━━━━━━━━━┓\n",
       "┃\u001b[1m \u001b[0m\u001b[1mLayer (type)                        \u001b[0m\u001b[1m \u001b[0m┃\u001b[1m \u001b[0m\u001b[1mOutput Shape               \u001b[0m\u001b[1m \u001b[0m┃\u001b[1m \u001b[0m\u001b[1m        Param #\u001b[0m\u001b[1m \u001b[0m┃\n",
       "┡━━━━━━━━━━━━━━━━━━━━━━━━━━━━━━━━━━━━━━╇━━━━━━━━━━━━━━━━━━━━━━━━━━━━━╇━━━━━━━━━━━━━━━━━┩\n",
       "│ dense_12 (\u001b[38;5;33mDense\u001b[0m)                     │ (\u001b[38;5;45mNone\u001b[0m, \u001b[38;5;34m64\u001b[0m)                  │             \u001b[38;5;34m384\u001b[0m │\n",
       "├──────────────────────────────────────┼─────────────────────────────┼─────────────────┤\n",
       "│ dense_13 (\u001b[38;5;33mDense\u001b[0m)                     │ (\u001b[38;5;45mNone\u001b[0m, \u001b[38;5;34m32\u001b[0m)                  │           \u001b[38;5;34m2,080\u001b[0m │\n",
       "├──────────────────────────────────────┼─────────────────────────────┼─────────────────┤\n",
       "│ dense_14 (\u001b[38;5;33mDense\u001b[0m)                     │ (\u001b[38;5;45mNone\u001b[0m, \u001b[38;5;34m16\u001b[0m)                  │             \u001b[38;5;34m528\u001b[0m │\n",
       "├──────────────────────────────────────┼─────────────────────────────┼─────────────────┤\n",
       "│ dense_15 (\u001b[38;5;33mDense\u001b[0m)                     │ (\u001b[38;5;45mNone\u001b[0m, \u001b[38;5;34m3\u001b[0m)                   │              \u001b[38;5;34m51\u001b[0m │\n",
       "└──────────────────────────────────────┴─────────────────────────────┴─────────────────┘\n"
      ]
     },
     "metadata": {},
     "output_type": "display_data"
    },
    {
     "data": {
      "text/html": [
       "<pre style=\"white-space:pre;overflow-x:auto;line-height:normal;font-family:Menlo,'DejaVu Sans Mono',consolas,'Courier New',monospace\"><span style=\"font-weight: bold\"> Total params: </span><span style=\"color: #00af00; text-decoration-color: #00af00\">3,043</span> (11.89 KB)\n",
       "</pre>\n"
      ],
      "text/plain": [
       "\u001b[1m Total params: \u001b[0m\u001b[38;5;34m3,043\u001b[0m (11.89 KB)\n"
      ]
     },
     "metadata": {},
     "output_type": "display_data"
    },
    {
     "data": {
      "text/html": [
       "<pre style=\"white-space:pre;overflow-x:auto;line-height:normal;font-family:Menlo,'DejaVu Sans Mono',consolas,'Courier New',monospace\"><span style=\"font-weight: bold\"> Trainable params: </span><span style=\"color: #00af00; text-decoration-color: #00af00\">3,043</span> (11.89 KB)\n",
       "</pre>\n"
      ],
      "text/plain": [
       "\u001b[1m Trainable params: \u001b[0m\u001b[38;5;34m3,043\u001b[0m (11.89 KB)\n"
      ]
     },
     "metadata": {},
     "output_type": "display_data"
    },
    {
     "data": {
      "text/html": [
       "<pre style=\"white-space:pre;overflow-x:auto;line-height:normal;font-family:Menlo,'DejaVu Sans Mono',consolas,'Courier New',monospace\"><span style=\"font-weight: bold\"> Non-trainable params: </span><span style=\"color: #00af00; text-decoration-color: #00af00\">0</span> (0.00 B)\n",
       "</pre>\n"
      ],
      "text/plain": [
       "\u001b[1m Non-trainable params: \u001b[0m\u001b[38;5;34m0\u001b[0m (0.00 B)\n"
      ]
     },
     "metadata": {},
     "output_type": "display_data"
    }
   ],
   "source": [
    "model.summary()"
   ]
  },
  {
   "cell_type": "code",
   "execution_count": 285,
   "id": "51bbad4b-fb13-4b09-8df3-42ec3860b778",
   "metadata": {},
   "outputs": [
    {
     "name": "stdout",
     "output_type": "stream",
     "text": [
      "Epoch 1/70\n",
      "\u001b[1m51/51\u001b[0m \u001b[32m━━━━━━━━━━━━━━━━━━━━\u001b[0m\u001b[37m\u001b[0m \u001b[1m1s\u001b[0m 936us/step - accuracy: 0.4898 - loss: 1.0133     \n",
      "Epoch 2/70\n",
      "\u001b[1m51/51\u001b[0m \u001b[32m━━━━━━━━━━━━━━━━━━━━\u001b[0m\u001b[37m\u001b[0m \u001b[1m0s\u001b[0m 946us/step - accuracy: 0.9726 - loss: 0.5877\n",
      "Epoch 3/70\n",
      "\u001b[1m51/51\u001b[0m \u001b[32m━━━━━━━━━━━━━━━━━━━━\u001b[0m\u001b[37m\u001b[0m \u001b[1m0s\u001b[0m 755us/step - accuracy: 1.0000 - loss: 0.1830\n",
      "Epoch 4/70\n",
      "\u001b[1m51/51\u001b[0m \u001b[32m━━━━━━━━━━━━━━━━━━━━\u001b[0m\u001b[37m\u001b[0m \u001b[1m0s\u001b[0m 623us/step - accuracy: 1.0000 - loss: 0.0334\n",
      "Epoch 5/70\n",
      "\u001b[1m51/51\u001b[0m \u001b[32m━━━━━━━━━━━━━━━━━━━━\u001b[0m\u001b[37m\u001b[0m \u001b[1m0s\u001b[0m 937us/step - accuracy: 1.0000 - loss: 0.0122\n",
      "Epoch 6/70\n",
      "\u001b[1m51/51\u001b[0m \u001b[32m━━━━━━━━━━━━━━━━━━━━\u001b[0m\u001b[37m\u001b[0m \u001b[1m0s\u001b[0m 953us/step - accuracy: 1.0000 - loss: 0.0067\n",
      "Epoch 7/70\n",
      "\u001b[1m51/51\u001b[0m \u001b[32m━━━━━━━━━━━━━━━━━━━━\u001b[0m\u001b[37m\u001b[0m \u001b[1m0s\u001b[0m 951us/step - accuracy: 1.0000 - loss: 0.0042\n",
      "Epoch 8/70\n",
      "\u001b[1m51/51\u001b[0m \u001b[32m━━━━━━━━━━━━━━━━━━━━\u001b[0m\u001b[37m\u001b[0m \u001b[1m0s\u001b[0m 626us/step - accuracy: 1.0000 - loss: 0.0030\n",
      "Epoch 9/70\n",
      "\u001b[1m51/51\u001b[0m \u001b[32m━━━━━━━━━━━━━━━━━━━━\u001b[0m\u001b[37m\u001b[0m \u001b[1m0s\u001b[0m 956us/step - accuracy: 1.0000 - loss: 0.0022\n",
      "Epoch 10/70\n",
      "\u001b[1m51/51\u001b[0m \u001b[32m━━━━━━━━━━━━━━━━━━━━\u001b[0m\u001b[37m\u001b[0m \u001b[1m0s\u001b[0m 628us/step - accuracy: 1.0000 - loss: 0.0016\n",
      "Epoch 11/70\n",
      "\u001b[1m51/51\u001b[0m \u001b[32m━━━━━━━━━━━━━━━━━━━━\u001b[0m\u001b[37m\u001b[0m \u001b[1m0s\u001b[0m 632us/step - accuracy: 1.0000 - loss: 0.0013\n",
      "Epoch 12/70\n",
      "\u001b[1m51/51\u001b[0m \u001b[32m━━━━━━━━━━━━━━━━━━━━\u001b[0m\u001b[37m\u001b[0m \u001b[1m0s\u001b[0m 632us/step - accuracy: 1.0000 - loss: 9.7895e-04\n",
      "Epoch 13/70\n",
      "\u001b[1m51/51\u001b[0m \u001b[32m━━━━━━━━━━━━━━━━━━━━\u001b[0m\u001b[37m\u001b[0m \u001b[1m0s\u001b[0m 629us/step - accuracy: 1.0000 - loss: 8.4427e-04\n",
      "Epoch 14/70\n",
      "\u001b[1m51/51\u001b[0m \u001b[32m━━━━━━━━━━━━━━━━━━━━\u001b[0m\u001b[37m\u001b[0m \u001b[1m0s\u001b[0m 949us/step - accuracy: 1.0000 - loss: 6.9473e-04\n",
      "Epoch 15/70\n",
      "\u001b[1m51/51\u001b[0m \u001b[32m━━━━━━━━━━━━━━━━━━━━\u001b[0m\u001b[37m\u001b[0m \u001b[1m0s\u001b[0m 637us/step - accuracy: 1.0000 - loss: 5.9354e-04\n",
      "Epoch 16/70\n",
      "\u001b[1m51/51\u001b[0m \u001b[32m━━━━━━━━━━━━━━━━━━━━\u001b[0m\u001b[37m\u001b[0m \u001b[1m0s\u001b[0m 945us/step - accuracy: 1.0000 - loss: 4.9899e-04\n",
      "Epoch 17/70\n",
      "\u001b[1m51/51\u001b[0m \u001b[32m━━━━━━━━━━━━━━━━━━━━\u001b[0m\u001b[37m\u001b[0m \u001b[1m0s\u001b[0m 626us/step - accuracy: 1.0000 - loss: 4.4376e-04\n",
      "Epoch 18/70\n",
      "\u001b[1m51/51\u001b[0m \u001b[32m━━━━━━━━━━━━━━━━━━━━\u001b[0m\u001b[37m\u001b[0m \u001b[1m0s\u001b[0m 633us/step - accuracy: 1.0000 - loss: 3.9076e-04\n",
      "Epoch 19/70\n",
      "\u001b[1m51/51\u001b[0m \u001b[32m━━━━━━━━━━━━━━━━━━━━\u001b[0m\u001b[37m\u001b[0m \u001b[1m0s\u001b[0m 625us/step - accuracy: 1.0000 - loss: 3.3656e-04\n",
      "Epoch 20/70\n",
      "\u001b[1m51/51\u001b[0m \u001b[32m━━━━━━━━━━━━━━━━━━━━\u001b[0m\u001b[37m\u001b[0m \u001b[1m0s\u001b[0m 625us/step - accuracy: 1.0000 - loss: 3.0472e-04\n",
      "Epoch 21/70\n",
      "\u001b[1m51/51\u001b[0m \u001b[32m━━━━━━━━━━━━━━━━━━━━\u001b[0m\u001b[37m\u001b[0m \u001b[1m0s\u001b[0m 675us/step - accuracy: 1.0000 - loss: 2.6675e-04\n",
      "Epoch 22/70\n",
      "\u001b[1m51/51\u001b[0m \u001b[32m━━━━━━━━━━━━━━━━━━━━\u001b[0m\u001b[37m\u001b[0m \u001b[1m0s\u001b[0m 625us/step - accuracy: 1.0000 - loss: 2.4126e-04\n",
      "Epoch 23/70\n",
      "\u001b[1m51/51\u001b[0m \u001b[32m━━━━━━━━━━━━━━━━━━━━\u001b[0m\u001b[37m\u001b[0m \u001b[1m0s\u001b[0m 633us/step - accuracy: 1.0000 - loss: 2.1796e-04\n",
      "Epoch 24/70\n",
      "\u001b[1m51/51\u001b[0m \u001b[32m━━━━━━━━━━━━━━━━━━━━\u001b[0m\u001b[37m\u001b[0m \u001b[1m0s\u001b[0m 1ms/step - accuracy: 1.0000 - loss: 2.0246e-04\n",
      "Epoch 25/70\n",
      "\u001b[1m51/51\u001b[0m \u001b[32m━━━━━━━━━━━━━━━━━━━━\u001b[0m\u001b[37m\u001b[0m \u001b[1m0s\u001b[0m 629us/step - accuracy: 1.0000 - loss: 1.8416e-04\n",
      "Epoch 26/70\n",
      "\u001b[1m51/51\u001b[0m \u001b[32m━━━━━━━━━━━━━━━━━━━━\u001b[0m\u001b[37m\u001b[0m \u001b[1m0s\u001b[0m 633us/step - accuracy: 1.0000 - loss: 1.6536e-04\n",
      "Epoch 27/70\n",
      "\u001b[1m51/51\u001b[0m \u001b[32m━━━━━━━━━━━━━━━━━━━━\u001b[0m\u001b[37m\u001b[0m \u001b[1m0s\u001b[0m 625us/step - accuracy: 1.0000 - loss: 1.5687e-04\n",
      "Epoch 28/70\n",
      "\u001b[1m51/51\u001b[0m \u001b[32m━━━━━━━━━━━━━━━━━━━━\u001b[0m\u001b[37m\u001b[0m \u001b[1m0s\u001b[0m 755us/step - accuracy: 1.0000 - loss: 1.4039e-04\n",
      "Epoch 29/70\n",
      "\u001b[1m51/51\u001b[0m \u001b[32m━━━━━━━━━━━━━━━━━━━━\u001b[0m\u001b[37m\u001b[0m \u001b[1m0s\u001b[0m 629us/step - accuracy: 1.0000 - loss: 1.3344e-04\n",
      "Epoch 30/70\n",
      "\u001b[1m51/51\u001b[0m \u001b[32m━━━━━━━━━━━━━━━━━━━━\u001b[0m\u001b[37m\u001b[0m \u001b[1m0s\u001b[0m 946us/step - accuracy: 1.0000 - loss: 1.1902e-04\n",
      "Epoch 31/70\n",
      "\u001b[1m51/51\u001b[0m \u001b[32m━━━━━━━━━━━━━━━━━━━━\u001b[0m\u001b[37m\u001b[0m \u001b[1m0s\u001b[0m 718us/step - accuracy: 1.0000 - loss: 1.0870e-04\n",
      "Epoch 32/70\n",
      "\u001b[1m51/51\u001b[0m \u001b[32m━━━━━━━━━━━━━━━━━━━━\u001b[0m\u001b[37m\u001b[0m \u001b[1m0s\u001b[0m 945us/step - accuracy: 1.0000 - loss: 1.0662e-04\n",
      "Epoch 33/70\n",
      "\u001b[1m51/51\u001b[0m \u001b[32m━━━━━━━━━━━━━━━━━━━━\u001b[0m\u001b[37m\u001b[0m \u001b[1m0s\u001b[0m 634us/step - accuracy: 1.0000 - loss: 9.6961e-05\n",
      "Epoch 34/70\n",
      "\u001b[1m51/51\u001b[0m \u001b[32m━━━━━━━━━━━━━━━━━━━━\u001b[0m\u001b[37m\u001b[0m \u001b[1m0s\u001b[0m 629us/step - accuracy: 1.0000 - loss: 8.8221e-05\n",
      "Epoch 35/70\n",
      "\u001b[1m51/51\u001b[0m \u001b[32m━━━━━━━━━━━━━━━━━━━━\u001b[0m\u001b[37m\u001b[0m \u001b[1m0s\u001b[0m 948us/step - accuracy: 1.0000 - loss: 8.2306e-05\n",
      "Epoch 36/70\n",
      "\u001b[1m51/51\u001b[0m \u001b[32m━━━━━━━━━━━━━━━━━━━━\u001b[0m\u001b[37m\u001b[0m \u001b[1m0s\u001b[0m 631us/step - accuracy: 1.0000 - loss: 7.6357e-05\n",
      "Epoch 37/70\n",
      "\u001b[1m51/51\u001b[0m \u001b[32m━━━━━━━━━━━━━━━━━━━━\u001b[0m\u001b[37m\u001b[0m \u001b[1m0s\u001b[0m 632us/step - accuracy: 1.0000 - loss: 7.1594e-05\n",
      "Epoch 38/70\n",
      "\u001b[1m51/51\u001b[0m \u001b[32m━━━━━━━━━━━━━━━━━━━━\u001b[0m\u001b[37m\u001b[0m \u001b[1m0s\u001b[0m 819us/step - accuracy: 1.0000 - loss: 6.8313e-05\n",
      "Epoch 39/70\n",
      "\u001b[1m51/51\u001b[0m \u001b[32m━━━━━━━━━━━━━━━━━━━━\u001b[0m\u001b[37m\u001b[0m \u001b[1m0s\u001b[0m 633us/step - accuracy: 1.0000 - loss: 6.3843e-05\n",
      "Epoch 40/70\n",
      "\u001b[1m51/51\u001b[0m \u001b[32m━━━━━━━━━━━━━━━━━━━━\u001b[0m\u001b[37m\u001b[0m \u001b[1m0s\u001b[0m 634us/step - accuracy: 1.0000 - loss: 6.0733e-05\n",
      "Epoch 41/70\n",
      "\u001b[1m51/51\u001b[0m \u001b[32m━━━━━━━━━━━━━━━━━━━━\u001b[0m\u001b[37m\u001b[0m \u001b[1m0s\u001b[0m 953us/step - accuracy: 1.0000 - loss: 5.6686e-05\n",
      "Epoch 42/70\n",
      "\u001b[1m51/51\u001b[0m \u001b[32m━━━━━━━━━━━━━━━━━━━━\u001b[0m\u001b[37m\u001b[0m \u001b[1m0s\u001b[0m 887us/step - accuracy: 1.0000 - loss: 5.5465e-05\n",
      "Epoch 43/70\n",
      "\u001b[1m51/51\u001b[0m \u001b[32m━━━━━━━━━━━━━━━━━━━━\u001b[0m\u001b[37m\u001b[0m \u001b[1m0s\u001b[0m 955us/step - accuracy: 1.0000 - loss: 4.9082e-05\n",
      "Epoch 44/70\n",
      "\u001b[1m51/51\u001b[0m \u001b[32m━━━━━━━━━━━━━━━━━━━━\u001b[0m\u001b[37m\u001b[0m \u001b[1m0s\u001b[0m 943us/step - accuracy: 1.0000 - loss: 4.7537e-05\n",
      "Epoch 45/70\n",
      "\u001b[1m51/51\u001b[0m \u001b[32m━━━━━━━━━━━━━━━━━━━━\u001b[0m\u001b[37m\u001b[0m \u001b[1m0s\u001b[0m 959us/step - accuracy: 1.0000 - loss: 4.5211e-05\n",
      "Epoch 46/70\n",
      "\u001b[1m51/51\u001b[0m \u001b[32m━━━━━━━━━━━━━━━━━━━━\u001b[0m\u001b[37m\u001b[0m \u001b[1m0s\u001b[0m 633us/step - accuracy: 1.0000 - loss: 4.2240e-05\n",
      "Epoch 47/70\n",
      "\u001b[1m51/51\u001b[0m \u001b[32m━━━━━━━━━━━━━━━━━━━━\u001b[0m\u001b[37m\u001b[0m \u001b[1m0s\u001b[0m 630us/step - accuracy: 1.0000 - loss: 4.0884e-05\n",
      "Epoch 48/70\n",
      "\u001b[1m51/51\u001b[0m \u001b[32m━━━━━━━━━━━━━━━━━━━━\u001b[0m\u001b[37m\u001b[0m \u001b[1m0s\u001b[0m 641us/step - accuracy: 1.0000 - loss: 3.8668e-05\n",
      "Epoch 49/70\n",
      "\u001b[1m51/51\u001b[0m \u001b[32m━━━━━━━━━━━━━━━━━━━━\u001b[0m\u001b[37m\u001b[0m \u001b[1m0s\u001b[0m 629us/step - accuracy: 1.0000 - loss: 3.7752e-05\n",
      "Epoch 50/70\n",
      "\u001b[1m51/51\u001b[0m \u001b[32m━━━━━━━━━━━━━━━━━━━━\u001b[0m\u001b[37m\u001b[0m \u001b[1m0s\u001b[0m 955us/step - accuracy: 1.0000 - loss: 3.3290e-05\n",
      "Epoch 51/70\n",
      "\u001b[1m51/51\u001b[0m \u001b[32m━━━━━━━━━━━━━━━━━━━━\u001b[0m\u001b[37m\u001b[0m \u001b[1m0s\u001b[0m 638us/step - accuracy: 1.0000 - loss: 3.3393e-05\n",
      "Epoch 52/70\n",
      "\u001b[1m51/51\u001b[0m \u001b[32m━━━━━━━━━━━━━━━━━━━━\u001b[0m\u001b[37m\u001b[0m \u001b[1m0s\u001b[0m 949us/step - accuracy: 1.0000 - loss: 3.1255e-05\n",
      "Epoch 53/70\n",
      "\u001b[1m51/51\u001b[0m \u001b[32m━━━━━━━━━━━━━━━━━━━━\u001b[0m\u001b[37m\u001b[0m \u001b[1m0s\u001b[0m 516us/step - accuracy: 1.0000 - loss: 3.0124e-05\n",
      "Epoch 54/70\n",
      "\u001b[1m51/51\u001b[0m \u001b[32m━━━━━━━━━━━━━━━━━━━━\u001b[0m\u001b[37m\u001b[0m \u001b[1m0s\u001b[0m 859us/step - accuracy: 1.0000 - loss: 2.8675e-05\n",
      "Epoch 55/70\n",
      "\u001b[1m51/51\u001b[0m \u001b[32m━━━━━━━━━━━━━━━━━━━━\u001b[0m\u001b[37m\u001b[0m \u001b[1m0s\u001b[0m 631us/step - accuracy: 1.0000 - loss: 2.6941e-05\n",
      "Epoch 56/70\n",
      "\u001b[1m51/51\u001b[0m \u001b[32m━━━━━━━━━━━━━━━━━━━━\u001b[0m\u001b[37m\u001b[0m \u001b[1m0s\u001b[0m 643us/step - accuracy: 1.0000 - loss: 2.5454e-05\n",
      "Epoch 57/70\n",
      "\u001b[1m51/51\u001b[0m \u001b[32m━━━━━━━━━━━━━━━━━━━━\u001b[0m\u001b[37m\u001b[0m \u001b[1m0s\u001b[0m 625us/step - accuracy: 1.0000 - loss: 2.3943e-05\n",
      "Epoch 58/70\n",
      "\u001b[1m51/51\u001b[0m \u001b[32m━━━━━━━━━━━━━━━━━━━━\u001b[0m\u001b[37m\u001b[0m \u001b[1m0s\u001b[0m 633us/step - accuracy: 1.0000 - loss: 2.3837e-05\n",
      "Epoch 59/70\n",
      "\u001b[1m51/51\u001b[0m \u001b[32m━━━━━━━━━━━━━━━━━━━━\u001b[0m\u001b[37m\u001b[0m \u001b[1m0s\u001b[0m 626us/step - accuracy: 1.0000 - loss: 2.1907e-05\n",
      "Epoch 60/70\n",
      "\u001b[1m51/51\u001b[0m \u001b[32m━━━━━━━━━━━━━━━━━━━━\u001b[0m\u001b[37m\u001b[0m \u001b[1m0s\u001b[0m 630us/step - accuracy: 1.0000 - loss: 2.1499e-05\n",
      "Epoch 61/70\n",
      "\u001b[1m51/51\u001b[0m \u001b[32m━━━━━━━━━━━━━━━━━━━━\u001b[0m\u001b[37m\u001b[0m \u001b[1m0s\u001b[0m 970us/step - accuracy: 1.0000 - loss: 2.1482e-05\n",
      "Epoch 62/70\n",
      "\u001b[1m51/51\u001b[0m \u001b[32m━━━━━━━━━━━━━━━━━━━━\u001b[0m\u001b[37m\u001b[0m \u001b[1m0s\u001b[0m 632us/step - accuracy: 1.0000 - loss: 1.9434e-05\n",
      "Epoch 63/70\n",
      "\u001b[1m51/51\u001b[0m \u001b[32m━━━━━━━━━━━━━━━━━━━━\u001b[0m\u001b[37m\u001b[0m \u001b[1m0s\u001b[0m 751us/step - accuracy: 1.0000 - loss: 1.9115e-05\n",
      "Epoch 64/70\n",
      "\u001b[1m51/51\u001b[0m \u001b[32m━━━━━━━━━━━━━━━━━━━━\u001b[0m\u001b[37m\u001b[0m \u001b[1m0s\u001b[0m 642us/step - accuracy: 1.0000 - loss: 1.8058e-05\n",
      "Epoch 65/70\n",
      "\u001b[1m51/51\u001b[0m \u001b[32m━━━━━━━━━━━━━━━━━━━━\u001b[0m\u001b[37m\u001b[0m \u001b[1m0s\u001b[0m 954us/step - accuracy: 1.0000 - loss: 1.7649e-05\n",
      "Epoch 66/70\n",
      "\u001b[1m51/51\u001b[0m \u001b[32m━━━━━━━━━━━━━━━━━━━━\u001b[0m\u001b[37m\u001b[0m \u001b[1m0s\u001b[0m 954us/step - accuracy: 1.0000 - loss: 1.6710e-05\n",
      "Epoch 67/70\n",
      "\u001b[1m51/51\u001b[0m \u001b[32m━━━━━━━━━━━━━━━━━━━━\u001b[0m\u001b[37m\u001b[0m \u001b[1m0s\u001b[0m 951us/step - accuracy: 1.0000 - loss: 1.5987e-05\n",
      "Epoch 68/70\n",
      "\u001b[1m51/51\u001b[0m \u001b[32m━━━━━━━━━━━━━━━━━━━━\u001b[0m\u001b[37m\u001b[0m \u001b[1m0s\u001b[0m 704us/step - accuracy: 1.0000 - loss: 1.5168e-05\n",
      "Epoch 69/70\n",
      "\u001b[1m51/51\u001b[0m \u001b[32m━━━━━━━━━━━━━━━━━━━━\u001b[0m\u001b[37m\u001b[0m \u001b[1m0s\u001b[0m 629us/step - accuracy: 1.0000 - loss: 1.4309e-05\n",
      "Epoch 70/70\n",
      "\u001b[1m51/51\u001b[0m \u001b[32m━━━━━━━━━━━━━━━━━━━━\u001b[0m\u001b[37m\u001b[0m \u001b[1m0s\u001b[0m 2ms/step - accuracy: 1.0000 - loss: 1.4662e-05\n"
     ]
    }
   ],
   "source": [
    "\n",
    "history = model.fit(x_train_scaled, y_train, epochs=70)"
   ]
  },
  {
   "cell_type": "code",
   "execution_count": 287,
   "id": "c61c8a9c-0df3-4255-84ef-d6a02f071c20",
   "metadata": {},
   "outputs": [
    {
     "name": "stdout",
     "output_type": "stream",
     "text": [
      "\u001b[1m13/13\u001b[0m \u001b[32m━━━━━━━━━━━━━━━━━━━━\u001b[0m\u001b[37m\u001b[0m \u001b[1m0s\u001b[0m 334us/step - accuracy: 1.0000 - loss: 1.3253e-05\n",
      "Test Accuracy: 1.0\n"
     ]
    }
   ],
   "source": [
    "test_loss, test_accuracy = model.evaluate(x_test_scaled, y_test)\n",
    "print(f'Test Accuracy: {test_accuracy}')\n"
   ]
  },
  {
   "cell_type": "code",
   "execution_count": 288,
   "id": "3e0bc7b0-6b82-4538-aadb-e3d053c04865",
   "metadata": {},
   "outputs": [
    {
     "data": {
      "text/plain": [
       "[<matplotlib.lines.Line2D at 0x263a74598d0>]"
      ]
     },
     "execution_count": 288,
     "metadata": {},
     "output_type": "execute_result"
    },
    {
     "data": {
      "image/png": "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",
      "text/plain": [
       "<Figure size 640x480 with 1 Axes>"
      ]
     },
     "metadata": {},
     "output_type": "display_data"
    }
   ],
   "source": [
    "import matplotlib.pyplot as plt \n",
    "plt.plot(history.history['loss'])"
   ]
  },
  {
   "cell_type": "code",
   "execution_count": 289,
   "id": "af6029d5-94fd-4a0b-928e-68947003ec97",
   "metadata": {},
   "outputs": [
    {
     "data": {
      "image/png": "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",
      "text/plain": [
       "<Figure size 640x480 with 1 Axes>"
      ]
     },
     "metadata": {},
     "output_type": "display_data"
    }
   ],
   "source": [
    "plt.plot(history.history['accuracy'])\n",
    "plt.title('Model accuracy')\n",
    "plt.ylabel('Accuracy')\n",
    "plt.xlabel('Epoch')\n",
    "plt.legend(['Accuracy'], loc='lower right')\n",
    "plt.show()"
   ]
  },
  {
   "cell_type": "code",
   "execution_count": 290,
   "id": "77a3f169-78df-4909-8657-51219e7ff4b3",
   "metadata": {},
   "outputs": [
    {
     "name": "stdout",
     "output_type": "stream",
     "text": [
      "\u001b[1m13/13\u001b[0m \u001b[32m━━━━━━━━━━━━━━━━━━━━\u001b[0m\u001b[37m\u001b[0m \u001b[1m0s\u001b[0m 3ms/step \n"
     ]
    }
   ],
   "source": [
    "y_pred=model.predict(x_test_scaled)"
   ]
  },
  {
   "cell_type": "code",
   "execution_count": 291,
   "id": "36d2eeaa-b755-4215-9542-aa6fffabc8f4",
   "metadata": {},
   "outputs": [
    {
     "data": {
      "text/html": [
       "<div>\n",
       "<style scoped>\n",
       "    .dataframe tbody tr th:only-of-type {\n",
       "        vertical-align: middle;\n",
       "    }\n",
       "\n",
       "    .dataframe tbody tr th {\n",
       "        vertical-align: top;\n",
       "    }\n",
       "\n",
       "    .dataframe thead th {\n",
       "        text-align: right;\n",
       "    }\n",
       "</style>\n",
       "<table border=\"1\" class=\"dataframe\">\n",
       "  <thead>\n",
       "    <tr style=\"text-align: right;\">\n",
       "      <th></th>\n",
       "      <th>Decision</th>\n",
       "    </tr>\n",
       "  </thead>\n",
       "  <tbody>\n",
       "    <tr>\n",
       "      <th>1289</th>\n",
       "      <td>1</td>\n",
       "    </tr>\n",
       "    <tr>\n",
       "      <th>1573</th>\n",
       "      <td>1</td>\n",
       "    </tr>\n",
       "    <tr>\n",
       "      <th>1016</th>\n",
       "      <td>2</td>\n",
       "    </tr>\n",
       "    <tr>\n",
       "      <th>62</th>\n",
       "      <td>0</td>\n",
       "    </tr>\n",
       "    <tr>\n",
       "      <th>1579</th>\n",
       "      <td>1</td>\n",
       "    </tr>\n",
       "  </tbody>\n",
       "</table>\n",
       "</div>"
      ],
      "text/plain": [
       "      Decision \n",
       "1289          1\n",
       "1573          1\n",
       "1016          2\n",
       "62            0\n",
       "1579          1"
      ]
     },
     "execution_count": 291,
     "metadata": {},
     "output_type": "execute_result"
    }
   ],
   "source": [
    "y_train.head()"
   ]
  },
  {
   "cell_type": "code",
   "execution_count": 292,
   "id": "79f8b942-6666-4e24-8b67-d9125cf2ea48",
   "metadata": {},
   "outputs": [
    {
     "data": {
      "text/plain": [
       "array([[2.4990780e-12, 1.4151193e-07, 9.9999988e-01],\n",
       "       [3.4578920e-12, 2.7040355e-07, 9.9999976e-01],\n",
       "       [9.9998820e-01, 9.8779656e-06, 1.8539697e-06],\n",
       "       [9.9999642e-01, 3.2172336e-06, 4.0436416e-07],\n",
       "       [8.0612817e-12, 1.3177806e-06, 9.9999869e-01],\n",
       "       [6.0436495e-12, 7.7863291e-07, 9.9999917e-01],\n",
       "       [3.4361979e-11, 1.3375142e-05, 9.9998665e-01],\n",
       "       [4.8536272e-06, 9.9997532e-01, 1.9789271e-05],\n",
       "       [4.5275665e-06, 9.9998343e-01, 1.2078233e-05],\n",
       "       [2.0988703e-12, 9.8445895e-08, 9.9999988e-01],\n",
       "       [6.9908586e-11, 3.5839585e-05, 9.9996412e-01],\n",
       "       [4.2592464e-11, 1.8097635e-05, 9.9998188e-01],\n",
       "       [9.9999642e-01, 3.2371370e-06, 4.0658338e-07],\n",
       "       [5.6027470e-06, 9.9995518e-01, 3.9259241e-05],\n",
       "       [5.7563425e-12, 7.1007941e-07, 9.9999928e-01],\n",
       "       [9.9996603e-01, 2.7622149e-05, 6.3496900e-06],\n",
       "       [9.9997497e-01, 2.0542755e-05, 4.5259744e-06],\n",
       "       [4.6925315e-06, 9.9998903e-01, 6.2646818e-06],\n",
       "       [5.2495393e-06, 9.9998975e-01, 5.0046665e-06],\n",
       "       [9.9995196e-01, 3.8723585e-05, 9.2928613e-06]], dtype=float32)"
      ]
     },
     "execution_count": 292,
     "metadata": {},
     "output_type": "execute_result"
    }
   ],
   "source": [
    "y_pred[:20]"
   ]
  },
  {
   "cell_type": "code",
   "execution_count": 293,
   "id": "029bfa39-aceb-4f73-8334-690ed49ab01c",
   "metadata": {},
   "outputs": [
    {
     "data": {
      "text/html": [
       "<div>\n",
       "<style scoped>\n",
       "    .dataframe tbody tr th:only-of-type {\n",
       "        vertical-align: middle;\n",
       "    }\n",
       "\n",
       "    .dataframe tbody tr th {\n",
       "        vertical-align: top;\n",
       "    }\n",
       "\n",
       "    .dataframe thead th {\n",
       "        text-align: right;\n",
       "    }\n",
       "</style>\n",
       "<table border=\"1\" class=\"dataframe\">\n",
       "  <thead>\n",
       "    <tr style=\"text-align: right;\">\n",
       "      <th></th>\n",
       "      <th>Decision</th>\n",
       "    </tr>\n",
       "  </thead>\n",
       "  <tbody>\n",
       "    <tr>\n",
       "      <th>1043</th>\n",
       "      <td>2</td>\n",
       "    </tr>\n",
       "    <tr>\n",
       "      <th>1004</th>\n",
       "      <td>2</td>\n",
       "    </tr>\n",
       "    <tr>\n",
       "      <th>221</th>\n",
       "      <td>0</td>\n",
       "    </tr>\n",
       "    <tr>\n",
       "      <th>526</th>\n",
       "      <td>0</td>\n",
       "    </tr>\n",
       "    <tr>\n",
       "      <th>358</th>\n",
       "      <td>2</td>\n",
       "    </tr>\n",
       "    <tr>\n",
       "      <th>796</th>\n",
       "      <td>2</td>\n",
       "    </tr>\n",
       "    <tr>\n",
       "      <th>1951</th>\n",
       "      <td>2</td>\n",
       "    </tr>\n",
       "    <tr>\n",
       "      <th>1991</th>\n",
       "      <td>1</td>\n",
       "    </tr>\n",
       "    <tr>\n",
       "      <th>756</th>\n",
       "      <td>1</td>\n",
       "    </tr>\n",
       "    <tr>\n",
       "      <th>1280</th>\n",
       "      <td>2</td>\n",
       "    </tr>\n",
       "    <tr>\n",
       "      <th>120</th>\n",
       "      <td>2</td>\n",
       "    </tr>\n",
       "    <tr>\n",
       "      <th>1571</th>\n",
       "      <td>2</td>\n",
       "    </tr>\n",
       "    <tr>\n",
       "      <th>1839</th>\n",
       "      <td>0</td>\n",
       "    </tr>\n",
       "    <tr>\n",
       "      <th>1092</th>\n",
       "      <td>1</td>\n",
       "    </tr>\n",
       "    <tr>\n",
       "      <th>189</th>\n",
       "      <td>2</td>\n",
       "    </tr>\n",
       "    <tr>\n",
       "      <th>507</th>\n",
       "      <td>0</td>\n",
       "    </tr>\n",
       "    <tr>\n",
       "      <th>532</th>\n",
       "      <td>0</td>\n",
       "    </tr>\n",
       "    <tr>\n",
       "      <th>1113</th>\n",
       "      <td>1</td>\n",
       "    </tr>\n",
       "    <tr>\n",
       "      <th>1651</th>\n",
       "      <td>1</td>\n",
       "    </tr>\n",
       "    <tr>\n",
       "      <th>481</th>\n",
       "      <td>0</td>\n",
       "    </tr>\n",
       "  </tbody>\n",
       "</table>\n",
       "</div>"
      ],
      "text/plain": [
       "      Decision \n",
       "1043          2\n",
       "1004          2\n",
       "221           0\n",
       "526           0\n",
       "358           2\n",
       "796           2\n",
       "1951          2\n",
       "1991          1\n",
       "756           1\n",
       "1280          2\n",
       "120           2\n",
       "1571          2\n",
       "1839          0\n",
       "1092          1\n",
       "189           2\n",
       "507           0\n",
       "532           0\n",
       "1113          1\n",
       "1651          1\n",
       "481           0"
      ]
     },
     "execution_count": 293,
     "metadata": {},
     "output_type": "execute_result"
    }
   ],
   "source": [
    "y_test.head(20)"
   ]
  },
  {
   "cell_type": "code",
   "execution_count": 294,
   "id": "09420777-2872-4727-a052-d06e67eb4536",
   "metadata": {},
   "outputs": [
    {
     "data": {
      "text/plain": [
       "array([[0.22134579, 0.5       , 0.52387991, 0.56876719, 1.        ],\n",
       "       [0.36066932, 0.5       , 0.63396459, 0.69067267, 1.        ],\n",
       "       [0.09709778, 1.        , 0.90207852, 0.33983496, 1.        ],\n",
       "       [0.75882025, 0.        , 0.07248653, 0.79032258, 0.        ],\n",
       "       [0.1861934 , 0.5       , 0.4961047 , 0.5380095 , 1.        ],\n",
       "       [0.74058673, 0.        , 0.04267898, 0.77381845, 0.        ],\n",
       "       [0.92416513, 0.        , 0.34278676, 0.939985  , 0.        ],\n",
       "       [0.0737343 , 1.        , 0.8517321 , 0.25806452, 1.        ],\n",
       "       [0.20334091, 0.5       , 0.50965358, 0.55301325, 1.        ],\n",
       "       [0.40782498, 0.5       , 0.67122402, 0.73193298, 1.        ]])"
      ]
     },
     "execution_count": 294,
     "metadata": {},
     "output_type": "execute_result"
    }
   ],
   "source": [
    "x_train_scaled[:10]"
   ]
  },
  {
   "cell_type": "code",
   "execution_count": 295,
   "id": "64baf4fb-1230-4d3c-95e1-41443e00bb47",
   "metadata": {},
   "outputs": [
    {
     "data": {
      "text/html": [
       "<div>\n",
       "<style scoped>\n",
       "    .dataframe tbody tr th:only-of-type {\n",
       "        vertical-align: middle;\n",
       "    }\n",
       "\n",
       "    .dataframe tbody tr th {\n",
       "        vertical-align: top;\n",
       "    }\n",
       "\n",
       "    .dataframe thead th {\n",
       "        text-align: right;\n",
       "    }\n",
       "</style>\n",
       "<table border=\"1\" class=\"dataframe\">\n",
       "  <thead>\n",
       "    <tr style=\"text-align: right;\">\n",
       "      <th></th>\n",
       "      <th>Distance</th>\n",
       "      <th>Pressure</th>\n",
       "      <th>HRV</th>\n",
       "      <th>SpO2</th>\n",
       "      <th>Accelerometer</th>\n",
       "    </tr>\n",
       "  </thead>\n",
       "  <tbody>\n",
       "    <tr>\n",
       "      <th>1289</th>\n",
       "      <td>15.490</td>\n",
       "      <td>1.0</td>\n",
       "      <td>94.026</td>\n",
       "      <td>82.745</td>\n",
       "      <td>1.0</td>\n",
       "    </tr>\n",
       "    <tr>\n",
       "      <th>1573</th>\n",
       "      <td>25.240</td>\n",
       "      <td>1.0</td>\n",
       "      <td>101.176</td>\n",
       "      <td>87.620</td>\n",
       "      <td>1.0</td>\n",
       "    </tr>\n",
       "    <tr>\n",
       "      <th>1016</th>\n",
       "      <td>6.795</td>\n",
       "      <td>2.0</td>\n",
       "      <td>118.590</td>\n",
       "      <td>73.590</td>\n",
       "      <td>1.0</td>\n",
       "    </tr>\n",
       "    <tr>\n",
       "      <th>62</th>\n",
       "      <td>53.103</td>\n",
       "      <td>0.0</td>\n",
       "      <td>64.708</td>\n",
       "      <td>91.605</td>\n",
       "      <td>0.0</td>\n",
       "    </tr>\n",
       "    <tr>\n",
       "      <th>1579</th>\n",
       "      <td>13.030</td>\n",
       "      <td>1.0</td>\n",
       "      <td>92.222</td>\n",
       "      <td>81.515</td>\n",
       "      <td>1.0</td>\n",
       "    </tr>\n",
       "    <tr>\n",
       "      <th>278</th>\n",
       "      <td>51.827</td>\n",
       "      <td>0.0</td>\n",
       "      <td>62.772</td>\n",
       "      <td>90.945</td>\n",
       "      <td>0.0</td>\n",
       "    </tr>\n",
       "    <tr>\n",
       "      <th>1194</th>\n",
       "      <td>64.674</td>\n",
       "      <td>0.0</td>\n",
       "      <td>82.264</td>\n",
       "      <td>97.590</td>\n",
       "      <td>0.0</td>\n",
       "    </tr>\n",
       "    <tr>\n",
       "      <th>561</th>\n",
       "      <td>5.160</td>\n",
       "      <td>2.0</td>\n",
       "      <td>115.320</td>\n",
       "      <td>70.320</td>\n",
       "      <td>1.0</td>\n",
       "    </tr>\n",
       "    <tr>\n",
       "      <th>818</th>\n",
       "      <td>14.230</td>\n",
       "      <td>1.0</td>\n",
       "      <td>93.102</td>\n",
       "      <td>82.115</td>\n",
       "      <td>1.0</td>\n",
       "    </tr>\n",
       "    <tr>\n",
       "      <th>1834</th>\n",
       "      <td>28.540</td>\n",
       "      <td>1.0</td>\n",
       "      <td>103.596</td>\n",
       "      <td>89.270</td>\n",
       "      <td>1.0</td>\n",
       "    </tr>\n",
       "  </tbody>\n",
       "</table>\n",
       "</div>"
      ],
      "text/plain": [
       "      Distance  Pressure      HRV    SpO2  Accelerometer\n",
       "1289    15.490       1.0   94.026  82.745            1.0\n",
       "1573    25.240       1.0  101.176  87.620            1.0\n",
       "1016     6.795       2.0  118.590  73.590            1.0\n",
       "62      53.103       0.0   64.708  91.605            0.0\n",
       "1579    13.030       1.0   92.222  81.515            1.0\n",
       "278     51.827       0.0   62.772  90.945            0.0\n",
       "1194    64.674       0.0   82.264  97.590            0.0\n",
       "561      5.160       2.0  115.320  70.320            1.0\n",
       "818     14.230       1.0   93.102  82.115            1.0\n",
       "1834    28.540       1.0  103.596  89.270            1.0"
      ]
     },
     "execution_count": 295,
     "metadata": {},
     "output_type": "execute_result"
    }
   ],
   "source": [
    "x_train[:10]"
   ]
  },
  {
   "cell_type": "code",
   "execution_count": 296,
   "id": "a3b875cb-c3bc-409c-a763-4f1be008fa8d",
   "metadata": {},
   "outputs": [],
   "source": [
    "import numpy as np\n",
    "\n",
    "def convert_to_class(y_pred):\n",
    "  max_indices = np.argmax(y_pred, axis=1)\n",
    "  return max_indices\n"
   ]
  },
  {
   "cell_type": "code",
   "execution_count": 297,
   "id": "00d1222c-46dd-4e86-a92d-8749e930af80",
   "metadata": {},
   "outputs": [
    {
     "name": "stdout",
     "output_type": "stream",
     "text": [
      "[2 2 0 0 2 2 2 1 1 2 2 2 0 1 2 0 0 1 1 0 2 0 1 0 2 1 0 0 0 0 2 1 2 0 0 1 0\n",
      " 0 0 1 2 2 2 1 2 1 2 0 0 0 0 0 0 2 2 2 1 2 2 1 2 2 2 2 1 1 2 2 0 0 1 1 1 2\n",
      " 0 1 0 2 2 1 0 0 0 2 2 2 0 2 2 2 1 2 1 0 1 2 1 2 1 2 0 1 0 2 0 0 0 1 2 2 0\n",
      " 2 0 0 2 2 2 0 2 0 2 0 0 0 2 1 1 2 0 1 2 0 0 2 2 2 0 1 2 2 1 0 0 0 0 1 1 0\n",
      " 1 1 2 2 2 2 0 1 1 2 1 1 1 2 1 1 1 2 0 2 2 0 0 1 1 2 0 1 1 1 0 1 1 0 0 2 0\n",
      " 2 1 1 2 1 2 2 1 0 0 2 0 0 2 1 0 1 1 1 2 1 0 1 1 2 0 2 0 2 0 1 1 2 1 2 0 1\n",
      " 1 0 1 0 2 2 1 1 0 0 2 2 1 1 0 2 2 0 2 2 2 1 2 0 0 1 1 0 0 0 1 0 1 0 0 0 0\n",
      " 2 2 2 1 1 2 1 0 0 1 2 2 0 0 0 0 1 0 0 0 0 2 2 0 2 1 2 0 0 2 0 1 0 0 2 1 1\n",
      " 2 0 2 1 1 0 0 1 0 1 1 1 2 1 2 2 1 1 1 2 0 2 1 0 2 1 1 1 2 0 1 1 0 0 0 2 1\n",
      " 0 2 1 1 0 0 1 2 0 2 2 0 2 2 0 0 1 0 2 0 1 1 1 1 2 0 2 0 1 1 0 2 2 2 0 1 0\n",
      " 1 2 2 1 2 1 1 1 1 2 1 1 0 0 2 1 0 0 0 1 0 1 1 0 2 2 0 0 1 2 2 1 1 0 1 0 1\n",
      " 1]\n"
     ]
    }
   ],
   "source": [
    "y_true = convert_to_class(y_pred)\n",
    "print(y_true)"
   ]
  },
  {
   "cell_type": "code",
   "execution_count": 298,
   "id": "998c2c83-c755-4b17-a8fd-14a4bfa86b1b",
   "metadata": {},
   "outputs": [
    {
     "data": {
      "text/html": [
       "<div>\n",
       "<style scoped>\n",
       "    .dataframe tbody tr th:only-of-type {\n",
       "        vertical-align: middle;\n",
       "    }\n",
       "\n",
       "    .dataframe tbody tr th {\n",
       "        vertical-align: top;\n",
       "    }\n",
       "\n",
       "    .dataframe thead th {\n",
       "        text-align: right;\n",
       "    }\n",
       "</style>\n",
       "<table border=\"1\" class=\"dataframe\">\n",
       "  <thead>\n",
       "    <tr style=\"text-align: right;\">\n",
       "      <th></th>\n",
       "      <th>Decision</th>\n",
       "    </tr>\n",
       "  </thead>\n",
       "  <tbody>\n",
       "    <tr>\n",
       "      <th>1043</th>\n",
       "      <td>2</td>\n",
       "    </tr>\n",
       "    <tr>\n",
       "      <th>1004</th>\n",
       "      <td>2</td>\n",
       "    </tr>\n",
       "    <tr>\n",
       "      <th>221</th>\n",
       "      <td>0</td>\n",
       "    </tr>\n",
       "    <tr>\n",
       "      <th>526</th>\n",
       "      <td>0</td>\n",
       "    </tr>\n",
       "    <tr>\n",
       "      <th>358</th>\n",
       "      <td>2</td>\n",
       "    </tr>\n",
       "    <tr>\n",
       "      <th>796</th>\n",
       "      <td>2</td>\n",
       "    </tr>\n",
       "    <tr>\n",
       "      <th>1951</th>\n",
       "      <td>2</td>\n",
       "    </tr>\n",
       "    <tr>\n",
       "      <th>1991</th>\n",
       "      <td>1</td>\n",
       "    </tr>\n",
       "    <tr>\n",
       "      <th>756</th>\n",
       "      <td>1</td>\n",
       "    </tr>\n",
       "    <tr>\n",
       "      <th>1280</th>\n",
       "      <td>2</td>\n",
       "    </tr>\n",
       "  </tbody>\n",
       "</table>\n",
       "</div>"
      ],
      "text/plain": [
       "      Decision \n",
       "1043          2\n",
       "1004          2\n",
       "221           0\n",
       "526           0\n",
       "358           2\n",
       "796           2\n",
       "1951          2\n",
       "1991          1\n",
       "756           1\n",
       "1280          2"
      ]
     },
     "execution_count": 298,
     "metadata": {},
     "output_type": "execute_result"
    }
   ],
   "source": [
    "y_test[:10]"
   ]
  },
  {
   "cell_type": "code",
   "execution_count": 299,
   "id": "aeb64380-9f97-4ae5-8459-ec549bfb0588",
   "metadata": {},
   "outputs": [
    {
     "data": {
      "text/plain": [
       "1.0"
      ]
     },
     "execution_count": 299,
     "metadata": {},
     "output_type": "execute_result"
    }
   ],
   "source": [
    "from sklearn.metrics import accuracy_score\n",
    "accuracy_score(y_test,y_true)"
   ]
  },
  {
   "cell_type": "code",
   "execution_count": 300,
   "id": "d55f6287-782d-460d-a6b8-98b0191837aa",
   "metadata": {},
   "outputs": [
    {
     "name": "stdout",
     "output_type": "stream",
     "text": [
      "\u001b[1m1/1\u001b[0m \u001b[32m━━━━━━━━━━━━━━━━━━━━\u001b[0m\u001b[37m\u001b[0m \u001b[1m0s\u001b[0m 16ms/step\n"
     ]
    },
    {
     "data": {
      "text/plain": [
       "array([[4.5332513e-06, 9.9998319e-01, 1.2260458e-05]], dtype=float32)"
      ]
     },
     "execution_count": 300,
     "metadata": {},
     "output_type": "execute_result"
    }
   ],
   "source": [
    "model.predict(x_train_scaled[[0]])"
   ]
  },
  {
   "cell_type": "code",
   "execution_count": 302,
   "id": "88c278a3-7f62-4e86-a480-71cf492e85bf",
   "metadata": {},
   "outputs": [
    {
     "name": "stdout",
     "output_type": "stream",
     "text": [
      "\u001b[1m51/51\u001b[0m \u001b[32m━━━━━━━━━━━━━━━━━━━━\u001b[0m\u001b[37m\u001b[0m \u001b[1m0s\u001b[0m 751us/step\n"
     ]
    },
    {
     "data": {
      "text/plain": [
       "array([[4.5332513e-06, 9.9998319e-01, 1.2260458e-05],\n",
       "       [5.8151454e-06, 9.9998975e-01, 4.4561093e-06],\n",
       "       [1.3581618e-11, 3.2622504e-06, 9.9999678e-01],\n",
       "       ...,\n",
       "       [2.8736017e-12, 1.8751648e-07, 9.9999976e-01],\n",
       "       [9.9997449e-01, 2.0892789e-05, 4.6173873e-06],\n",
       "       [1.7682982e-11, 5.1602356e-06, 9.9999487e-01]], dtype=float32)"
      ]
     },
     "execution_count": 302,
     "metadata": {},
     "output_type": "execute_result"
    }
   ],
   "source": [
    "model.predict(x_train_scaled)"
   ]
  },
  {
   "cell_type": "code",
   "execution_count": 334,
   "id": "780c5d2d-3eef-454f-acf1-1fc4fe927f7e",
   "metadata": {},
   "outputs": [],
   "source": [
    "import numpy as np\n",
    "\n",
    "\n",
    "def predict_fall(model, input_array):\n",
    "    with open('scaler.pkl', 'rb') as f:\n",
    "        scaler = pickle.load(f)\n",
    "    input_reshaped = np.array(input_array)\n",
    "    scaled_input=scaler.transform([input_reshaped]).flatten()\n",
    "    input_2d=np.array([scaled_input])\n",
    "    print(scaled_input)\n",
    "    output=model.predict(input_2d)\n",
    "\n",
    "    return np.argmax(output, axis=1)[0]\n",
    "    #return output"
   ]
  },
  {
   "cell_type": "code",
   "execution_count": null,
   "id": "c542b05e-de6b-45d7-9f0f-f1a042b15e48",
   "metadata": {},
   "outputs": [],
   "source": []
  },
  {
   "cell_type": "code",
   "execution_count": 341,
   "id": "56f9e6c8-2b95-411b-9bef-a3125cf33316",
   "metadata": {},
   "outputs": [
    {
     "name": "stdout",
     "output_type": "stream",
     "text": [
      "[0.02593561 1.         0.74872979 0.09077269 1.        ]\n",
      "\u001b[1m1/1\u001b[0m \u001b[32m━━━━━━━━━━━━━━━━━━━━\u001b[0m\u001b[37m\u001b[0m \u001b[1m0s\u001b[0m 16ms/step\n",
      "[0.02593561 1.         0.74872979 0.09077269 1.        ]\n",
      "\u001b[1m1/1\u001b[0m \u001b[32m━━━━━━━━━━━━━━━━━━━━\u001b[0m\u001b[37m\u001b[0m \u001b[1m0s\u001b[0m 16ms/step\n",
      "[0.02593561 1.         0.74872979 0.09077269 1.        ]\n",
      "\u001b[1m1/1\u001b[0m \u001b[32m━━━━━━━━━━━━━━━━━━━━\u001b[0m\u001b[37m\u001b[0m \u001b[1m0s\u001b[0m 16ms/step\n",
      "person just fell !\n"
     ]
    },
    {
     "name": "stderr",
     "output_type": "stream",
     "text": [
      "C:\\Users\\GIRIRAJ ROY\\anaconda3\\Lib\\site-packages\\sklearn\\base.py:493: UserWarning: X does not have valid feature names, but MinMaxScaler was fitted with feature names\n",
      "  warnings.warn(\n",
      "C:\\Users\\GIRIRAJ ROY\\anaconda3\\Lib\\site-packages\\sklearn\\base.py:493: UserWarning: X does not have valid feature names, but MinMaxScaler was fitted with feature names\n",
      "  warnings.warn(\n",
      "C:\\Users\\GIRIRAJ ROY\\anaconda3\\Lib\\site-packages\\sklearn\\base.py:493: UserWarning: X does not have valid feature names, but MinMaxScaler was fitted with feature names\n",
      "  warnings.warn(\n"
     ]
    }
   ],
   "source": [
    predict_fall(model,[1.815,\t2.0\t,108.630\t,63.63\t,1.0]):\n",
   ]
  },
  {
   "cell_type": "code",
   "execution_count": 336,
   "id": "7255e84f-f818-4348-8749-092af05c6b8a",
   "metadata": {},
   "outputs": [
    {
     "data": {
      "text/plain": [
       "array([[0.02593561, 1.        , 0.74872979, 0.09077269, 1.        ],\n",
       "       [0.04244009, 1.        , 0.78429561, 0.14853713, 1.        ],\n",
       "       [0.85703262, 0.        , 0.2330408 , 0.8792198 , 0.        ],\n",
       "       ...,\n",
       "       [0.88977008, 0.        , 0.28655889, 0.90885221, 0.        ],\n",
       "       [0.19048027, 0.5       , 0.49949192, 0.54176044, 1.        ],\n",
       "       [0.39239222, 0.5       , 0.65903002, 0.71842961, 1.        ]])"
      ]
     },
     "execution_count": 336,
     "metadata": {},
     "output_type": "execute_result"
    }
   ],
   "source": [
    "x_test_scaled"
   ]
  },
  {
   "cell_type": "code",
   "execution_count": 337,
   "id": "202a35af-d89a-47c3-84f8-bacda67ea0ab",
   "metadata": {},
   "outputs": [
    {
     "data": {
      "text/html": [
       "<div>\n",
       "<style scoped>\n",
       "    .dataframe tbody tr th:only-of-type {\n",
       "        vertical-align: middle;\n",
       "    }\n",
       "\n",
       "    .dataframe tbody tr th {\n",
       "        vertical-align: top;\n",
       "    }\n",
       "\n",
       "    .dataframe thead th {\n",
       "        text-align: right;\n",
       "    }\n",
       "</style>\n",
       "<table border=\"1\" class=\"dataframe\">\n",
       "  <thead>\n",
       "    <tr style=\"text-align: right;\">\n",
       "      <th></th>\n",
       "      <th>Distance</th>\n",
       "      <th>Pressure</th>\n",
       "      <th>HRV</th>\n",
       "      <th>SpO2</th>\n",
       "      <th>Accelerometer</th>\n",
       "    </tr>\n",
       "  </thead>\n",
       "  <tbody>\n",
       "    <tr>\n",
       "      <th>1043</th>\n",
       "      <td>1.815</td>\n",
       "      <td>2.0</td>\n",
       "      <td>108.630</td>\n",
       "      <td>63.63</td>\n",
       "      <td>1.0</td>\n",
       "    </tr>\n",
       "    <tr>\n",
       "      <th>1004</th>\n",
       "      <td>2.970</td>\n",
       "      <td>2.0</td>\n",
       "      <td>110.940</td>\n",
       "      <td>65.94</td>\n",
       "      <td>1.0</td>\n",
       "    </tr>\n",
       "    <tr>\n",
       "      <th>221</th>\n",
       "      <td>59.976</td>\n",
       "      <td>0.0</td>\n",
       "      <td>75.136</td>\n",
       "      <td>95.16</td>\n",
       "      <td>0.0</td>\n",
       "    </tr>\n",
       "  </tbody>\n",
       "</table>\n",
       "</div>"
      ],
      "text/plain": [
       "      Distance  Pressure      HRV   SpO2  Accelerometer\n",
       "1043     1.815       2.0  108.630  63.63            1.0\n",
       "1004     2.970       2.0  110.940  65.94            1.0\n",
       "221     59.976       0.0   75.136  95.16            0.0"
      ]
     },
     "execution_count": 337,
     "metadata": {},
     "output_type": "execute_result"
    }
   ],
   "source": [
    "x_test.head(3)"
   ]
  },
  {
   "cell_type": "code",
   "execution_count": 338,
   "id": "841ed695-358c-4326-9500-3867ad9aeb9f",
   "metadata": {},
   "outputs": [
    {
     "data": {
      "text/html": [
       "<div>\n",
       "<style scoped>\n",
       "    .dataframe tbody tr th:only-of-type {\n",
       "        vertical-align: middle;\n",
       "    }\n",
       "\n",
       "    .dataframe tbody tr th {\n",
       "        vertical-align: top;\n",
       "    }\n",
       "\n",
       "    .dataframe thead th {\n",
       "        text-align: right;\n",
       "    }\n",
       "</style>\n",
       "<table border=\"1\" class=\"dataframe\">\n",
       "  <thead>\n",
       "    <tr style=\"text-align: right;\">\n",
       "      <th></th>\n",
       "      <th>Decision</th>\n",
       "    </tr>\n",
       "  </thead>\n",
       "  <tbody>\n",
       "    <tr>\n",
       "      <th>1043</th>\n",
       "      <td>2</td>\n",
       "    </tr>\n",
       "    <tr>\n",
       "      <th>1004</th>\n",
       "      <td>2</td>\n",
       "    </tr>\n",
       "    <tr>\n",
       "      <th>221</th>\n",
       "      <td>0</td>\n",
       "    </tr>\n",
       "  </tbody>\n",
       "</table>\n",
       "</div>"
      ],
      "text/plain": [
       "      Decision \n",
       "1043          2\n",
       "1004          2\n",
       "221           0"
      ]
     },
     "execution_count": 338,
     "metadata": {},
     "output_type": "execute_result"
    }
   ],
   "source": [
    "y_test.head(3)"
   ]
  },
  {
   "cell_type": "code",
   "execution_count": null,
   "id": "7be35bcb-77e2-4d30-bdaa-fa0fdbf905ec",
   "metadata": {},
   "outputs": [],
   "source": []
  },
  {
   "cell_type": "code",
   "execution_count": null,
   "id": "5b203e3f-c8a7-4c8d-90b6-0ed76c91d249",
   "metadata": {},
   "outputs": [],
   "source": []
  },
  {
   "cell_type": "code",
   "execution_count": null,
   "id": "e2b07a17-1733-49be-95f9-d49eb1e2f005",
   "metadata": {},
   "outputs": [],
   "source": []
  },
  {
   "cell_type": "code",
   "execution_count": null,
   "id": "47895f8e-bad7-425a-97be-86c2416e520a",
   "metadata": {},
   "outputs": [],
   "source": []
  },
  {
   "cell_type": "code",
   "execution_count": null,
   "id": "b0853bcd-a2c3-4e2e-a4b5-2d8936634be0",
   "metadata": {},
   "outputs": [],
   "source": []
  }
 ],
 "metadata": {
  "kernelspec": {
   "display_name": "Python 3 (ipykernel)",
   "language": "python",
   "name": "python3"
  },
  "language_info": {
   "codemirror_mode": {
    "name": "ipython",
    "version": 3
   },
   "file_extension": ".py",
   "mimetype": "text/x-python",
   "name": "python",
   "nbconvert_exporter": "python",
   "pygments_lexer": "ipython3",
   "version": "3.11.5"
  }
 },
 "nbformat": 4,
 "nbformat_minor": 5
}
